{
 "cells": [
  {
   "cell_type": "markdown",
   "id": "f0289b88",
   "metadata": {
    "papermill": {
     "duration": 0.004241,
     "end_time": "2025-03-29T21:22:18.131929",
     "exception": false,
     "start_time": "2025-03-29T21:22:18.127688",
     "status": "completed"
    },
    "tags": []
   },
   "source": [
    "# Overview\n",
    "- MNIST dataset\n",
    "  + Goal: recognizing handwritten digits\n",
    "  + Input: a 28x28 image\n",
    "  + Output: class label (0, 1,..., 9)\n",
    "- Defining an MLP for MNIST\n",
    "- Training and evaluating an MLP"
   ]
  },
  {
   "cell_type": "markdown",
   "id": "b7199d88",
   "metadata": {
    "papermill": {
     "duration": 0.003293,
     "end_time": "2025-03-29T21:22:18.139058",
     "exception": false,
     "start_time": "2025-03-29T21:22:18.135765",
     "status": "completed"
    },
    "tags": []
   },
   "source": [
    "# Import libraries"
   ]
  },
  {
   "cell_type": "code",
   "execution_count": 1,
   "id": "950ffa78",
   "metadata": {
    "execution": {
     "iopub.execute_input": "2025-03-29T21:22:18.147545Z",
     "iopub.status.busy": "2025-03-29T21:22:18.147150Z",
     "iopub.status.idle": "2025-03-29T21:22:35.781974Z",
     "shell.execute_reply": "2025-03-29T21:22:35.780921Z"
    },
    "papermill": {
     "duration": 17.641548,
     "end_time": "2025-03-29T21:22:35.784131",
     "exception": false,
     "start_time": "2025-03-29T21:22:18.142583",
     "status": "completed"
    },
    "tags": []
   },
   "outputs": [],
   "source": [
    "import keras\n",
    "from keras.datasets import mnist\n",
    "from keras.models import Model\n",
    "from keras.layers import Input, Flatten, Dense, Dropout\n",
    "from keras.optimizers import SGD\n",
    "\n",
    "from IPython.display import SVG\n",
    "from tensorflow.keras.utils import model_to_dot\n",
    "\n",
    "import time\n",
    "import numpy as np\n",
    "import matplotlib.pyplot as plt"
   ]
  },
  {
   "cell_type": "code",
   "execution_count": 2,
   "id": "0013781d",
   "metadata": {
    "execution": {
     "iopub.execute_input": "2025-03-29T21:22:35.793216Z",
     "iopub.status.busy": "2025-03-29T21:22:35.792558Z",
     "iopub.status.idle": "2025-03-29T21:22:35.797563Z",
     "shell.execute_reply": "2025-03-29T21:22:35.796426Z"
    },
    "papermill": {
     "duration": 0.01137,
     "end_time": "2025-03-29T21:22:35.799347",
     "exception": false,
     "start_time": "2025-03-29T21:22:35.787977",
     "status": "completed"
    },
    "tags": []
   },
   "outputs": [],
   "source": [
    "num_classes = 10   # 10 classes: 0, 1,..., 9"
   ]
  },
  {
   "cell_type": "markdown",
   "id": "5f4772cc",
   "metadata": {
    "papermill": {
     "duration": 0.003404,
     "end_time": "2025-03-29T21:22:35.806426",
     "exception": false,
     "start_time": "2025-03-29T21:22:35.803022",
     "status": "completed"
    },
    "tags": []
   },
   "source": [
    "# (1) Data"
   ]
  },
  {
   "cell_type": "code",
   "execution_count": 3,
   "id": "33719b14",
   "metadata": {
    "execution": {
     "iopub.execute_input": "2025-03-29T21:22:35.814716Z",
     "iopub.status.busy": "2025-03-29T21:22:35.814325Z",
     "iopub.status.idle": "2025-03-29T21:22:36.440845Z",
     "shell.execute_reply": "2025-03-29T21:22:36.439579Z"
    },
    "papermill": {
     "duration": 0.632888,
     "end_time": "2025-03-29T21:22:36.442812",
     "exception": false,
     "start_time": "2025-03-29T21:22:35.809924",
     "status": "completed"
    },
    "tags": []
   },
   "outputs": [
    {
     "name": "stdout",
     "output_type": "stream",
     "text": [
      "Downloading data from https://storage.googleapis.com/tensorflow/tf-keras-datasets/mnist.npz\n",
      "\u001b[1m11490434/11490434\u001b[0m \u001b[32m━━━━━━━━━━━━━━━━━━━━\u001b[0m\u001b[37m\u001b[0m \u001b[1m0s\u001b[0m 0us/step\n",
      "60000 train samples\n",
      "10000 test samples\n"
     ]
    }
   ],
   "source": [
    "# the data, shuffled and split between train and test sets\n",
    "(x_train, y_train), (x_test, y_test) = mnist.load_data()\n",
    "\n",
    "x_train = x_train.reshape(60000, 28, 28)\n",
    "x_test = x_test.reshape(10000, 28, 28)\n",
    "x_train = x_train.astype('float32')\n",
    "x_test = x_test.astype('float32')\n",
    "x_train /= 255\n",
    "x_test /= 255\n",
    "print(x_train.shape[0], 'train samples')\n",
    "print(x_test.shape[0], 'test samples')\n",
    "\n",
    "# convert class vectors to binary class matrices\n",
    "y_train = keras.utils.to_categorical(y_train, num_classes)\n",
    "y_test = keras.utils.to_categorical(y_test, num_classes)"
   ]
  },
  {
   "cell_type": "markdown",
   "id": "b776d3d9",
   "metadata": {
    "papermill": {
     "duration": 0.003961,
     "end_time": "2025-03-29T21:22:36.450909",
     "exception": false,
     "start_time": "2025-03-29T21:22:36.446948",
     "status": "completed"
    },
    "tags": []
   },
   "source": [
    "# (2) Declare model"
   ]
  },
  {
   "cell_type": "code",
   "execution_count": 4,
   "id": "58532db0",
   "metadata": {
    "execution": {
     "iopub.execute_input": "2025-03-29T21:22:36.460325Z",
     "iopub.status.busy": "2025-03-29T21:22:36.459916Z",
     "iopub.status.idle": "2025-03-29T21:22:36.592548Z",
     "shell.execute_reply": "2025-03-29T21:22:36.591330Z"
    },
    "papermill": {
     "duration": 0.13926,
     "end_time": "2025-03-29T21:22:36.594234",
     "exception": false,
     "start_time": "2025-03-29T21:22:36.454974",
     "status": "completed"
    },
    "tags": []
   },
   "outputs": [
    {
     "data": {
      "text/html": [
       "<pre style=\"white-space:pre;overflow-x:auto;line-height:normal;font-family:Menlo,'DejaVu Sans Mono',consolas,'Courier New',monospace\"><span style=\"font-weight: bold\">Model: \"mnist_mlp\"</span>\n",
       "</pre>\n"
      ],
      "text/plain": [
       "\u001b[1mModel: \"mnist_mlp\"\u001b[0m\n"
      ]
     },
     "metadata": {},
     "output_type": "display_data"
    },
    {
     "data": {
      "text/html": [
       "<pre style=\"white-space:pre;overflow-x:auto;line-height:normal;font-family:Menlo,'DejaVu Sans Mono',consolas,'Courier New',monospace\">┏━━━━━━━━━━━━━━━━━━━━━━━━━━━━━━━━━━━━━━┳━━━━━━━━━━━━━━━━━━━━━━━━━━━━━┳━━━━━━━━━━━━━━━━━┓\n",
       "┃<span style=\"font-weight: bold\"> Layer (type)                         </span>┃<span style=\"font-weight: bold\"> Output Shape                </span>┃<span style=\"font-weight: bold\">         Param # </span>┃\n",
       "┡━━━━━━━━━━━━━━━━━━━━━━━━━━━━━━━━━━━━━━╇━━━━━━━━━━━━━━━━━━━━━━━━━━━━━╇━━━━━━━━━━━━━━━━━┩\n",
       "│ Input (<span style=\"color: #0087ff; text-decoration-color: #0087ff\">InputLayer</span>)                   │ (<span style=\"color: #00d7ff; text-decoration-color: #00d7ff\">None</span>, <span style=\"color: #00af00; text-decoration-color: #00af00\">28</span>, <span style=\"color: #00af00; text-decoration-color: #00af00\">28</span>)              │               <span style=\"color: #00af00; text-decoration-color: #00af00\">0</span> │\n",
       "├──────────────────────────────────────┼─────────────────────────────┼─────────────────┤\n",
       "│ flatten (<span style=\"color: #0087ff; text-decoration-color: #0087ff\">Flatten</span>)                    │ (<span style=\"color: #00d7ff; text-decoration-color: #00d7ff\">None</span>, <span style=\"color: #00af00; text-decoration-color: #00af00\">784</span>)                 │               <span style=\"color: #00af00; text-decoration-color: #00af00\">0</span> │\n",
       "├──────────────────────────────────────┼─────────────────────────────┼─────────────────┤\n",
       "│ fc1 (<span style=\"color: #0087ff; text-decoration-color: #0087ff\">Dense</span>)                          │ (<span style=\"color: #00d7ff; text-decoration-color: #00d7ff\">None</span>, <span style=\"color: #00af00; text-decoration-color: #00af00\">512</span>)                 │         <span style=\"color: #00af00; text-decoration-color: #00af00\">401,920</span> │\n",
       "├──────────────────────────────────────┼─────────────────────────────┼─────────────────┤\n",
       "│ dropout1 (<span style=\"color: #0087ff; text-decoration-color: #0087ff\">Dropout</span>)                   │ (<span style=\"color: #00d7ff; text-decoration-color: #00d7ff\">None</span>, <span style=\"color: #00af00; text-decoration-color: #00af00\">512</span>)                 │               <span style=\"color: #00af00; text-decoration-color: #00af00\">0</span> │\n",
       "├──────────────────────────────────────┼─────────────────────────────┼─────────────────┤\n",
       "│ fc2 (<span style=\"color: #0087ff; text-decoration-color: #0087ff\">Dense</span>)                          │ (<span style=\"color: #00d7ff; text-decoration-color: #00d7ff\">None</span>, <span style=\"color: #00af00; text-decoration-color: #00af00\">512</span>)                 │         <span style=\"color: #00af00; text-decoration-color: #00af00\">262,656</span> │\n",
       "├──────────────────────────────────────┼─────────────────────────────┼─────────────────┤\n",
       "│ dropout2 (<span style=\"color: #0087ff; text-decoration-color: #0087ff\">Dropout</span>)                   │ (<span style=\"color: #00d7ff; text-decoration-color: #00d7ff\">None</span>, <span style=\"color: #00af00; text-decoration-color: #00af00\">512</span>)                 │               <span style=\"color: #00af00; text-decoration-color: #00af00\">0</span> │\n",
       "├──────────────────────────────────────┼─────────────────────────────┼─────────────────┤\n",
       "│ fc3_10ways_softmax (<span style=\"color: #0087ff; text-decoration-color: #0087ff\">Dense</span>)           │ (<span style=\"color: #00d7ff; text-decoration-color: #00d7ff\">None</span>, <span style=\"color: #00af00; text-decoration-color: #00af00\">10</span>)                  │           <span style=\"color: #00af00; text-decoration-color: #00af00\">5,130</span> │\n",
       "└──────────────────────────────────────┴─────────────────────────────┴─────────────────┘\n",
       "</pre>\n"
      ],
      "text/plain": [
       "┏━━━━━━━━━━━━━━━━━━━━━━━━━━━━━━━━━━━━━━┳━━━━━━━━━━━━━━━━━━━━━━━━━━━━━┳━━━━━━━━━━━━━━━━━┓\n",
       "┃\u001b[1m \u001b[0m\u001b[1mLayer (type)                        \u001b[0m\u001b[1m \u001b[0m┃\u001b[1m \u001b[0m\u001b[1mOutput Shape               \u001b[0m\u001b[1m \u001b[0m┃\u001b[1m \u001b[0m\u001b[1m        Param #\u001b[0m\u001b[1m \u001b[0m┃\n",
       "┡━━━━━━━━━━━━━━━━━━━━━━━━━━━━━━━━━━━━━━╇━━━━━━━━━━━━━━━━━━━━━━━━━━━━━╇━━━━━━━━━━━━━━━━━┩\n",
       "│ Input (\u001b[38;5;33mInputLayer\u001b[0m)                   │ (\u001b[38;5;45mNone\u001b[0m, \u001b[38;5;34m28\u001b[0m, \u001b[38;5;34m28\u001b[0m)              │               \u001b[38;5;34m0\u001b[0m │\n",
       "├──────────────────────────────────────┼─────────────────────────────┼─────────────────┤\n",
       "│ flatten (\u001b[38;5;33mFlatten\u001b[0m)                    │ (\u001b[38;5;45mNone\u001b[0m, \u001b[38;5;34m784\u001b[0m)                 │               \u001b[38;5;34m0\u001b[0m │\n",
       "├──────────────────────────────────────┼─────────────────────────────┼─────────────────┤\n",
       "│ fc1 (\u001b[38;5;33mDense\u001b[0m)                          │ (\u001b[38;5;45mNone\u001b[0m, \u001b[38;5;34m512\u001b[0m)                 │         \u001b[38;5;34m401,920\u001b[0m │\n",
       "├──────────────────────────────────────┼─────────────────────────────┼─────────────────┤\n",
       "│ dropout1 (\u001b[38;5;33mDropout\u001b[0m)                   │ (\u001b[38;5;45mNone\u001b[0m, \u001b[38;5;34m512\u001b[0m)                 │               \u001b[38;5;34m0\u001b[0m │\n",
       "├──────────────────────────────────────┼─────────────────────────────┼─────────────────┤\n",
       "│ fc2 (\u001b[38;5;33mDense\u001b[0m)                          │ (\u001b[38;5;45mNone\u001b[0m, \u001b[38;5;34m512\u001b[0m)                 │         \u001b[38;5;34m262,656\u001b[0m │\n",
       "├──────────────────────────────────────┼─────────────────────────────┼─────────────────┤\n",
       "│ dropout2 (\u001b[38;5;33mDropout\u001b[0m)                   │ (\u001b[38;5;45mNone\u001b[0m, \u001b[38;5;34m512\u001b[0m)                 │               \u001b[38;5;34m0\u001b[0m │\n",
       "├──────────────────────────────────────┼─────────────────────────────┼─────────────────┤\n",
       "│ fc3_10ways_softmax (\u001b[38;5;33mDense\u001b[0m)           │ (\u001b[38;5;45mNone\u001b[0m, \u001b[38;5;34m10\u001b[0m)                  │           \u001b[38;5;34m5,130\u001b[0m │\n",
       "└──────────────────────────────────────┴─────────────────────────────┴─────────────────┘\n"
      ]
     },
     "metadata": {},
     "output_type": "display_data"
    },
    {
     "data": {
      "text/html": [
       "<pre style=\"white-space:pre;overflow-x:auto;line-height:normal;font-family:Menlo,'DejaVu Sans Mono',consolas,'Courier New',monospace\"><span style=\"font-weight: bold\"> Total params: </span><span style=\"color: #00af00; text-decoration-color: #00af00\">669,706</span> (2.55 MB)\n",
       "</pre>\n"
      ],
      "text/plain": [
       "\u001b[1m Total params: \u001b[0m\u001b[38;5;34m669,706\u001b[0m (2.55 MB)\n"
      ]
     },
     "metadata": {},
     "output_type": "display_data"
    },
    {
     "data": {
      "text/html": [
       "<pre style=\"white-space:pre;overflow-x:auto;line-height:normal;font-family:Menlo,'DejaVu Sans Mono',consolas,'Courier New',monospace\"><span style=\"font-weight: bold\"> Trainable params: </span><span style=\"color: #00af00; text-decoration-color: #00af00\">669,706</span> (2.55 MB)\n",
       "</pre>\n"
      ],
      "text/plain": [
       "\u001b[1m Trainable params: \u001b[0m\u001b[38;5;34m669,706\u001b[0m (2.55 MB)\n"
      ]
     },
     "metadata": {},
     "output_type": "display_data"
    },
    {
     "data": {
      "text/html": [
       "<pre style=\"white-space:pre;overflow-x:auto;line-height:normal;font-family:Menlo,'DejaVu Sans Mono',consolas,'Courier New',monospace\"><span style=\"font-weight: bold\"> Non-trainable params: </span><span style=\"color: #00af00; text-decoration-color: #00af00\">0</span> (0.00 B)\n",
       "</pre>\n"
      ],
      "text/plain": [
       "\u001b[1m Non-trainable params: \u001b[0m\u001b[38;5;34m0\u001b[0m (0.00 B)\n"
      ]
     },
     "metadata": {},
     "output_type": "display_data"
    }
   ],
   "source": [
    "# 28x28 MNIST image\n",
    "input_image = Input(shape=(28, 28), name='Input')\n",
    "\n",
    "# matrix ---> vector\n",
    "x = Flatten(name='flatten')(input_image)\n",
    "\n",
    "# FC layers + dropout\n",
    "x = Dense(units=512, activation='relu', name='fc1')(x)\n",
    "x = Dropout(rate=0.2, name='dropout1')(x)\n",
    "\n",
    "x = Dense(units=512, activation='relu', name='fc2')(x)\n",
    "x = Dropout(rate=0.2, name='dropout2')(x)\n",
    "\n",
    "output_label = Dense(units=num_classes, activation='softmax', name='fc3_10ways_softmax')(x)\n",
    "\n",
    "# define model\n",
    "model = Model(inputs=input_image, outputs=output_label, name='mnist_mlp')\n",
    "\n",
    "# print model summary\n",
    "model.summary()"
   ]
  },
  {
   "cell_type": "code",
   "execution_count": 5,
   "id": "099c60e3",
   "metadata": {
    "execution": {
     "iopub.execute_input": "2025-03-29T21:22:36.604781Z",
     "iopub.status.busy": "2025-03-29T21:22:36.604422Z",
     "iopub.status.idle": "2025-03-29T21:22:36.921006Z",
     "shell.execute_reply": "2025-03-29T21:22:36.919736Z"
    },
    "papermill": {
     "duration": 0.323977,
     "end_time": "2025-03-29T21:22:36.922890",
     "exception": false,
     "start_time": "2025-03-29T21:22:36.598913",
     "status": "completed"
    },
    "tags": []
   },
   "outputs": [
    {
     "data": {
      "image/svg+xml": [
       "<svg xmlns=\"http://www.w3.org/2000/svg\" xmlns:xlink=\"http://www.w3.org/1999/xlink\" width=\"1078pt\" height=\"2256pt\" viewBox=\"0.00 0.00 388.00 812.00\">\n",
       "<g id=\"graph0\" class=\"graph\" transform=\"scale(2.78 2.78) rotate(0) translate(4 808)\">\n",
       "<title>G</title>\n",
       "<polygon fill=\"white\" stroke=\"transparent\" points=\"-4,4 -4,-808 384,-808 384,4 -4,4\"/>\n",
       "<!-- 133869729012352 -->\n",
       "<g id=\"node1\" class=\"node\">\n",
       "<title>133869729012352</title>\n",
       "<polygon fill=\"none\" stroke=\"black\" points=\"87,-720.5 87,-803.5 293,-803.5 293,-720.5 87,-720.5\"/>\n",
       "<polygon fill=\"black\" stroke=\"transparent\" points=\"87,-720.5 87,-803.5 293,-803.5 293,-720.5 87,-720.5\"/>\n",
       "<polygon fill=\"black\" stroke=\"transparent\" points=\"89,-761 89,-801 291,-801 291,-761 89,-761\"/>\n",
       "<polygon fill=\"none\" stroke=\"black\" points=\"89,-761 89,-801 291,-801 291,-761 89,-761\"/>\n",
       "<text text-anchor=\"start\" x=\"124\" y=\"-778.2\" font-family=\"Helvetica,sans-Serif\" font-weight=\"bold\" font-size=\"16.00\" fill=\"white\">Input</text>\n",
       "<text text-anchor=\"start\" x=\"164\" y=\"-778.2\" font-family=\"Helvetica,sans-Serif\" font-size=\"16.00\" fill=\"white\"> (InputLayer)</text>\n",
       "<polygon fill=\"white\" stroke=\"transparent\" points=\"89,-722 89,-759 289,-759 289,-722 89,-722\"/>\n",
       "<polygon fill=\"none\" stroke=\"black\" points=\"89,-722 89,-759 289,-759 289,-722 89,-722\"/>\n",
       "<text text-anchor=\"start\" x=\"100\" y=\"-737.8\" font-family=\"Helvetica,sans-Serif\" font-size=\"14.00\">Output shape: </text>\n",
       "<text text-anchor=\"start\" x=\"190\" y=\"-737.8\" font-family=\"Helvetica,sans-Serif\" font-weight=\"bold\" font-size=\"14.00\">(None, 28, 28)</text>\n",
       "</g>\n",
       "<!-- 133869729009184 -->\n",
       "<g id=\"node2\" class=\"node\">\n",
       "<title>133869729009184</title>\n",
       "<polygon fill=\"none\" stroke=\"black\" points=\"0,-600.5 0,-683.5 380,-683.5 380,-600.5 0,-600.5\"/>\n",
       "<polygon fill=\"black\" stroke=\"transparent\" points=\"0,-600.5 0,-683.5 380,-683.5 380,-600.5 0,-600.5\"/>\n",
       "<polygon fill=\"black\" stroke=\"transparent\" points=\"2,-641 2,-681 378,-681 378,-641 2,-641\"/>\n",
       "<polygon fill=\"none\" stroke=\"black\" points=\"2,-641 2,-681 378,-681 378,-641 2,-641\"/>\n",
       "<text text-anchor=\"start\" x=\"133\" y=\"-658.2\" font-family=\"Helvetica,sans-Serif\" font-weight=\"bold\" font-size=\"16.00\" fill=\"white\">flatten</text>\n",
       "<text text-anchor=\"start\" x=\"182\" y=\"-658.2\" font-family=\"Helvetica,sans-Serif\" font-size=\"16.00\" fill=\"white\"> (Flatten)</text>\n",
       "<polygon fill=\"white\" stroke=\"transparent\" points=\"2,-602 2,-639 191,-639 191,-602 2,-602\"/>\n",
       "<polygon fill=\"none\" stroke=\"black\" points=\"2,-602 2,-639 191,-639 191,-602 2,-602\"/>\n",
       "<text text-anchor=\"start\" x=\"13\" y=\"-617.8\" font-family=\"Helvetica,sans-Serif\" font-size=\"14.00\">Input shape: </text>\n",
       "<text text-anchor=\"start\" x=\"92\" y=\"-617.8\" font-family=\"Helvetica,sans-Serif\" font-weight=\"bold\" font-size=\"14.00\">(None, 28, 28)</text>\n",
       "<polygon fill=\"white\" stroke=\"transparent\" points=\"193,-602 193,-639 378,-639 378,-602 193,-602\"/>\n",
       "<polygon fill=\"none\" stroke=\"black\" points=\"193,-602 193,-639 378,-639 378,-602 193,-602\"/>\n",
       "<text text-anchor=\"start\" x=\"204\" y=\"-617.8\" font-family=\"Helvetica,sans-Serif\" font-size=\"14.00\">Output shape: </text>\n",
       "<text text-anchor=\"start\" x=\"294\" y=\"-617.8\" font-family=\"Helvetica,sans-Serif\" font-weight=\"bold\" font-size=\"14.00\">(None, 784)</text>\n",
       "</g>\n",
       "<!-- 133869729012352&#45;&gt;133869729009184 -->\n",
       "<g id=\"edge1\" class=\"edge\">\n",
       "<title>133869729012352-&gt;133869729009184</title>\n",
       "<path fill=\"none\" stroke=\"black\" stroke-width=\"2\" d=\"M190,-720.37C190,-720.37 190,-693.56 190,-693.56\"/>\n",
       "<polygon fill=\"black\" stroke=\"black\" stroke-width=\"2\" points=\"193.5,-693.56 190,-683.56 186.5,-693.56 193.5,-693.56\"/>\n",
       "</g>\n",
       "<!-- 133869729016528 -->\n",
       "<g id=\"node3\" class=\"node\">\n",
       "<title>133869729016528</title>\n",
       "<polygon fill=\"none\" stroke=\"black\" points=\"7.5,-480.5 7.5,-563.5 372.5,-563.5 372.5,-480.5 7.5,-480.5\"/>\n",
       "<polygon fill=\"black\" stroke=\"transparent\" points=\"7.5,-480.5 7.5,-563.5 372.5,-563.5 372.5,-480.5 7.5,-480.5\"/>\n",
       "<polygon fill=\"black\" stroke=\"transparent\" points=\"10,-521 10,-561 371,-561 371,-521 10,-521\"/>\n",
       "<polygon fill=\"none\" stroke=\"black\" points=\"10,-521 10,-561 371,-561 371,-521 10,-521\"/>\n",
       "<text text-anchor=\"start\" x=\"147.5\" y=\"-538.2\" font-family=\"Helvetica,sans-Serif\" font-weight=\"bold\" font-size=\"16.00\" fill=\"white\">fc1</text>\n",
       "<text text-anchor=\"start\" x=\"171.5\" y=\"-538.2\" font-family=\"Helvetica,sans-Serif\" font-size=\"16.00\" fill=\"white\"> (Dense)</text>\n",
       "<polygon fill=\"white\" stroke=\"transparent\" points=\"10,-482 10,-519 184,-519 184,-482 10,-482\"/>\n",
       "<polygon fill=\"none\" stroke=\"black\" points=\"10,-482 10,-519 184,-519 184,-482 10,-482\"/>\n",
       "<text text-anchor=\"start\" x=\"21\" y=\"-497.8\" font-family=\"Helvetica,sans-Serif\" font-size=\"14.00\">Input shape: </text>\n",
       "<text text-anchor=\"start\" x=\"100\" y=\"-497.8\" font-family=\"Helvetica,sans-Serif\" font-weight=\"bold\" font-size=\"14.00\">(None, 784)</text>\n",
       "<polygon fill=\"white\" stroke=\"transparent\" points=\"186,-482 186,-519 371,-519 371,-482 186,-482\"/>\n",
       "<polygon fill=\"none\" stroke=\"black\" points=\"186,-482 186,-519 371,-519 371,-482 186,-482\"/>\n",
       "<text text-anchor=\"start\" x=\"197\" y=\"-497.8\" font-family=\"Helvetica,sans-Serif\" font-size=\"14.00\">Output shape: </text>\n",
       "<text text-anchor=\"start\" x=\"287\" y=\"-497.8\" font-family=\"Helvetica,sans-Serif\" font-weight=\"bold\" font-size=\"14.00\">(None, 512)</text>\n",
       "</g>\n",
       "<!-- 133869729009184&#45;&gt;133869729016528 -->\n",
       "<g id=\"edge2\" class=\"edge\">\n",
       "<title>133869729009184-&gt;133869729016528</title>\n",
       "<path fill=\"none\" stroke=\"black\" stroke-width=\"2\" d=\"M190,-600.37C190,-600.37 190,-573.56 190,-573.56\"/>\n",
       "<polygon fill=\"black\" stroke=\"black\" stroke-width=\"2\" points=\"193.5,-573.56 190,-563.56 186.5,-573.56 193.5,-573.56\"/>\n",
       "</g>\n",
       "<!-- 133869729010960 -->\n",
       "<g id=\"node4\" class=\"node\">\n",
       "<title>133869729010960</title>\n",
       "<polygon fill=\"none\" stroke=\"black\" points=\"7.5,-360.5 7.5,-443.5 372.5,-443.5 372.5,-360.5 7.5,-360.5\"/>\n",
       "<polygon fill=\"black\" stroke=\"transparent\" points=\"7.5,-360.5 7.5,-443.5 372.5,-443.5 372.5,-360.5 7.5,-360.5\"/>\n",
       "<polygon fill=\"black\" stroke=\"transparent\" points=\"10,-401 10,-441 371,-441 371,-401 10,-401\"/>\n",
       "<polygon fill=\"none\" stroke=\"black\" points=\"10,-401 10,-441 371,-441 371,-401 10,-401\"/>\n",
       "<text text-anchor=\"start\" x=\"119\" y=\"-418.2\" font-family=\"Helvetica,sans-Serif\" font-weight=\"bold\" font-size=\"16.00\" fill=\"white\">dropout1</text>\n",
       "<text text-anchor=\"start\" x=\"189\" y=\"-418.2\" font-family=\"Helvetica,sans-Serif\" font-size=\"16.00\" fill=\"white\"> (Dropout)</text>\n",
       "<polygon fill=\"white\" stroke=\"transparent\" points=\"10,-362 10,-399 184,-399 184,-362 10,-362\"/>\n",
       "<polygon fill=\"none\" stroke=\"black\" points=\"10,-362 10,-399 184,-399 184,-362 10,-362\"/>\n",
       "<text text-anchor=\"start\" x=\"21\" y=\"-377.8\" font-family=\"Helvetica,sans-Serif\" font-size=\"14.00\">Input shape: </text>\n",
       "<text text-anchor=\"start\" x=\"100\" y=\"-377.8\" font-family=\"Helvetica,sans-Serif\" font-weight=\"bold\" font-size=\"14.00\">(None, 512)</text>\n",
       "<polygon fill=\"white\" stroke=\"transparent\" points=\"186,-362 186,-399 371,-399 371,-362 186,-362\"/>\n",
       "<polygon fill=\"none\" stroke=\"black\" points=\"186,-362 186,-399 371,-399 371,-362 186,-362\"/>\n",
       "<text text-anchor=\"start\" x=\"197\" y=\"-377.8\" font-family=\"Helvetica,sans-Serif\" font-size=\"14.00\">Output shape: </text>\n",
       "<text text-anchor=\"start\" x=\"287\" y=\"-377.8\" font-family=\"Helvetica,sans-Serif\" font-weight=\"bold\" font-size=\"14.00\">(None, 512)</text>\n",
       "</g>\n",
       "<!-- 133869729016528&#45;&gt;133869729010960 -->\n",
       "<g id=\"edge3\" class=\"edge\">\n",
       "<title>133869729016528-&gt;133869729010960</title>\n",
       "<path fill=\"none\" stroke=\"black\" stroke-width=\"2\" d=\"M190,-480.37C190,-480.37 190,-453.56 190,-453.56\"/>\n",
       "<polygon fill=\"black\" stroke=\"black\" stroke-width=\"2\" points=\"193.5,-453.56 190,-443.56 186.5,-453.56 193.5,-453.56\"/>\n",
       "</g>\n",
       "<!-- 133869729217888 -->\n",
       "<g id=\"node5\" class=\"node\">\n",
       "<title>133869729217888</title>\n",
       "<polygon fill=\"none\" stroke=\"black\" points=\"7.5,-240.5 7.5,-323.5 372.5,-323.5 372.5,-240.5 7.5,-240.5\"/>\n",
       "<polygon fill=\"black\" stroke=\"transparent\" points=\"7.5,-240.5 7.5,-323.5 372.5,-323.5 372.5,-240.5 7.5,-240.5\"/>\n",
       "<polygon fill=\"black\" stroke=\"transparent\" points=\"10,-281 10,-321 371,-321 371,-281 10,-281\"/>\n",
       "<polygon fill=\"none\" stroke=\"black\" points=\"10,-281 10,-321 371,-321 371,-281 10,-281\"/>\n",
       "<text text-anchor=\"start\" x=\"147.5\" y=\"-298.2\" font-family=\"Helvetica,sans-Serif\" font-weight=\"bold\" font-size=\"16.00\" fill=\"white\">fc2</text>\n",
       "<text text-anchor=\"start\" x=\"171.5\" y=\"-298.2\" font-family=\"Helvetica,sans-Serif\" font-size=\"16.00\" fill=\"white\"> (Dense)</text>\n",
       "<polygon fill=\"white\" stroke=\"transparent\" points=\"10,-242 10,-279 184,-279 184,-242 10,-242\"/>\n",
       "<polygon fill=\"none\" stroke=\"black\" points=\"10,-242 10,-279 184,-279 184,-242 10,-242\"/>\n",
       "<text text-anchor=\"start\" x=\"21\" y=\"-257.8\" font-family=\"Helvetica,sans-Serif\" font-size=\"14.00\">Input shape: </text>\n",
       "<text text-anchor=\"start\" x=\"100\" y=\"-257.8\" font-family=\"Helvetica,sans-Serif\" font-weight=\"bold\" font-size=\"14.00\">(None, 512)</text>\n",
       "<polygon fill=\"white\" stroke=\"transparent\" points=\"186,-242 186,-279 371,-279 371,-242 186,-242\"/>\n",
       "<polygon fill=\"none\" stroke=\"black\" points=\"186,-242 186,-279 371,-279 371,-242 186,-242\"/>\n",
       "<text text-anchor=\"start\" x=\"197\" y=\"-257.8\" font-family=\"Helvetica,sans-Serif\" font-size=\"14.00\">Output shape: </text>\n",
       "<text text-anchor=\"start\" x=\"287\" y=\"-257.8\" font-family=\"Helvetica,sans-Serif\" font-weight=\"bold\" font-size=\"14.00\">(None, 512)</text>\n",
       "</g>\n",
       "<!-- 133869729010960&#45;&gt;133869729217888 -->\n",
       "<g id=\"edge4\" class=\"edge\">\n",
       "<title>133869729010960-&gt;133869729217888</title>\n",
       "<path fill=\"none\" stroke=\"black\" stroke-width=\"2\" d=\"M190,-360.37C190,-360.37 190,-333.56 190,-333.56\"/>\n",
       "<polygon fill=\"black\" stroke=\"black\" stroke-width=\"2\" points=\"193.5,-333.56 190,-323.56 186.5,-333.56 193.5,-333.56\"/>\n",
       "</g>\n",
       "<!-- 133869729213040 -->\n",
       "<g id=\"node6\" class=\"node\">\n",
       "<title>133869729213040</title>\n",
       "<polygon fill=\"none\" stroke=\"black\" points=\"7.5,-120.5 7.5,-203.5 372.5,-203.5 372.5,-120.5 7.5,-120.5\"/>\n",
       "<polygon fill=\"black\" stroke=\"transparent\" points=\"7.5,-120.5 7.5,-203.5 372.5,-203.5 372.5,-120.5 7.5,-120.5\"/>\n",
       "<polygon fill=\"black\" stroke=\"transparent\" points=\"10,-161 10,-201 371,-201 371,-161 10,-161\"/>\n",
       "<polygon fill=\"none\" stroke=\"black\" points=\"10,-161 10,-201 371,-201 371,-161 10,-161\"/>\n",
       "<text text-anchor=\"start\" x=\"119\" y=\"-178.2\" font-family=\"Helvetica,sans-Serif\" font-weight=\"bold\" font-size=\"16.00\" fill=\"white\">dropout2</text>\n",
       "<text text-anchor=\"start\" x=\"189\" y=\"-178.2\" font-family=\"Helvetica,sans-Serif\" font-size=\"16.00\" fill=\"white\"> (Dropout)</text>\n",
       "<polygon fill=\"white\" stroke=\"transparent\" points=\"10,-122 10,-159 184,-159 184,-122 10,-122\"/>\n",
       "<polygon fill=\"none\" stroke=\"black\" points=\"10,-122 10,-159 184,-159 184,-122 10,-122\"/>\n",
       "<text text-anchor=\"start\" x=\"21\" y=\"-137.8\" font-family=\"Helvetica,sans-Serif\" font-size=\"14.00\">Input shape: </text>\n",
       "<text text-anchor=\"start\" x=\"100\" y=\"-137.8\" font-family=\"Helvetica,sans-Serif\" font-weight=\"bold\" font-size=\"14.00\">(None, 512)</text>\n",
       "<polygon fill=\"white\" stroke=\"transparent\" points=\"186,-122 186,-159 371,-159 371,-122 186,-122\"/>\n",
       "<polygon fill=\"none\" stroke=\"black\" points=\"186,-122 186,-159 371,-159 371,-122 186,-122\"/>\n",
       "<text text-anchor=\"start\" x=\"197\" y=\"-137.8\" font-family=\"Helvetica,sans-Serif\" font-size=\"14.00\">Output shape: </text>\n",
       "<text text-anchor=\"start\" x=\"287\" y=\"-137.8\" font-family=\"Helvetica,sans-Serif\" font-weight=\"bold\" font-size=\"14.00\">(None, 512)</text>\n",
       "</g>\n",
       "<!-- 133869729217888&#45;&gt;133869729213040 -->\n",
       "<g id=\"edge5\" class=\"edge\">\n",
       "<title>133869729217888-&gt;133869729213040</title>\n",
       "<path fill=\"none\" stroke=\"black\" stroke-width=\"2\" d=\"M190,-240.37C190,-240.37 190,-213.56 190,-213.56\"/>\n",
       "<polygon fill=\"black\" stroke=\"black\" stroke-width=\"2\" points=\"193.5,-213.56 190,-203.56 186.5,-213.56 193.5,-213.56\"/>\n",
       "</g>\n",
       "<!-- 133869729208384 -->\n",
       "<g id=\"node7\" class=\"node\">\n",
       "<title>133869729208384</title>\n",
       "<polygon fill=\"none\" stroke=\"black\" points=\"11,-0.5 11,-83.5 369,-83.5 369,-0.5 11,-0.5\"/>\n",
       "<polygon fill=\"black\" stroke=\"transparent\" points=\"11,-0.5 11,-83.5 369,-83.5 369,-0.5 11,-0.5\"/>\n",
       "<polygon fill=\"black\" stroke=\"transparent\" points=\"13,-41 13,-81 367,-81 367,-41 13,-41\"/>\n",
       "<polygon fill=\"none\" stroke=\"black\" points=\"13,-41 13,-81 367,-81 367,-41 13,-41\"/>\n",
       "<text text-anchor=\"start\" x=\"78.5\" y=\"-58.2\" font-family=\"Helvetica,sans-Serif\" font-weight=\"bold\" font-size=\"16.00\" fill=\"white\">fc3_10ways_softmax</text>\n",
       "<text text-anchor=\"start\" x=\"239.5\" y=\"-58.2\" font-family=\"Helvetica,sans-Serif\" font-size=\"16.00\" fill=\"white\"> (Dense)</text>\n",
       "<polygon fill=\"white\" stroke=\"transparent\" points=\"13,-2 13,-39 187,-39 187,-2 13,-2\"/>\n",
       "<polygon fill=\"none\" stroke=\"black\" points=\"13,-2 13,-39 187,-39 187,-2 13,-2\"/>\n",
       "<text text-anchor=\"start\" x=\"24\" y=\"-17.8\" font-family=\"Helvetica,sans-Serif\" font-size=\"14.00\">Input shape: </text>\n",
       "<text text-anchor=\"start\" x=\"103\" y=\"-17.8\" font-family=\"Helvetica,sans-Serif\" font-weight=\"bold\" font-size=\"14.00\">(None, 512)</text>\n",
       "<polygon fill=\"white\" stroke=\"transparent\" points=\"189,-2 189,-39 367,-39 367,-2 189,-2\"/>\n",
       "<polygon fill=\"none\" stroke=\"black\" points=\"189,-2 189,-39 367,-39 367,-2 189,-2\"/>\n",
       "<text text-anchor=\"start\" x=\"200\" y=\"-17.8\" font-family=\"Helvetica,sans-Serif\" font-size=\"14.00\">Output shape: </text>\n",
       "<text text-anchor=\"start\" x=\"290\" y=\"-17.8\" font-family=\"Helvetica,sans-Serif\" font-weight=\"bold\" font-size=\"14.00\">(None, 10)</text>\n",
       "</g>\n",
       "<!-- 133869729213040&#45;&gt;133869729208384 -->\n",
       "<g id=\"edge6\" class=\"edge\">\n",
       "<title>133869729213040-&gt;133869729208384</title>\n",
       "<path fill=\"none\" stroke=\"black\" stroke-width=\"2\" d=\"M190,-120.37C190,-120.37 190,-93.56 190,-93.56\"/>\n",
       "<polygon fill=\"black\" stroke=\"black\" stroke-width=\"2\" points=\"193.5,-93.56 190,-83.56 186.5,-93.56 193.5,-93.56\"/>\n",
       "</g>\n",
       "</g>\n",
       "</svg>"
      ],
      "text/plain": [
       "<IPython.core.display.SVG object>"
      ]
     },
     "execution_count": 5,
     "metadata": {},
     "output_type": "execute_result"
    }
   ],
   "source": [
    "SVG(model_to_dot(model, show_shapes=True).create(prog='dot', format='svg'))\n"
   ]
  },
  {
   "cell_type": "code",
   "execution_count": null,
   "id": "870c730e",
   "metadata": {
    "papermill": {
     "duration": 0.005093,
     "end_time": "2025-03-29T21:22:36.933130",
     "exception": false,
     "start_time": "2025-03-29T21:22:36.928037",
     "status": "completed"
    },
    "tags": []
   },
   "outputs": [],
   "source": []
  },
  {
   "cell_type": "markdown",
   "id": "eddb9aa7",
   "metadata": {
    "papermill": {
     "duration": 0.004718,
     "end_time": "2025-03-29T21:22:36.942731",
     "exception": false,
     "start_time": "2025-03-29T21:22:36.938013",
     "status": "completed"
    },
    "tags": []
   },
   "source": [
    "# (3) Train defined model\n",
    "- Note that the training history including loss and accuracy will be save in 'history' variable\n",
    "- In case your system runs out of memory (OOM), try to decrease batch size"
   ]
  },
  {
   "cell_type": "code",
   "execution_count": 6,
   "id": "82e03775",
   "metadata": {
    "execution": {
     "iopub.execute_input": "2025-03-29T21:22:36.953705Z",
     "iopub.status.busy": "2025-03-29T21:22:36.953300Z",
     "iopub.status.idle": "2025-03-29T21:24:59.616243Z",
     "shell.execute_reply": "2025-03-29T21:24:59.614842Z"
    },
    "papermill": {
     "duration": 142.670935,
     "end_time": "2025-03-29T21:24:59.618437",
     "exception": false,
     "start_time": "2025-03-29T21:22:36.947502",
     "status": "completed"
    },
    "tags": []
   },
   "outputs": [
    {
     "name": "stdout",
     "output_type": "stream",
     "text": [
      "Epoch 1/30\n",
      "\u001b[1m469/469\u001b[0m \u001b[32m━━━━━━━━━━━━━━━━━━━━\u001b[0m\u001b[37m\u001b[0m \u001b[1m5s\u001b[0m 10ms/step - loss: 0.0912 - val_loss: 0.0897\n",
      "Epoch 2/30\n",
      "\u001b[1m469/469\u001b[0m \u001b[32m━━━━━━━━━━━━━━━━━━━━\u001b[0m\u001b[37m\u001b[0m \u001b[1m5s\u001b[0m 10ms/step - loss: 0.0898 - val_loss: 0.0882\n",
      "Epoch 3/30\n",
      "\u001b[1m469/469\u001b[0m \u001b[32m━━━━━━━━━━━━━━━━━━━━\u001b[0m\u001b[37m\u001b[0m \u001b[1m5s\u001b[0m 10ms/step - loss: 0.0884 - val_loss: 0.0866\n",
      "Epoch 4/30\n",
      "\u001b[1m469/469\u001b[0m \u001b[32m━━━━━━━━━━━━━━━━━━━━\u001b[0m\u001b[37m\u001b[0m \u001b[1m5s\u001b[0m 10ms/step - loss: 0.0868 - val_loss: 0.0847\n",
      "Epoch 5/30\n",
      "\u001b[1m469/469\u001b[0m \u001b[32m━━━━━━━━━━━━━━━━━━━━\u001b[0m\u001b[37m\u001b[0m \u001b[1m5s\u001b[0m 10ms/step - loss: 0.0850 - val_loss: 0.0825\n",
      "Epoch 6/30\n",
      "\u001b[1m469/469\u001b[0m \u001b[32m━━━━━━━━━━━━━━━━━━━━\u001b[0m\u001b[37m\u001b[0m \u001b[1m5s\u001b[0m 11ms/step - loss: 0.0829 - val_loss: 0.0800\n",
      "Epoch 7/30\n",
      "\u001b[1m469/469\u001b[0m \u001b[32m━━━━━━━━━━━━━━━━━━━━\u001b[0m\u001b[37m\u001b[0m \u001b[1m5s\u001b[0m 10ms/step - loss: 0.0804 - val_loss: 0.0772\n",
      "Epoch 8/30\n",
      "\u001b[1m469/469\u001b[0m \u001b[32m━━━━━━━━━━━━━━━━━━━━\u001b[0m\u001b[37m\u001b[0m \u001b[1m5s\u001b[0m 10ms/step - loss: 0.0779 - val_loss: 0.0741\n",
      "Epoch 9/30\n",
      "\u001b[1m469/469\u001b[0m \u001b[32m━━━━━━━━━━━━━━━━━━━━\u001b[0m\u001b[37m\u001b[0m \u001b[1m5s\u001b[0m 10ms/step - loss: 0.0750 - val_loss: 0.0706\n",
      "Epoch 10/30\n",
      "\u001b[1m469/469\u001b[0m \u001b[32m━━━━━━━━━━━━━━━━━━━━\u001b[0m\u001b[37m\u001b[0m \u001b[1m5s\u001b[0m 10ms/step - loss: 0.0718 - val_loss: 0.0668\n",
      "Epoch 11/30\n",
      "\u001b[1m469/469\u001b[0m \u001b[32m━━━━━━━━━━━━━━━━━━━━\u001b[0m\u001b[37m\u001b[0m \u001b[1m5s\u001b[0m 10ms/step - loss: 0.0681 - val_loss: 0.0627\n",
      "Epoch 12/30\n",
      "\u001b[1m469/469\u001b[0m \u001b[32m━━━━━━━━━━━━━━━━━━━━\u001b[0m\u001b[37m\u001b[0m \u001b[1m5s\u001b[0m 10ms/step - loss: 0.0643 - val_loss: 0.0584\n",
      "Epoch 13/30\n",
      "\u001b[1m469/469\u001b[0m \u001b[32m━━━━━━━━━━━━━━━━━━━━\u001b[0m\u001b[37m\u001b[0m \u001b[1m5s\u001b[0m 11ms/step - loss: 0.0605 - val_loss: 0.0542\n",
      "Epoch 14/30\n",
      "\u001b[1m469/469\u001b[0m \u001b[32m━━━━━━━━━━━━━━━━━━━━\u001b[0m\u001b[37m\u001b[0m \u001b[1m5s\u001b[0m 10ms/step - loss: 0.0569 - val_loss: 0.0503\n",
      "Epoch 15/30\n",
      "\u001b[1m469/469\u001b[0m \u001b[32m━━━━━━━━━━━━━━━━━━━━\u001b[0m\u001b[37m\u001b[0m \u001b[1m5s\u001b[0m 10ms/step - loss: 0.0533 - val_loss: 0.0467\n",
      "Epoch 16/30\n",
      "\u001b[1m469/469\u001b[0m \u001b[32m━━━━━━━━━━━━━━━━━━━━\u001b[0m\u001b[37m\u001b[0m \u001b[1m5s\u001b[0m 10ms/step - loss: 0.0500 - val_loss: 0.0435\n",
      "Epoch 17/30\n",
      "\u001b[1m469/469\u001b[0m \u001b[32m━━━━━━━━━━━━━━━━━━━━\u001b[0m\u001b[37m\u001b[0m \u001b[1m5s\u001b[0m 10ms/step - loss: 0.0470 - val_loss: 0.0407\n",
      "Epoch 18/30\n",
      "\u001b[1m469/469\u001b[0m \u001b[32m━━━━━━━━━━━━━━━━━━━━\u001b[0m\u001b[37m\u001b[0m \u001b[1m5s\u001b[0m 10ms/step - loss: 0.0446 - val_loss: 0.0382\n",
      "Epoch 19/30\n",
      "\u001b[1m469/469\u001b[0m \u001b[32m━━━━━━━━━━━━━━━━━━━━\u001b[0m\u001b[37m\u001b[0m \u001b[1m5s\u001b[0m 10ms/step - loss: 0.0423 - val_loss: 0.0358\n",
      "Epoch 20/30\n",
      "\u001b[1m469/469\u001b[0m \u001b[32m━━━━━━━━━━━━━━━━━━━━\u001b[0m\u001b[37m\u001b[0m \u001b[1m5s\u001b[0m 11ms/step - loss: 0.0400 - val_loss: 0.0337\n",
      "Epoch 21/30\n",
      "\u001b[1m469/469\u001b[0m \u001b[32m━━━━━━━━━━━━━━━━━━━━\u001b[0m\u001b[37m\u001b[0m \u001b[1m5s\u001b[0m 10ms/step - loss: 0.0381 - val_loss: 0.0319\n",
      "Epoch 22/30\n",
      "\u001b[1m469/469\u001b[0m \u001b[32m━━━━━━━━━━━━━━━━━━━━\u001b[0m\u001b[37m\u001b[0m \u001b[1m5s\u001b[0m 10ms/step - loss: 0.0364 - val_loss: 0.0303\n",
      "Epoch 23/30\n",
      "\u001b[1m469/469\u001b[0m \u001b[32m━━━━━━━━━━━━━━━━━━━━\u001b[0m\u001b[37m\u001b[0m \u001b[1m5s\u001b[0m 10ms/step - loss: 0.0352 - val_loss: 0.0288\n",
      "Epoch 24/30\n",
      "\u001b[1m469/469\u001b[0m \u001b[32m━━━━━━━━━━━━━━━━━━━━\u001b[0m\u001b[37m\u001b[0m \u001b[1m5s\u001b[0m 10ms/step - loss: 0.0334 - val_loss: 0.0275\n",
      "Epoch 25/30\n",
      "\u001b[1m469/469\u001b[0m \u001b[32m━━━━━━━━━━━━━━━━━━━━\u001b[0m\u001b[37m\u001b[0m \u001b[1m5s\u001b[0m 10ms/step - loss: 0.0325 - val_loss: 0.0264\n",
      "Epoch 26/30\n",
      "\u001b[1m469/469\u001b[0m \u001b[32m━━━━━━━━━━━━━━━━━━━━\u001b[0m\u001b[37m\u001b[0m \u001b[1m5s\u001b[0m 10ms/step - loss: 0.0311 - val_loss: 0.0253\n",
      "Epoch 27/30\n",
      "\u001b[1m469/469\u001b[0m \u001b[32m━━━━━━━━━━━━━━━━━━━━\u001b[0m\u001b[37m\u001b[0m \u001b[1m5s\u001b[0m 11ms/step - loss: 0.0303 - val_loss: 0.0244\n",
      "Epoch 28/30\n",
      "\u001b[1m469/469\u001b[0m \u001b[32m━━━━━━━━━━━━━━━━━━━━\u001b[0m\u001b[37m\u001b[0m \u001b[1m5s\u001b[0m 10ms/step - loss: 0.0294 - val_loss: 0.0236\n",
      "Epoch 29/30\n",
      "\u001b[1m469/469\u001b[0m \u001b[32m━━━━━━━━━━━━━━━━━━━━\u001b[0m\u001b[37m\u001b[0m \u001b[1m5s\u001b[0m 10ms/step - loss: 0.0287 - val_loss: 0.0229\n",
      "Epoch 30/30\n",
      "\u001b[1m469/469\u001b[0m \u001b[32m━━━━━━━━━━━━━━━━━━━━\u001b[0m\u001b[37m\u001b[0m \u001b[1m5s\u001b[0m 10ms/step - loss: 0.0275 - val_loss: 0.0222\n",
      "> training time is 2.3774 minutes\n"
     ]
    }
   ],
   "source": [
    "# declare learning rate, loss function, and model metric\n",
    "loss = 'categorical_crossentropy'\n",
    "lr = 0.01\n",
    "model.compile(loss='mean_squared_error', optimizer=SGD(learning_rate=0.01))\n",
    "\n",
    "# train the model\n",
    "batch_size = 128\n",
    "epochs = 30\n",
    "\n",
    "starting_time = time.time()\n",
    "history = model.fit(x_train, y_train,\n",
    "                    validation_data=(x_test, y_test),\n",
    "                    batch_size=batch_size,\n",
    "                    epochs=epochs)\n",
    "print('> training time is %.4f minutes' % ((time.time() - starting_time)/60))"
   ]
  },
  {
   "cell_type": "markdown",
   "id": "383b9568",
   "metadata": {
    "papermill": {
     "duration": 0.144998,
     "end_time": "2025-03-29T21:24:59.919399",
     "exception": false,
     "start_time": "2025-03-29T21:24:59.774401",
     "status": "completed"
    },
    "tags": []
   },
   "source": [
    "### Training time\n",
    "- Training time with GTX 1080 is about 1.4402 minutes for 30 epochs\n",
    "- Training time with Core i7 is around 3.0493 minutes for 30 epochs"
   ]
  },
  {
   "cell_type": "markdown",
   "id": "9f42e3c7",
   "metadata": {
    "papermill": {
     "duration": 0.175208,
     "end_time": "2025-03-29T21:25:00.309126",
     "exception": false,
     "start_time": "2025-03-29T21:25:00.133918",
     "status": "completed"
    },
    "tags": []
   },
   "source": [
    "# (4) Evaluate trained model"
   ]
  },
  {
   "cell_type": "code",
   "execution_count": 7,
   "id": "35c8c27a",
   "metadata": {
    "execution": {
     "iopub.execute_input": "2025-03-29T21:25:00.593443Z",
     "iopub.status.busy": "2025-03-29T21:25:00.592982Z",
     "iopub.status.idle": "2025-03-29T21:25:01.500312Z",
     "shell.execute_reply": "2025-03-29T21:25:01.499099Z"
    },
    "papermill": {
     "duration": 1.048459,
     "end_time": "2025-03-29T21:25:01.502114",
     "exception": false,
     "start_time": "2025-03-29T21:25:00.453655",
     "status": "completed"
    },
    "tags": []
   },
   "outputs": [
    {
     "name": "stdout",
     "output_type": "stream",
     "text": [
      "\u001b[1m313/313\u001b[0m \u001b[32m━━━━━━━━━━━━━━━━━━━━\u001b[0m\u001b[37m\u001b[0m \u001b[1m1s\u001b[0m 3ms/step - loss: 0.0253\n",
      "Test loss: 0.02223782427608967\n"
     ]
    }
   ],
   "source": [
    "score = model.evaluate(x_test, y_test)\n",
    "\n",
    "if isinstance(score, (list, tuple)):  # Nếu `score` là list/tuple thì truy cập từng phần tử\n",
    "    print('Test loss:', score[0])\n",
    "    print('Test accuracy:', score[1])\n",
    "else:  # Nếu `score` là float, chỉ có loss\n",
    "    print('Test loss:', score)"
   ]
  },
  {
   "cell_type": "code",
   "execution_count": 8,
   "id": "ac2bbf44",
   "metadata": {
    "execution": {
     "iopub.execute_input": "2025-03-29T21:25:01.795785Z",
     "iopub.status.busy": "2025-03-29T21:25:01.795390Z",
     "iopub.status.idle": "2025-03-29T21:25:02.206339Z",
     "shell.execute_reply": "2025-03-29T21:25:02.205114Z"
    },
    "papermill": {
     "duration": 0.560638,
     "end_time": "2025-03-29T21:25:02.208161",
     "exception": false,
     "start_time": "2025-03-29T21:25:01.647523",
     "status": "completed"
    },
    "tags": []
   },
   "outputs": [
    {
     "name": "stdout",
     "output_type": "stream",
     "text": [
      "\u001b[1m1/1\u001b[0m \u001b[32m━━━━━━━━━━━━━━━━━━━━\u001b[0m\u001b[37m\u001b[0m \u001b[1m0s\u001b[0m 61ms/step\n"
     ]
    },
    {
     "data": {
      "image/png": "[encoded data removed]",
      "text/plain": [
       "<Figure size 640x480 with 1 Axes>"
      ]
     },
     "metadata": {},
     "output_type": "display_data"
    }
   ],
   "source": [
    "# select a test image randomly\n",
    "random_test_index = np.random.choice(x_test.shape[0], size=1)[0]\n",
    "test_img = x_test[random_test_index]\n",
    "test_label = np.argmax(y_test[random_test_index])\n",
    "\n",
    "# predict test image with trained model\n",
    "pred_label = model.predict(np.expand_dims(test_img, axis=0))\n",
    "pred_label = np.argmax(pred_label)\n",
    "\n",
    "plt.imshow(test_img, cmap='gray')\n",
    "plt.title('true label = %d, predicted label = %d' % (test_label, pred_label))\n",
    "plt.show()"
   ]
  }
 ],
 "metadata": {
  "anaconda-cloud": {},
  "kaggle": {
   "accelerator": "none",
   "dataSources": [],
   "dockerImageVersionId": 30918,
   "isGpuEnabled": false,
   "isInternetEnabled": true,
   "language": "python",
   "sourceType": "notebook"
  },
  "kernelspec": {
   "display_name": "Python 3",
   "language": "python",
   "name": "python3"
  },
  "language_info": {
   "codemirror_mode": {
    "name": "ipython",
    "version": 3
   },
   "file_extension": ".py",
   "mimetype": "text/x-python",
   "name": "python",
   "nbconvert_exporter": "python",
   "pygments_lexer": "ipython3",
   "version": "3.10.12"
  },
  "papermill": {
   "default_parameters": {},
   "duration": 170.248381,
   "end_time": "2025-03-29T21:25:04.757754",
   "environment_variables": {},
   "exception": null,
   "input_path": "__notebook__.ipynb",
   "output_path": "__notebook__.ipynb",
   "parameters": {},
   "start_time": "2025-03-29T21:22:14.509373",
   "version": "2.6.0"
  }
 },
 "nbformat": 4,
 "nbformat_minor": 5
}
