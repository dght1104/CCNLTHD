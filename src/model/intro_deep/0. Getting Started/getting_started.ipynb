{
 "cells": [
  {
   "cell_type": "markdown",
   "id": "55824683",
   "metadata": {
    "papermill": {
     "duration": 0.0026,
     "end_time": "2025-03-29T21:21:30.603926",
     "exception": false,
     "start_time": "2025-03-29T21:21:30.601326",
     "status": "completed"
    },
    "tags": []
   },
   "source": [
    "# Import Keras"
   ]
  },
  {
   "cell_type": "code",
   "execution_count": 1,
   "id": "6ee5e357",
   "metadata": {
    "execution": {
     "iopub.execute_input": "2025-03-29T21:21:30.609956Z",
     "iopub.status.busy": "2025-03-29T21:21:30.609477Z",
     "iopub.status.idle": "2025-03-29T21:21:49.114182Z",
     "shell.execute_reply": "2025-03-29T21:21:49.113137Z"
    },
    "papermill": {
     "duration": 18.50962,
     "end_time": "2025-03-29T21:21:49.116002",
     "exception": false,
     "start_time": "2025-03-29T21:21:30.606382",
     "status": "completed"
    },
    "tags": []
   },
   "outputs": [],
   "source": [
    "import keras"
   ]
  },
  {
   "cell_type": "markdown",
   "id": "78cca037",
   "metadata": {
    "papermill": {
     "duration": 0.001794,
     "end_time": "2025-03-29T21:21:49.120054",
     "exception": false,
     "start_time": "2025-03-29T21:21:49.118260",
     "status": "completed"
    },
    "tags": []
   },
   "source": [
    "# Keras was imported with TensorFlow backend\n",
    "# Let's check Keras version"
   ]
  },
  {
   "cell_type": "code",
   "execution_count": 2,
   "id": "7d973387",
   "metadata": {
    "execution": {
     "iopub.execute_input": "2025-03-29T21:21:49.125533Z",
     "iopub.status.busy": "2025-03-29T21:21:49.124908Z",
     "iopub.status.idle": "2025-03-29T21:21:49.131127Z",
     "shell.execute_reply": "2025-03-29T21:21:49.129848Z"
    },
    "papermill": {
     "duration": 0.010787,
     "end_time": "2025-03-29T21:21:49.132824",
     "exception": false,
     "start_time": "2025-03-29T21:21:49.122037",
     "status": "completed"
    },
    "tags": []
   },
   "outputs": [
    {
     "name": "stdout",
     "output_type": "stream",
     "text": [
      "3.5.0\n",
      "2.17.1\n"
     ]
    }
   ],
   "source": [
    "import keras\n",
    "print(keras.__version__)  # Kiểm tra phiên bản Keras\n",
    "import tensorflow as tf\n",
    "print(tf.__version__)  # Kiểm tra phiên bản TensorFlow"
   ]
  },
  {
   "cell_type": "markdown",
   "id": "63e56b5c",
   "metadata": {
    "papermill": {
     "duration": 0.001795,
     "end_time": "2025-03-29T21:21:49.136795",
     "exception": false,
     "start_time": "2025-03-29T21:21:49.135000",
     "status": "completed"
    },
    "tags": []
   },
   "source": [
    "# Check whether GPU can be used or not"
   ]
  },
  {
   "cell_type": "code",
   "execution_count": 3,
   "id": "524086a0",
   "metadata": {
    "execution": {
     "iopub.execute_input": "2025-03-29T21:21:49.141953Z",
     "iopub.status.busy": "2025-03-29T21:21:49.141632Z",
     "iopub.status.idle": "2025-03-29T21:21:49.149088Z",
     "shell.execute_reply": "2025-03-29T21:21:49.148102Z"
    },
    "papermill": {
     "duration": 0.011846,
     "end_time": "2025-03-29T21:21:49.150662",
     "exception": false,
     "start_time": "2025-03-29T21:21:49.138816",
     "status": "completed"
    },
    "tags": []
   },
   "outputs": [
    {
     "name": "stdout",
     "output_type": "stream",
     "text": [
      "Available GPUs: []\n"
     ]
    }
   ],
   "source": [
    "print(\"Available GPUs:\", tf.config.list_physical_devices('GPU'))"
   ]
  },
  {
   "cell_type": "markdown",
   "id": "53f153ff",
   "metadata": {
    "papermill": {
     "duration": 0.002014,
     "end_time": "2025-03-29T21:21:49.155030",
     "exception": false,
     "start_time": "2025-03-29T21:21:49.153016",
     "status": "completed"
    },
    "tags": []
   },
   "source": [
    "## One GPU has been detected!"
   ]
  }
 ],
 "metadata": {
  "kaggle": {
   "accelerator": "none",
   "dataSources": [],
   "dockerImageVersionId": 30918,
   "isGpuEnabled": false,
   "isInternetEnabled": true,
   "language": "python",
   "sourceType": "notebook"
  },
  "kernelspec": {
   "display_name": "Python 3",
   "language": "python",
   "name": "python3"
  },
  "language_info": {
   "codemirror_mode": {
    "name": "ipython",
    "version": 3
   },
   "file_extension": ".py",
   "mimetype": "text/x-python",
   "name": "python",
   "nbconvert_exporter": "python",
   "pygments_lexer": "ipython3",
   "version": "3.10.12"
  },
  "papermill": {
   "default_parameters": {},
   "duration": 22.946744,
   "end_time": "2025-03-29T21:21:50.580101",
   "environment_variables": {},
   "exception": null,
   "input_path": "__notebook__.ipynb",
   "output_path": "__notebook__.ipynb",
   "parameters": {},
   "start_time": "2025-03-29T21:21:27.633357",
   "version": "2.6.0"
  }
 },
 "nbformat": 4,
 "nbformat_minor": 5
}
