{
 "cells": [
  {
   "cell_type": "markdown",
   "id": "e8176aba",
   "metadata": {
    "papermill": {
     "duration": 0.003086,
     "end_time": "2025-03-31T01:16:46.097702",
     "exception": false,
     "start_time": "2025-03-31T01:16:46.094616",
     "status": "completed"
    },
    "tags": []
   },
   "source": [
    "# Overview\n",
    "- MNIST dataset\n",
    "  + Goal: recognizing handwritten digits\n",
    "  + Input: a 28x28 image\n",
    "  + Output: class label (0, 1,..., 9)\n",
    "- Defining an CNN+MLP for MNIST\n",
    "- Training and evaluating an CNN+MLP"
   ]
  },
  {
   "cell_type": "markdown",
   "id": "0f3fbc85",
   "metadata": {
    "papermill": {
     "duration": 0.002191,
     "end_time": "2025-03-31T01:16:46.102651",
     "exception": false,
     "start_time": "2025-03-31T01:16:46.100460",
     "status": "completed"
    },
    "tags": []
   },
   "source": [
    "# Import libraries"
   ]
  },
  {
   "cell_type": "code",
   "execution_count": 1,
   "id": "7416f11c",
   "metadata": {
    "execution": {
     "iopub.execute_input": "2025-03-31T01:16:46.108495Z",
     "iopub.status.busy": "2025-03-31T01:16:46.108174Z",
     "iopub.status.idle": "2025-03-31T01:16:59.819017Z",
     "shell.execute_reply": "2025-03-31T01:16:59.818295Z"
    },
    "papermill": {
     "duration": 13.715734,
     "end_time": "2025-03-31T01:16:59.820719",
     "exception": false,
     "start_time": "2025-03-31T01:16:46.104985",
     "status": "completed"
    },
    "tags": []
   },
   "outputs": [],
   "source": [
    "import keras\n",
    "from keras.datasets import mnist\n",
    "from keras.models import Model\n",
    "from keras.layers import Input, Conv2D, MaxPooling2D, Flatten, Dense, Dropout\n",
    "from keras.optimizers import SGD\n",
    "\n",
    "from IPython.display import SVG\n",
    "from tensorflow.keras.utils import model_to_dot, plot_model\n",
    "\n",
    "import time\n",
    "import numpy as np\n",
    "import matplotlib.pyplot as plt"
   ]
  },
  {
   "cell_type": "code",
   "execution_count": 2,
   "id": "08d15634",
   "metadata": {
    "execution": {
     "iopub.execute_input": "2025-03-31T01:16:59.827393Z",
     "iopub.status.busy": "2025-03-31T01:16:59.826918Z",
     "iopub.status.idle": "2025-03-31T01:16:59.829980Z",
     "shell.execute_reply": "2025-03-31T01:16:59.829433Z"
    },
    "papermill": {
     "duration": 0.007466,
     "end_time": "2025-03-31T01:16:59.831186",
     "exception": false,
     "start_time": "2025-03-31T01:16:59.823720",
     "status": "completed"
    },
    "tags": []
   },
   "outputs": [],
   "source": [
    "num_classes = 10   # 10 classes: 0, 1,..., 9"
   ]
  },
  {
   "cell_type": "markdown",
   "id": "5eb1cca5",
   "metadata": {
    "papermill": {
     "duration": 0.002256,
     "end_time": "2025-03-31T01:16:59.836053",
     "exception": false,
     "start_time": "2025-03-31T01:16:59.833797",
     "status": "completed"
    },
    "tags": []
   },
   "source": [
    "# (1) Data"
   ]
  },
  {
   "cell_type": "code",
   "execution_count": 3,
   "id": "c7e8e979",
   "metadata": {
    "execution": {
     "iopub.execute_input": "2025-03-31T01:16:59.841736Z",
     "iopub.status.busy": "2025-03-31T01:16:59.841502Z",
     "iopub.status.idle": "2025-03-31T01:17:00.355935Z",
     "shell.execute_reply": "2025-03-31T01:17:00.354888Z"
    },
    "papermill": {
     "duration": 0.5189,
     "end_time": "2025-03-31T01:17:00.357382",
     "exception": false,
     "start_time": "2025-03-31T01:16:59.838482",
     "status": "completed"
    },
    "tags": []
   },
   "outputs": [
    {
     "name": "stdout",
     "output_type": "stream",
     "text": [
      "Downloading data from https://storage.googleapis.com/tensorflow/tf-keras-datasets/mnist.npz\n",
      "\u001b[1m11490434/11490434\u001b[0m \u001b[32m━━━━━━━━━━━━━━━━━━━━\u001b[0m\u001b[37m\u001b[0m \u001b[1m0s\u001b[0m 0us/step\n",
      "60000 train samples\n",
      "10000 test samples\n"
     ]
    }
   ],
   "source": [
    "# the data, shuffled and split between train and test sets\n",
    "(x_train, y_train), (x_test, y_test) = mnist.load_data()\n",
    "\n",
    "x_train = x_train.reshape(60000, 28, 28, 1)\n",
    "x_test = x_test.reshape(10000, 28, 28, 1)\n",
    "x_train = x_train.astype('float32')\n",
    "x_test = x_test.astype('float32')\n",
    "x_train /= 255\n",
    "x_test /= 255\n",
    "print(x_train.shape[0], 'train samples')\n",
    "print(x_test.shape[0], 'test samples')\n",
    "\n",
    "# convert class vectors to binary class matrices\n",
    "y_train = keras.utils.to_categorical(y_train, num_classes)\n",
    "y_test = keras.utils.to_categorical(y_test, num_classes)"
   ]
  },
  {
   "cell_type": "markdown",
   "id": "88de9a4a",
   "metadata": {
    "papermill": {
     "duration": 0.00278,
     "end_time": "2025-03-31T01:17:00.363215",
     "exception": false,
     "start_time": "2025-03-31T01:17:00.360435",
     "status": "completed"
    },
    "tags": []
   },
   "source": [
    "# (2) Declare model"
   ]
  },
  {
   "cell_type": "code",
   "execution_count": 4,
   "id": "eac4afd6",
   "metadata": {
    "execution": {
     "iopub.execute_input": "2025-03-31T01:17:00.369790Z",
     "iopub.status.busy": "2025-03-31T01:17:00.369553Z",
     "iopub.status.idle": "2025-03-31T01:17:02.947929Z",
     "shell.execute_reply": "2025-03-31T01:17:02.947137Z"
    },
    "papermill": {
     "duration": 2.583048,
     "end_time": "2025-03-31T01:17:02.949130",
     "exception": false,
     "start_time": "2025-03-31T01:17:00.366082",
     "status": "completed"
    },
    "tags": []
   },
   "outputs": [
    {
     "data": {
      "text/html": [
       "<pre style=\"white-space:pre;overflow-x:auto;line-height:normal;font-family:Menlo,'DejaVu Sans Mono',consolas,'Courier New',monospace\"><span style=\"font-weight: bold\">Model: \"mnist_mlp\"</span>\n",
       "</pre>\n"
      ],
      "text/plain": [
       "\u001b[1mModel: \"mnist_mlp\"\u001b[0m\n"
      ]
     },
     "metadata": {},
     "output_type": "display_data"
    },
    {
     "data": {
      "text/html": [
       "<pre style=\"white-space:pre;overflow-x:auto;line-height:normal;font-family:Menlo,'DejaVu Sans Mono',consolas,'Courier New',monospace\">┏━━━━━━━━━━━━━━━━━━━━━━━━━━━━━━━━━━━━━━┳━━━━━━━━━━━━━━━━━━━━━━━━━━━━━┳━━━━━━━━━━━━━━━━━┓\n",
       "┃<span style=\"font-weight: bold\"> Layer (type)                         </span>┃<span style=\"font-weight: bold\"> Output Shape                </span>┃<span style=\"font-weight: bold\">         Param # </span>┃\n",
       "┡━━━━━━━━━━━━━━━━━━━━━━━━━━━━━━━━━━━━━━╇━━━━━━━━━━━━━━━━━━━━━━━━━━━━━╇━━━━━━━━━━━━━━━━━┩\n",
       "│ Input (<span style=\"color: #0087ff; text-decoration-color: #0087ff\">InputLayer</span>)                   │ (<span style=\"color: #00d7ff; text-decoration-color: #00d7ff\">None</span>, <span style=\"color: #00af00; text-decoration-color: #00af00\">28</span>, <span style=\"color: #00af00; text-decoration-color: #00af00\">28</span>, <span style=\"color: #00af00; text-decoration-color: #00af00\">1</span>)           │               <span style=\"color: #00af00; text-decoration-color: #00af00\">0</span> │\n",
       "├──────────────────────────────────────┼─────────────────────────────┼─────────────────┤\n",
       "│ conv1 (<span style=\"color: #0087ff; text-decoration-color: #0087ff\">Conv2D</span>)                       │ (<span style=\"color: #00d7ff; text-decoration-color: #00d7ff\">None</span>, <span style=\"color: #00af00; text-decoration-color: #00af00\">28</span>, <span style=\"color: #00af00; text-decoration-color: #00af00\">28</span>, <span style=\"color: #00af00; text-decoration-color: #00af00\">64</span>)          │             <span style=\"color: #00af00; text-decoration-color: #00af00\">640</span> │\n",
       "├──────────────────────────────────────┼─────────────────────────────┼─────────────────┤\n",
       "│ pool1 (<span style=\"color: #0087ff; text-decoration-color: #0087ff\">MaxPooling2D</span>)                 │ (<span style=\"color: #00d7ff; text-decoration-color: #00d7ff\">None</span>, <span style=\"color: #00af00; text-decoration-color: #00af00\">14</span>, <span style=\"color: #00af00; text-decoration-color: #00af00\">14</span>, <span style=\"color: #00af00; text-decoration-color: #00af00\">64</span>)          │               <span style=\"color: #00af00; text-decoration-color: #00af00\">0</span> │\n",
       "├──────────────────────────────────────┼─────────────────────────────┼─────────────────┤\n",
       "│ conv_dropout1 (<span style=\"color: #0087ff; text-decoration-color: #0087ff\">Dropout</span>)              │ (<span style=\"color: #00d7ff; text-decoration-color: #00d7ff\">None</span>, <span style=\"color: #00af00; text-decoration-color: #00af00\">14</span>, <span style=\"color: #00af00; text-decoration-color: #00af00\">14</span>, <span style=\"color: #00af00; text-decoration-color: #00af00\">64</span>)          │               <span style=\"color: #00af00; text-decoration-color: #00af00\">0</span> │\n",
       "├──────────────────────────────────────┼─────────────────────────────┼─────────────────┤\n",
       "│ conv2 (<span style=\"color: #0087ff; text-decoration-color: #0087ff\">Conv2D</span>)                       │ (<span style=\"color: #00d7ff; text-decoration-color: #00d7ff\">None</span>, <span style=\"color: #00af00; text-decoration-color: #00af00\">14</span>, <span style=\"color: #00af00; text-decoration-color: #00af00\">14</span>, <span style=\"color: #00af00; text-decoration-color: #00af00\">128</span>)         │          <span style=\"color: #00af00; text-decoration-color: #00af00\">73,856</span> │\n",
       "├──────────────────────────────────────┼─────────────────────────────┼─────────────────┤\n",
       "│ pool2 (<span style=\"color: #0087ff; text-decoration-color: #0087ff\">MaxPooling2D</span>)                 │ (<span style=\"color: #00d7ff; text-decoration-color: #00d7ff\">None</span>, <span style=\"color: #00af00; text-decoration-color: #00af00\">7</span>, <span style=\"color: #00af00; text-decoration-color: #00af00\">7</span>, <span style=\"color: #00af00; text-decoration-color: #00af00\">128</span>)           │               <span style=\"color: #00af00; text-decoration-color: #00af00\">0</span> │\n",
       "├──────────────────────────────────────┼─────────────────────────────┼─────────────────┤\n",
       "│ conv_dropout2 (<span style=\"color: #0087ff; text-decoration-color: #0087ff\">Dropout</span>)              │ (<span style=\"color: #00d7ff; text-decoration-color: #00d7ff\">None</span>, <span style=\"color: #00af00; text-decoration-color: #00af00\">7</span>, <span style=\"color: #00af00; text-decoration-color: #00af00\">7</span>, <span style=\"color: #00af00; text-decoration-color: #00af00\">128</span>)           │               <span style=\"color: #00af00; text-decoration-color: #00af00\">0</span> │\n",
       "├──────────────────────────────────────┼─────────────────────────────┼─────────────────┤\n",
       "│ conv3 (<span style=\"color: #0087ff; text-decoration-color: #0087ff\">Conv2D</span>)                       │ (<span style=\"color: #00d7ff; text-decoration-color: #00d7ff\">None</span>, <span style=\"color: #00af00; text-decoration-color: #00af00\">7</span>, <span style=\"color: #00af00; text-decoration-color: #00af00\">7</span>, <span style=\"color: #00af00; text-decoration-color: #00af00\">256</span>)           │         <span style=\"color: #00af00; text-decoration-color: #00af00\">295,168</span> │\n",
       "├──────────────────────────────────────┼─────────────────────────────┼─────────────────┤\n",
       "│ pool3 (<span style=\"color: #0087ff; text-decoration-color: #0087ff\">MaxPooling2D</span>)                 │ (<span style=\"color: #00d7ff; text-decoration-color: #00d7ff\">None</span>, <span style=\"color: #00af00; text-decoration-color: #00af00\">3</span>, <span style=\"color: #00af00; text-decoration-color: #00af00\">3</span>, <span style=\"color: #00af00; text-decoration-color: #00af00\">256</span>)           │               <span style=\"color: #00af00; text-decoration-color: #00af00\">0</span> │\n",
       "├──────────────────────────────────────┼─────────────────────────────┼─────────────────┤\n",
       "│ conv_dropout3 (<span style=\"color: #0087ff; text-decoration-color: #0087ff\">Dropout</span>)              │ (<span style=\"color: #00d7ff; text-decoration-color: #00d7ff\">None</span>, <span style=\"color: #00af00; text-decoration-color: #00af00\">3</span>, <span style=\"color: #00af00; text-decoration-color: #00af00\">3</span>, <span style=\"color: #00af00; text-decoration-color: #00af00\">256</span>)           │               <span style=\"color: #00af00; text-decoration-color: #00af00\">0</span> │\n",
       "├──────────────────────────────────────┼─────────────────────────────┼─────────────────┤\n",
       "│ flatten (<span style=\"color: #0087ff; text-decoration-color: #0087ff\">Flatten</span>)                    │ (<span style=\"color: #00d7ff; text-decoration-color: #00d7ff\">None</span>, <span style=\"color: #00af00; text-decoration-color: #00af00\">2304</span>)                │               <span style=\"color: #00af00; text-decoration-color: #00af00\">0</span> │\n",
       "├──────────────────────────────────────┼─────────────────────────────┼─────────────────┤\n",
       "│ fc1 (<span style=\"color: #0087ff; text-decoration-color: #0087ff\">Dense</span>)                          │ (<span style=\"color: #00d7ff; text-decoration-color: #00d7ff\">None</span>, <span style=\"color: #00af00; text-decoration-color: #00af00\">512</span>)                 │       <span style=\"color: #00af00; text-decoration-color: #00af00\">1,180,160</span> │\n",
       "├──────────────────────────────────────┼─────────────────────────────┼─────────────────┤\n",
       "│ fc_dropout1 (<span style=\"color: #0087ff; text-decoration-color: #0087ff\">Dropout</span>)                │ (<span style=\"color: #00d7ff; text-decoration-color: #00d7ff\">None</span>, <span style=\"color: #00af00; text-decoration-color: #00af00\">512</span>)                 │               <span style=\"color: #00af00; text-decoration-color: #00af00\">0</span> │\n",
       "├──────────────────────────────────────┼─────────────────────────────┼─────────────────┤\n",
       "│ fc2 (<span style=\"color: #0087ff; text-decoration-color: #0087ff\">Dense</span>)                          │ (<span style=\"color: #00d7ff; text-decoration-color: #00d7ff\">None</span>, <span style=\"color: #00af00; text-decoration-color: #00af00\">512</span>)                 │         <span style=\"color: #00af00; text-decoration-color: #00af00\">262,656</span> │\n",
       "├──────────────────────────────────────┼─────────────────────────────┼─────────────────┤\n",
       "│ fc_dropout2 (<span style=\"color: #0087ff; text-decoration-color: #0087ff\">Dropout</span>)                │ (<span style=\"color: #00d7ff; text-decoration-color: #00d7ff\">None</span>, <span style=\"color: #00af00; text-decoration-color: #00af00\">512</span>)                 │               <span style=\"color: #00af00; text-decoration-color: #00af00\">0</span> │\n",
       "├──────────────────────────────────────┼─────────────────────────────┼─────────────────┤\n",
       "│ fc3_10ways_softmax (<span style=\"color: #0087ff; text-decoration-color: #0087ff\">Dense</span>)           │ (<span style=\"color: #00d7ff; text-decoration-color: #00d7ff\">None</span>, <span style=\"color: #00af00; text-decoration-color: #00af00\">10</span>)                  │           <span style=\"color: #00af00; text-decoration-color: #00af00\">5,130</span> │\n",
       "└──────────────────────────────────────┴─────────────────────────────┴─────────────────┘\n",
       "</pre>\n"
      ],
      "text/plain": [
       "┏━━━━━━━━━━━━━━━━━━━━━━━━━━━━━━━━━━━━━━┳━━━━━━━━━━━━━━━━━━━━━━━━━━━━━┳━━━━━━━━━━━━━━━━━┓\n",
       "┃\u001b[1m \u001b[0m\u001b[1mLayer (type)                        \u001b[0m\u001b[1m \u001b[0m┃\u001b[1m \u001b[0m\u001b[1mOutput Shape               \u001b[0m\u001b[1m \u001b[0m┃\u001b[1m \u001b[0m\u001b[1m        Param #\u001b[0m\u001b[1m \u001b[0m┃\n",
       "┡━━━━━━━━━━━━━━━━━━━━━━━━━━━━━━━━━━━━━━╇━━━━━━━━━━━━━━━━━━━━━━━━━━━━━╇━━━━━━━━━━━━━━━━━┩\n",
       "│ Input (\u001b[38;5;33mInputLayer\u001b[0m)                   │ (\u001b[38;5;45mNone\u001b[0m, \u001b[38;5;34m28\u001b[0m, \u001b[38;5;34m28\u001b[0m, \u001b[38;5;34m1\u001b[0m)           │               \u001b[38;5;34m0\u001b[0m │\n",
       "├──────────────────────────────────────┼─────────────────────────────┼─────────────────┤\n",
       "│ conv1 (\u001b[38;5;33mConv2D\u001b[0m)                       │ (\u001b[38;5;45mNone\u001b[0m, \u001b[38;5;34m28\u001b[0m, \u001b[38;5;34m28\u001b[0m, \u001b[38;5;34m64\u001b[0m)          │             \u001b[38;5;34m640\u001b[0m │\n",
       "├──────────────────────────────────────┼─────────────────────────────┼─────────────────┤\n",
       "│ pool1 (\u001b[38;5;33mMaxPooling2D\u001b[0m)                 │ (\u001b[38;5;45mNone\u001b[0m, \u001b[38;5;34m14\u001b[0m, \u001b[38;5;34m14\u001b[0m, \u001b[38;5;34m64\u001b[0m)          │               \u001b[38;5;34m0\u001b[0m │\n",
       "├──────────────────────────────────────┼─────────────────────────────┼─────────────────┤\n",
       "│ conv_dropout1 (\u001b[38;5;33mDropout\u001b[0m)              │ (\u001b[38;5;45mNone\u001b[0m, \u001b[38;5;34m14\u001b[0m, \u001b[38;5;34m14\u001b[0m, \u001b[38;5;34m64\u001b[0m)          │               \u001b[38;5;34m0\u001b[0m │\n",
       "├──────────────────────────────────────┼─────────────────────────────┼─────────────────┤\n",
       "│ conv2 (\u001b[38;5;33mConv2D\u001b[0m)                       │ (\u001b[38;5;45mNone\u001b[0m, \u001b[38;5;34m14\u001b[0m, \u001b[38;5;34m14\u001b[0m, \u001b[38;5;34m128\u001b[0m)         │          \u001b[38;5;34m73,856\u001b[0m │\n",
       "├──────────────────────────────────────┼─────────────────────────────┼─────────────────┤\n",
       "│ pool2 (\u001b[38;5;33mMaxPooling2D\u001b[0m)                 │ (\u001b[38;5;45mNone\u001b[0m, \u001b[38;5;34m7\u001b[0m, \u001b[38;5;34m7\u001b[0m, \u001b[38;5;34m128\u001b[0m)           │               \u001b[38;5;34m0\u001b[0m │\n",
       "├──────────────────────────────────────┼─────────────────────────────┼─────────────────┤\n",
       "│ conv_dropout2 (\u001b[38;5;33mDropout\u001b[0m)              │ (\u001b[38;5;45mNone\u001b[0m, \u001b[38;5;34m7\u001b[0m, \u001b[38;5;34m7\u001b[0m, \u001b[38;5;34m128\u001b[0m)           │               \u001b[38;5;34m0\u001b[0m │\n",
       "├──────────────────────────────────────┼─────────────────────────────┼─────────────────┤\n",
       "│ conv3 (\u001b[38;5;33mConv2D\u001b[0m)                       │ (\u001b[38;5;45mNone\u001b[0m, \u001b[38;5;34m7\u001b[0m, \u001b[38;5;34m7\u001b[0m, \u001b[38;5;34m256\u001b[0m)           │         \u001b[38;5;34m295,168\u001b[0m │\n",
       "├──────────────────────────────────────┼─────────────────────────────┼─────────────────┤\n",
       "│ pool3 (\u001b[38;5;33mMaxPooling2D\u001b[0m)                 │ (\u001b[38;5;45mNone\u001b[0m, \u001b[38;5;34m3\u001b[0m, \u001b[38;5;34m3\u001b[0m, \u001b[38;5;34m256\u001b[0m)           │               \u001b[38;5;34m0\u001b[0m │\n",
       "├──────────────────────────────────────┼─────────────────────────────┼─────────────────┤\n",
       "│ conv_dropout3 (\u001b[38;5;33mDropout\u001b[0m)              │ (\u001b[38;5;45mNone\u001b[0m, \u001b[38;5;34m3\u001b[0m, \u001b[38;5;34m3\u001b[0m, \u001b[38;5;34m256\u001b[0m)           │               \u001b[38;5;34m0\u001b[0m │\n",
       "├──────────────────────────────────────┼─────────────────────────────┼─────────────────┤\n",
       "│ flatten (\u001b[38;5;33mFlatten\u001b[0m)                    │ (\u001b[38;5;45mNone\u001b[0m, \u001b[38;5;34m2304\u001b[0m)                │               \u001b[38;5;34m0\u001b[0m │\n",
       "├──────────────────────────────────────┼─────────────────────────────┼─────────────────┤\n",
       "│ fc1 (\u001b[38;5;33mDense\u001b[0m)                          │ (\u001b[38;5;45mNone\u001b[0m, \u001b[38;5;34m512\u001b[0m)                 │       \u001b[38;5;34m1,180,160\u001b[0m │\n",
       "├──────────────────────────────────────┼─────────────────────────────┼─────────────────┤\n",
       "│ fc_dropout1 (\u001b[38;5;33mDropout\u001b[0m)                │ (\u001b[38;5;45mNone\u001b[0m, \u001b[38;5;34m512\u001b[0m)                 │               \u001b[38;5;34m0\u001b[0m │\n",
       "├──────────────────────────────────────┼─────────────────────────────┼─────────────────┤\n",
       "│ fc2 (\u001b[38;5;33mDense\u001b[0m)                          │ (\u001b[38;5;45mNone\u001b[0m, \u001b[38;5;34m512\u001b[0m)                 │         \u001b[38;5;34m262,656\u001b[0m │\n",
       "├──────────────────────────────────────┼─────────────────────────────┼─────────────────┤\n",
       "│ fc_dropout2 (\u001b[38;5;33mDropout\u001b[0m)                │ (\u001b[38;5;45mNone\u001b[0m, \u001b[38;5;34m512\u001b[0m)                 │               \u001b[38;5;34m0\u001b[0m │\n",
       "├──────────────────────────────────────┼─────────────────────────────┼─────────────────┤\n",
       "│ fc3_10ways_softmax (\u001b[38;5;33mDense\u001b[0m)           │ (\u001b[38;5;45mNone\u001b[0m, \u001b[38;5;34m10\u001b[0m)                  │           \u001b[38;5;34m5,130\u001b[0m │\n",
       "└──────────────────────────────────────┴─────────────────────────────┴─────────────────┘\n"
      ]
     },
     "metadata": {},
     "output_type": "display_data"
    },
    {
     "data": {
      "text/html": [
       "<pre style=\"white-space:pre;overflow-x:auto;line-height:normal;font-family:Menlo,'DejaVu Sans Mono',consolas,'Courier New',monospace\"><span style=\"font-weight: bold\"> Total params: </span><span style=\"color: #00af00; text-decoration-color: #00af00\">1,817,610</span> (6.93 MB)\n",
       "</pre>\n"
      ],
      "text/plain": [
       "\u001b[1m Total params: \u001b[0m\u001b[38;5;34m1,817,610\u001b[0m (6.93 MB)\n"
      ]
     },
     "metadata": {},
     "output_type": "display_data"
    },
    {
     "data": {
      "text/html": [
       "<pre style=\"white-space:pre;overflow-x:auto;line-height:normal;font-family:Menlo,'DejaVu Sans Mono',consolas,'Courier New',monospace\"><span style=\"font-weight: bold\"> Trainable params: </span><span style=\"color: #00af00; text-decoration-color: #00af00\">1,817,610</span> (6.93 MB)\n",
       "</pre>\n"
      ],
      "text/plain": [
       "\u001b[1m Trainable params: \u001b[0m\u001b[38;5;34m1,817,610\u001b[0m (6.93 MB)\n"
      ]
     },
     "metadata": {},
     "output_type": "display_data"
    },
    {
     "data": {
      "text/html": [
       "<pre style=\"white-space:pre;overflow-x:auto;line-height:normal;font-family:Menlo,'DejaVu Sans Mono',consolas,'Courier New',monospace\"><span style=\"font-weight: bold\"> Non-trainable params: </span><span style=\"color: #00af00; text-decoration-color: #00af00\">0</span> (0.00 B)\n",
       "</pre>\n"
      ],
      "text/plain": [
       "\u001b[1m Non-trainable params: \u001b[0m\u001b[38;5;34m0\u001b[0m (0.00 B)\n"
      ]
     },
     "metadata": {},
     "output_type": "display_data"
    }
   ],
   "source": [
    "# 28x28 MNIST image\n",
    "input_image = Input(shape=(28, 28, 1), name='Input')\n",
    "\n",
    "# conv, pooling layers + dropout\n",
    "x = Conv2D(filters=64, kernel_size=(3, 3), padding='same', activation='relu', name='conv1')(input_image)\n",
    "x = MaxPooling2D(pool_size=(2, 2), name='pool1')(x)\n",
    "x = Dropout(rate=0.2, name='conv_dropout1')(x)\n",
    "\n",
    "x = Conv2D(filters=128, kernel_size=(3, 3), padding='same', activation='relu', name='conv2')(x)\n",
    "x = MaxPooling2D(pool_size=(2, 2), name='pool2')(x)\n",
    "x = Dropout(rate=0.2, name='conv_dropout2')(x)\n",
    "\n",
    "x = Conv2D(filters=256, kernel_size=(3, 3), padding='same', activation='relu', name='conv3')(x)\n",
    "x = MaxPooling2D(pool_size=(2, 2), name='pool3')(x)\n",
    "x = Dropout(rate=0.2, name='conv_dropout3')(x)\n",
    "\n",
    "# similar to the MLP example!\n",
    "# matrix ---> vector\n",
    "x = Flatten(name='flatten')(x)\n",
    "\n",
    "# FC layers + dropout\n",
    "x = Dense(units=512, activation='relu', name='fc1')(x)\n",
    "x = Dropout(rate=0.2, name='fc_dropout1')(x)\n",
    "\n",
    "x = Dense(units=512, activation='relu', name='fc2')(x)\n",
    "x = Dropout(rate=0.2, name='fc_dropout2')(x)\n",
    "\n",
    "output_label = Dense(units=num_classes, activation='softmax', name='fc3_10ways_softmax')(x)\n",
    "\n",
    "# define model\n",
    "model = Model(inputs=input_image, outputs=output_label, name='mnist_mlp')\n",
    "\n",
    "# print model summary\n",
    "model.summary()"
   ]
  },
  {
   "cell_type": "code",
   "execution_count": 5,
   "id": "8a636fb5",
   "metadata": {
    "execution": {
     "iopub.execute_input": "2025-03-31T01:17:02.956908Z",
     "iopub.status.busy": "2025-03-31T01:17:02.956691Z",
     "iopub.status.idle": "2025-03-31T01:17:03.240490Z",
     "shell.execute_reply": "2025-03-31T01:17:03.239606Z"
    },
    "papermill": {
     "duration": 0.28919,
     "end_time": "2025-03-31T01:17:03.241885",
     "exception": false,
     "start_time": "2025-03-31T01:17:02.952695",
     "status": "completed"
    },
    "tags": []
   },
   "outputs": [
    {
     "data": {
      "image/svg+xml": [
       "<svg xmlns=\"http://www.w3.org/2000/svg\" xmlns:xlink=\"http://www.w3.org/1999/xlink\" width=\"1267pt\" height=\"5256pt\" viewBox=\"0.00 0.00 456.00 1892.00\">\n",
       "<g id=\"graph0\" class=\"graph\" transform=\"scale(2.78 2.78) rotate(0) translate(4 1888)\">\n",
       "<title>G</title>\n",
       "<polygon fill=\"white\" stroke=\"transparent\" points=\"-4,4 -4,-1888 452,-1888 452,4 -4,4\"/>\n",
       "<!-- 134770592963200 -->\n",
       "<g id=\"node1\" class=\"node\">\n",
       "<title>134770592963200</title>\n",
       "<polygon fill=\"none\" stroke=\"black\" points=\"113.5,-1800.5 113.5,-1883.5 334.5,-1883.5 334.5,-1800.5 113.5,-1800.5\"/>\n",
       "<polygon fill=\"black\" stroke=\"transparent\" points=\"113.5,-1800.5 113.5,-1883.5 334.5,-1883.5 334.5,-1800.5 113.5,-1800.5\"/>\n",
       "<polygon fill=\"black\" stroke=\"transparent\" points=\"116,-1841 116,-1881 333,-1881 333,-1841 116,-1841\"/>\n",
       "<polygon fill=\"none\" stroke=\"black\" points=\"116,-1841 116,-1881 333,-1881 333,-1841 116,-1841\"/>\n",
       "<text text-anchor=\"start\" x=\"158.5\" y=\"-1858.2\" font-family=\"Helvetica,sans-Serif\" font-weight=\"bold\" font-size=\"16.00\" fill=\"white\">Input</text>\n",
       "<text text-anchor=\"start\" x=\"198.5\" y=\"-1858.2\" font-family=\"Helvetica,sans-Serif\" font-size=\"16.00\" fill=\"white\"> (InputLayer)</text>\n",
       "<polygon fill=\"white\" stroke=\"transparent\" points=\"116,-1802 116,-1839 331,-1839 331,-1802 116,-1802\"/>\n",
       "<polygon fill=\"none\" stroke=\"black\" points=\"116,-1802 116,-1839 331,-1839 331,-1802 116,-1802\"/>\n",
       "<text text-anchor=\"start\" x=\"127\" y=\"-1817.8\" font-family=\"Helvetica,sans-Serif\" font-size=\"14.00\">Output shape: </text>\n",
       "<text text-anchor=\"start\" x=\"217\" y=\"-1817.8\" font-family=\"Helvetica,sans-Serif\" font-weight=\"bold\" font-size=\"14.00\">(None, 28, 28, 1)</text>\n",
       "</g>\n",
       "<!-- 134770592970496 -->\n",
       "<g id=\"node2\" class=\"node\">\n",
       "<title>134770592970496</title>\n",
       "<polygon fill=\"none\" stroke=\"black\" points=\"7.5,-1680.5 7.5,-1763.5 440.5,-1763.5 440.5,-1680.5 7.5,-1680.5\"/>\n",
       "<polygon fill=\"black\" stroke=\"transparent\" points=\"7.5,-1680.5 7.5,-1763.5 440.5,-1763.5 440.5,-1680.5 7.5,-1680.5\"/>\n",
       "<polygon fill=\"black\" stroke=\"transparent\" points=\"10,-1721 10,-1761 439,-1761 439,-1721 10,-1721\"/>\n",
       "<polygon fill=\"none\" stroke=\"black\" points=\"10,-1721 10,-1761 439,-1761 439,-1721 10,-1721\"/>\n",
       "<text text-anchor=\"start\" x=\"164.5\" y=\"-1738.2\" font-family=\"Helvetica,sans-Serif\" font-weight=\"bold\" font-size=\"16.00\" fill=\"white\">conv1</text>\n",
       "<text text-anchor=\"start\" x=\"211.5\" y=\"-1738.2\" font-family=\"Helvetica,sans-Serif\" font-size=\"16.00\" fill=\"white\"> (Conv2D)</text>\n",
       "<polygon fill=\"white\" stroke=\"transparent\" points=\"10,-1682 10,-1719 214,-1719 214,-1682 10,-1682\"/>\n",
       "<polygon fill=\"none\" stroke=\"black\" points=\"10,-1682 10,-1719 214,-1719 214,-1682 10,-1682\"/>\n",
       "<text text-anchor=\"start\" x=\"21\" y=\"-1697.8\" font-family=\"Helvetica,sans-Serif\" font-size=\"14.00\">Input shape: </text>\n",
       "<text text-anchor=\"start\" x=\"100\" y=\"-1697.8\" font-family=\"Helvetica,sans-Serif\" font-weight=\"bold\" font-size=\"14.00\">(None, 28, 28, 1)</text>\n",
       "<polygon fill=\"white\" stroke=\"transparent\" points=\"216,-1682 216,-1719 439,-1719 439,-1682 216,-1682\"/>\n",
       "<polygon fill=\"none\" stroke=\"black\" points=\"216,-1682 216,-1719 439,-1719 439,-1682 216,-1682\"/>\n",
       "<text text-anchor=\"start\" x=\"227\" y=\"-1697.8\" font-family=\"Helvetica,sans-Serif\" font-size=\"14.00\">Output shape: </text>\n",
       "<text text-anchor=\"start\" x=\"317\" y=\"-1697.8\" font-family=\"Helvetica,sans-Serif\" font-weight=\"bold\" font-size=\"14.00\">(None, 28, 28, 64)</text>\n",
       "</g>\n",
       "<!-- 134770592963200&#45;&gt;134770592970496 -->\n",
       "<g id=\"edge1\" class=\"edge\">\n",
       "<title>134770592963200-&gt;134770592970496</title>\n",
       "<path fill=\"none\" stroke=\"black\" stroke-width=\"2\" d=\"M224,-1800.37C224,-1800.37 224,-1773.56 224,-1773.56\"/>\n",
       "<polygon fill=\"black\" stroke=\"black\" stroke-width=\"2\" points=\"227.5,-1773.56 224,-1763.56 220.5,-1773.56 227.5,-1773.56\"/>\n",
       "</g>\n",
       "<!-- 134770592962528 -->\n",
       "<g id=\"node3\" class=\"node\">\n",
       "<title>134770592962528</title>\n",
       "<polygon fill=\"none\" stroke=\"black\" points=\"3.5,-1560.5 3.5,-1643.5 444.5,-1643.5 444.5,-1560.5 3.5,-1560.5\"/>\n",
       "<polygon fill=\"black\" stroke=\"transparent\" points=\"3.5,-1560.5 3.5,-1643.5 444.5,-1643.5 444.5,-1560.5 3.5,-1560.5\"/>\n",
       "<polygon fill=\"black\" stroke=\"transparent\" points=\"6,-1601 6,-1641 443,-1641 443,-1601 6,-1601\"/>\n",
       "<polygon fill=\"none\" stroke=\"black\" points=\"6,-1601 6,-1641 443,-1641 443,-1601 6,-1601\"/>\n",
       "<text text-anchor=\"start\" x=\"142.5\" y=\"-1618.2\" font-family=\"Helvetica,sans-Serif\" font-weight=\"bold\" font-size=\"16.00\" fill=\"white\">pool1</text>\n",
       "<text text-anchor=\"start\" x=\"185.5\" y=\"-1618.2\" font-family=\"Helvetica,sans-Serif\" font-size=\"16.00\" fill=\"white\"> (MaxPooling2D)</text>\n",
       "<polygon fill=\"white\" stroke=\"transparent\" points=\"6,-1562 6,-1599 218,-1599 218,-1562 6,-1562\"/>\n",
       "<polygon fill=\"none\" stroke=\"black\" points=\"6,-1562 6,-1599 218,-1599 218,-1562 6,-1562\"/>\n",
       "<text text-anchor=\"start\" x=\"17\" y=\"-1577.8\" font-family=\"Helvetica,sans-Serif\" font-size=\"14.00\">Input shape: </text>\n",
       "<text text-anchor=\"start\" x=\"96\" y=\"-1577.8\" font-family=\"Helvetica,sans-Serif\" font-weight=\"bold\" font-size=\"14.00\">(None, 28, 28, 64)</text>\n",
       "<polygon fill=\"white\" stroke=\"transparent\" points=\"220,-1562 220,-1599 443,-1599 443,-1562 220,-1562\"/>\n",
       "<polygon fill=\"none\" stroke=\"black\" points=\"220,-1562 220,-1599 443,-1599 443,-1562 220,-1562\"/>\n",
       "<text text-anchor=\"start\" x=\"231\" y=\"-1577.8\" font-family=\"Helvetica,sans-Serif\" font-size=\"14.00\">Output shape: </text>\n",
       "<text text-anchor=\"start\" x=\"321\" y=\"-1577.8\" font-family=\"Helvetica,sans-Serif\" font-weight=\"bold\" font-size=\"14.00\">(None, 14, 14, 64)</text>\n",
       "</g>\n",
       "<!-- 134770592970496&#45;&gt;134770592962528 -->\n",
       "<g id=\"edge2\" class=\"edge\">\n",
       "<title>134770592970496-&gt;134770592962528</title>\n",
       "<path fill=\"none\" stroke=\"black\" stroke-width=\"2\" d=\"M224,-1680.37C224,-1680.37 224,-1653.56 224,-1653.56\"/>\n",
       "<polygon fill=\"black\" stroke=\"black\" stroke-width=\"2\" points=\"227.5,-1653.56 224,-1643.56 220.5,-1653.56 227.5,-1653.56\"/>\n",
       "</g>\n",
       "<!-- 134770592960224 -->\n",
       "<g id=\"node4\" class=\"node\">\n",
       "<title>134770592960224</title>\n",
       "<polygon fill=\"none\" stroke=\"black\" points=\"3.5,-1440.5 3.5,-1523.5 444.5,-1523.5 444.5,-1440.5 3.5,-1440.5\"/>\n",
       "<polygon fill=\"black\" stroke=\"transparent\" points=\"3.5,-1440.5 3.5,-1523.5 444.5,-1523.5 444.5,-1440.5 3.5,-1440.5\"/>\n",
       "<polygon fill=\"black\" stroke=\"transparent\" points=\"6,-1481 6,-1521 443,-1521 443,-1481 6,-1481\"/>\n",
       "<polygon fill=\"none\" stroke=\"black\" points=\"6,-1481 6,-1521 443,-1521 443,-1481 6,-1481\"/>\n",
       "<text text-anchor=\"start\" x=\"130\" y=\"-1498.2\" font-family=\"Helvetica,sans-Serif\" font-weight=\"bold\" font-size=\"16.00\" fill=\"white\">conv_dropout1</text>\n",
       "<text text-anchor=\"start\" x=\"246\" y=\"-1498.2\" font-family=\"Helvetica,sans-Serif\" font-size=\"16.00\" fill=\"white\"> (Dropout)</text>\n",
       "<polygon fill=\"white\" stroke=\"transparent\" points=\"6,-1442 6,-1479 218,-1479 218,-1442 6,-1442\"/>\n",
       "<polygon fill=\"none\" stroke=\"black\" points=\"6,-1442 6,-1479 218,-1479 218,-1442 6,-1442\"/>\n",
       "<text text-anchor=\"start\" x=\"17\" y=\"-1457.8\" font-family=\"Helvetica,sans-Serif\" font-size=\"14.00\">Input shape: </text>\n",
       "<text text-anchor=\"start\" x=\"96\" y=\"-1457.8\" font-family=\"Helvetica,sans-Serif\" font-weight=\"bold\" font-size=\"14.00\">(None, 14, 14, 64)</text>\n",
       "<polygon fill=\"white\" stroke=\"transparent\" points=\"220,-1442 220,-1479 443,-1479 443,-1442 220,-1442\"/>\n",
       "<polygon fill=\"none\" stroke=\"black\" points=\"220,-1442 220,-1479 443,-1479 443,-1442 220,-1442\"/>\n",
       "<text text-anchor=\"start\" x=\"231\" y=\"-1457.8\" font-family=\"Helvetica,sans-Serif\" font-size=\"14.00\">Output shape: </text>\n",
       "<text text-anchor=\"start\" x=\"321\" y=\"-1457.8\" font-family=\"Helvetica,sans-Serif\" font-weight=\"bold\" font-size=\"14.00\">(None, 14, 14, 64)</text>\n",
       "</g>\n",
       "<!-- 134770592962528&#45;&gt;134770592960224 -->\n",
       "<g id=\"edge3\" class=\"edge\">\n",
       "<title>134770592962528-&gt;134770592960224</title>\n",
       "<path fill=\"none\" stroke=\"black\" stroke-width=\"2\" d=\"M224,-1560.37C224,-1560.37 224,-1533.56 224,-1533.56\"/>\n",
       "<polygon fill=\"black\" stroke=\"black\" stroke-width=\"2\" points=\"227.5,-1533.56 224,-1523.56 220.5,-1533.56 227.5,-1533.56\"/>\n",
       "</g>\n",
       "<!-- 134770594123728 -->\n",
       "<g id=\"node5\" class=\"node\">\n",
       "<title>134770594123728</title>\n",
       "<polygon fill=\"none\" stroke=\"black\" points=\"0,-1320.5 0,-1403.5 448,-1403.5 448,-1320.5 0,-1320.5\"/>\n",
       "<polygon fill=\"black\" stroke=\"transparent\" points=\"0,-1320.5 0,-1403.5 448,-1403.5 448,-1320.5 0,-1320.5\"/>\n",
       "<polygon fill=\"black\" stroke=\"transparent\" points=\"2,-1361 2,-1401 446,-1401 446,-1361 2,-1361\"/>\n",
       "<polygon fill=\"none\" stroke=\"black\" points=\"2,-1361 2,-1401 446,-1401 446,-1361 2,-1361\"/>\n",
       "<text text-anchor=\"start\" x=\"164\" y=\"-1378.2\" font-family=\"Helvetica,sans-Serif\" font-weight=\"bold\" font-size=\"16.00\" fill=\"white\">conv2</text>\n",
       "<text text-anchor=\"start\" x=\"211\" y=\"-1378.2\" font-family=\"Helvetica,sans-Serif\" font-size=\"16.00\" fill=\"white\"> (Conv2D)</text>\n",
       "<polygon fill=\"white\" stroke=\"transparent\" points=\"2,-1322 2,-1359 214,-1359 214,-1322 2,-1322\"/>\n",
       "<polygon fill=\"none\" stroke=\"black\" points=\"2,-1322 2,-1359 214,-1359 214,-1322 2,-1322\"/>\n",
       "<text text-anchor=\"start\" x=\"13\" y=\"-1337.8\" font-family=\"Helvetica,sans-Serif\" font-size=\"14.00\">Input shape: </text>\n",
       "<text text-anchor=\"start\" x=\"92\" y=\"-1337.8\" font-family=\"Helvetica,sans-Serif\" font-weight=\"bold\" font-size=\"14.00\">(None, 14, 14, 64)</text>\n",
       "<polygon fill=\"white\" stroke=\"transparent\" points=\"216,-1322 216,-1359 446,-1359 446,-1322 216,-1322\"/>\n",
       "<polygon fill=\"none\" stroke=\"black\" points=\"216,-1322 216,-1359 446,-1359 446,-1322 216,-1322\"/>\n",
       "<text text-anchor=\"start\" x=\"227\" y=\"-1337.8\" font-family=\"Helvetica,sans-Serif\" font-size=\"14.00\">Output shape: </text>\n",
       "<text text-anchor=\"start\" x=\"317\" y=\"-1337.8\" font-family=\"Helvetica,sans-Serif\" font-weight=\"bold\" font-size=\"14.00\">(None, 14, 14, 128)</text>\n",
       "</g>\n",
       "<!-- 134770592960224&#45;&gt;134770594123728 -->\n",
       "<g id=\"edge4\" class=\"edge\">\n",
       "<title>134770592960224-&gt;134770594123728</title>\n",
       "<path fill=\"none\" stroke=\"black\" stroke-width=\"2\" d=\"M224,-1440.37C224,-1440.37 224,-1413.56 224,-1413.56\"/>\n",
       "<polygon fill=\"black\" stroke=\"black\" stroke-width=\"2\" points=\"227.5,-1413.56 224,-1403.56 220.5,-1413.56 227.5,-1413.56\"/>\n",
       "</g>\n",
       "<!-- 134770594124256 -->\n",
       "<g id=\"node6\" class=\"node\">\n",
       "<title>134770594124256</title>\n",
       "<polygon fill=\"none\" stroke=\"black\" points=\"4,-1200.5 4,-1283.5 444,-1283.5 444,-1200.5 4,-1200.5\"/>\n",
       "<polygon fill=\"black\" stroke=\"transparent\" points=\"4,-1200.5 4,-1283.5 444,-1283.5 444,-1200.5 4,-1200.5\"/>\n",
       "<polygon fill=\"black\" stroke=\"transparent\" points=\"6,-1241 6,-1281 442,-1281 442,-1241 6,-1241\"/>\n",
       "<polygon fill=\"none\" stroke=\"black\" points=\"6,-1241 6,-1281 442,-1281 442,-1241 6,-1241\"/>\n",
       "<text text-anchor=\"start\" x=\"142\" y=\"-1258.2\" font-family=\"Helvetica,sans-Serif\" font-weight=\"bold\" font-size=\"16.00\" fill=\"white\">pool2</text>\n",
       "<text text-anchor=\"start\" x=\"185\" y=\"-1258.2\" font-family=\"Helvetica,sans-Serif\" font-size=\"16.00\" fill=\"white\"> (MaxPooling2D)</text>\n",
       "<polygon fill=\"white\" stroke=\"transparent\" points=\"6,-1202 6,-1239 225,-1239 225,-1202 6,-1202\"/>\n",
       "<polygon fill=\"none\" stroke=\"black\" points=\"6,-1202 6,-1239 225,-1239 225,-1202 6,-1202\"/>\n",
       "<text text-anchor=\"start\" x=\"17\" y=\"-1217.8\" font-family=\"Helvetica,sans-Serif\" font-size=\"14.00\">Input shape: </text>\n",
       "<text text-anchor=\"start\" x=\"96\" y=\"-1217.8\" font-family=\"Helvetica,sans-Serif\" font-weight=\"bold\" font-size=\"14.00\">(None, 14, 14, 128)</text>\n",
       "<polygon fill=\"white\" stroke=\"transparent\" points=\"227,-1202 227,-1239 442,-1239 442,-1202 227,-1202\"/>\n",
       "<polygon fill=\"none\" stroke=\"black\" points=\"227,-1202 227,-1239 442,-1239 442,-1202 227,-1202\"/>\n",
       "<text text-anchor=\"start\" x=\"238\" y=\"-1217.8\" font-family=\"Helvetica,sans-Serif\" font-size=\"14.00\">Output shape: </text>\n",
       "<text text-anchor=\"start\" x=\"328\" y=\"-1217.8\" font-family=\"Helvetica,sans-Serif\" font-weight=\"bold\" font-size=\"14.00\">(None, 7, 7, 128)</text>\n",
       "</g>\n",
       "<!-- 134770594123728&#45;&gt;134770594124256 -->\n",
       "<g id=\"edge5\" class=\"edge\">\n",
       "<title>134770594123728-&gt;134770594124256</title>\n",
       "<path fill=\"none\" stroke=\"black\" stroke-width=\"2\" d=\"M224,-1320.37C224,-1320.37 224,-1293.56 224,-1293.56\"/>\n",
       "<polygon fill=\"black\" stroke=\"black\" stroke-width=\"2\" points=\"227.5,-1293.56 224,-1283.56 220.5,-1293.56 227.5,-1293.56\"/>\n",
       "</g>\n",
       "<!-- 134770594123488 -->\n",
       "<g id=\"node7\" class=\"node\">\n",
       "<title>134770594123488</title>\n",
       "<polygon fill=\"none\" stroke=\"black\" points=\"11.5,-1080.5 11.5,-1163.5 436.5,-1163.5 436.5,-1080.5 11.5,-1080.5\"/>\n",
       "<polygon fill=\"black\" stroke=\"transparent\" points=\"11.5,-1080.5 11.5,-1163.5 436.5,-1163.5 436.5,-1080.5 11.5,-1080.5\"/>\n",
       "<polygon fill=\"black\" stroke=\"transparent\" points=\"14,-1121 14,-1161 435,-1161 435,-1121 14,-1121\"/>\n",
       "<polygon fill=\"none\" stroke=\"black\" points=\"14,-1121 14,-1161 435,-1161 435,-1121 14,-1121\"/>\n",
       "<text text-anchor=\"start\" x=\"130\" y=\"-1138.2\" font-family=\"Helvetica,sans-Serif\" font-weight=\"bold\" font-size=\"16.00\" fill=\"white\">conv_dropout2</text>\n",
       "<text text-anchor=\"start\" x=\"246\" y=\"-1138.2\" font-family=\"Helvetica,sans-Serif\" font-size=\"16.00\" fill=\"white\"> (Dropout)</text>\n",
       "<polygon fill=\"white\" stroke=\"transparent\" points=\"14,-1082 14,-1119 218,-1119 218,-1082 14,-1082\"/>\n",
       "<polygon fill=\"none\" stroke=\"black\" points=\"14,-1082 14,-1119 218,-1119 218,-1082 14,-1082\"/>\n",
       "<text text-anchor=\"start\" x=\"25\" y=\"-1097.8\" font-family=\"Helvetica,sans-Serif\" font-size=\"14.00\">Input shape: </text>\n",
       "<text text-anchor=\"start\" x=\"104\" y=\"-1097.8\" font-family=\"Helvetica,sans-Serif\" font-weight=\"bold\" font-size=\"14.00\">(None, 7, 7, 128)</text>\n",
       "<polygon fill=\"white\" stroke=\"transparent\" points=\"220,-1082 220,-1119 435,-1119 435,-1082 220,-1082\"/>\n",
       "<polygon fill=\"none\" stroke=\"black\" points=\"220,-1082 220,-1119 435,-1119 435,-1082 220,-1082\"/>\n",
       "<text text-anchor=\"start\" x=\"231\" y=\"-1097.8\" font-family=\"Helvetica,sans-Serif\" font-size=\"14.00\">Output shape: </text>\n",
       "<text text-anchor=\"start\" x=\"321\" y=\"-1097.8\" font-family=\"Helvetica,sans-Serif\" font-weight=\"bold\" font-size=\"14.00\">(None, 7, 7, 128)</text>\n",
       "</g>\n",
       "<!-- 134770594124256&#45;&gt;134770594123488 -->\n",
       "<g id=\"edge6\" class=\"edge\">\n",
       "<title>134770594124256-&gt;134770594123488</title>\n",
       "<path fill=\"none\" stroke=\"black\" stroke-width=\"2\" d=\"M224,-1200.37C224,-1200.37 224,-1173.56 224,-1173.56\"/>\n",
       "<polygon fill=\"black\" stroke=\"black\" stroke-width=\"2\" points=\"227.5,-1173.56 224,-1163.56 220.5,-1173.56 227.5,-1173.56\"/>\n",
       "</g>\n",
       "<!-- 134770594129824 -->\n",
       "<g id=\"node8\" class=\"node\">\n",
       "<title>134770594129824</title>\n",
       "<polygon fill=\"none\" stroke=\"black\" points=\"11.5,-960.5 11.5,-1043.5 436.5,-1043.5 436.5,-960.5 11.5,-960.5\"/>\n",
       "<polygon fill=\"black\" stroke=\"transparent\" points=\"11.5,-960.5 11.5,-1043.5 436.5,-1043.5 436.5,-960.5 11.5,-960.5\"/>\n",
       "<polygon fill=\"black\" stroke=\"transparent\" points=\"14,-1001 14,-1041 435,-1041 435,-1001 14,-1001\"/>\n",
       "<polygon fill=\"none\" stroke=\"black\" points=\"14,-1001 14,-1041 435,-1041 435,-1001 14,-1001\"/>\n",
       "<text text-anchor=\"start\" x=\"164.5\" y=\"-1018.2\" font-family=\"Helvetica,sans-Serif\" font-weight=\"bold\" font-size=\"16.00\" fill=\"white\">conv3</text>\n",
       "<text text-anchor=\"start\" x=\"211.5\" y=\"-1018.2\" font-family=\"Helvetica,sans-Serif\" font-size=\"16.00\" fill=\"white\"> (Conv2D)</text>\n",
       "<polygon fill=\"white\" stroke=\"transparent\" points=\"14,-962 14,-999 218,-999 218,-962 14,-962\"/>\n",
       "<polygon fill=\"none\" stroke=\"black\" points=\"14,-962 14,-999 218,-999 218,-962 14,-962\"/>\n",
       "<text text-anchor=\"start\" x=\"25\" y=\"-977.8\" font-family=\"Helvetica,sans-Serif\" font-size=\"14.00\">Input shape: </text>\n",
       "<text text-anchor=\"start\" x=\"104\" y=\"-977.8\" font-family=\"Helvetica,sans-Serif\" font-weight=\"bold\" font-size=\"14.00\">(None, 7, 7, 128)</text>\n",
       "<polygon fill=\"white\" stroke=\"transparent\" points=\"220,-962 220,-999 435,-999 435,-962 220,-962\"/>\n",
       "<polygon fill=\"none\" stroke=\"black\" points=\"220,-962 220,-999 435,-999 435,-962 220,-962\"/>\n",
       "<text text-anchor=\"start\" x=\"231\" y=\"-977.8\" font-family=\"Helvetica,sans-Serif\" font-size=\"14.00\">Output shape: </text>\n",
       "<text text-anchor=\"start\" x=\"321\" y=\"-977.8\" font-family=\"Helvetica,sans-Serif\" font-weight=\"bold\" font-size=\"14.00\">(None, 7, 7, 256)</text>\n",
       "</g>\n",
       "<!-- 134770594123488&#45;&gt;134770594129824 -->\n",
       "<g id=\"edge7\" class=\"edge\">\n",
       "<title>134770594123488-&gt;134770594129824</title>\n",
       "<path fill=\"none\" stroke=\"black\" stroke-width=\"2\" d=\"M224,-1080.37C224,-1080.37 224,-1053.56 224,-1053.56\"/>\n",
       "<polygon fill=\"black\" stroke=\"black\" stroke-width=\"2\" points=\"227.5,-1053.56 224,-1043.56 220.5,-1053.56 227.5,-1053.56\"/>\n",
       "</g>\n",
       "<!-- 134770593141024 -->\n",
       "<g id=\"node9\" class=\"node\">\n",
       "<title>134770593141024</title>\n",
       "<polygon fill=\"none\" stroke=\"black\" points=\"11.5,-840.5 11.5,-923.5 436.5,-923.5 436.5,-840.5 11.5,-840.5\"/>\n",
       "<polygon fill=\"black\" stroke=\"transparent\" points=\"11.5,-840.5 11.5,-923.5 436.5,-923.5 436.5,-840.5 11.5,-840.5\"/>\n",
       "<polygon fill=\"black\" stroke=\"transparent\" points=\"14,-881 14,-921 435,-921 435,-881 14,-881\"/>\n",
       "<polygon fill=\"none\" stroke=\"black\" points=\"14,-881 14,-921 435,-921 435,-881 14,-881\"/>\n",
       "<text text-anchor=\"start\" x=\"142.5\" y=\"-898.2\" font-family=\"Helvetica,sans-Serif\" font-weight=\"bold\" font-size=\"16.00\" fill=\"white\">pool3</text>\n",
       "<text text-anchor=\"start\" x=\"185.5\" y=\"-898.2\" font-family=\"Helvetica,sans-Serif\" font-size=\"16.00\" fill=\"white\"> (MaxPooling2D)</text>\n",
       "<polygon fill=\"white\" stroke=\"transparent\" points=\"14,-842 14,-879 218,-879 218,-842 14,-842\"/>\n",
       "<polygon fill=\"none\" stroke=\"black\" points=\"14,-842 14,-879 218,-879 218,-842 14,-842\"/>\n",
       "<text text-anchor=\"start\" x=\"25\" y=\"-857.8\" font-family=\"Helvetica,sans-Serif\" font-size=\"14.00\">Input shape: </text>\n",
       "<text text-anchor=\"start\" x=\"104\" y=\"-857.8\" font-family=\"Helvetica,sans-Serif\" font-weight=\"bold\" font-size=\"14.00\">(None, 7, 7, 256)</text>\n",
       "<polygon fill=\"white\" stroke=\"transparent\" points=\"220,-842 220,-879 435,-879 435,-842 220,-842\"/>\n",
       "<polygon fill=\"none\" stroke=\"black\" points=\"220,-842 220,-879 435,-879 435,-842 220,-842\"/>\n",
       "<text text-anchor=\"start\" x=\"231\" y=\"-857.8\" font-family=\"Helvetica,sans-Serif\" font-size=\"14.00\">Output shape: </text>\n",
       "<text text-anchor=\"start\" x=\"321\" y=\"-857.8\" font-family=\"Helvetica,sans-Serif\" font-weight=\"bold\" font-size=\"14.00\">(None, 3, 3, 256)</text>\n",
       "</g>\n",
       "<!-- 134770594129824&#45;&gt;134770593141024 -->\n",
       "<g id=\"edge8\" class=\"edge\">\n",
       "<title>134770594129824-&gt;134770593141024</title>\n",
       "<path fill=\"none\" stroke=\"black\" stroke-width=\"2\" d=\"M224,-960.37C224,-960.37 224,-933.56 224,-933.56\"/>\n",
       "<polygon fill=\"black\" stroke=\"black\" stroke-width=\"2\" points=\"227.5,-933.56 224,-923.56 220.5,-933.56 227.5,-933.56\"/>\n",
       "</g>\n",
       "<!-- 134770593147744 -->\n",
       "<g id=\"node10\" class=\"node\">\n",
       "<title>134770593147744</title>\n",
       "<polygon fill=\"none\" stroke=\"black\" points=\"11.5,-720.5 11.5,-803.5 436.5,-803.5 436.5,-720.5 11.5,-720.5\"/>\n",
       "<polygon fill=\"black\" stroke=\"transparent\" points=\"11.5,-720.5 11.5,-803.5 436.5,-803.5 436.5,-720.5 11.5,-720.5\"/>\n",
       "<polygon fill=\"black\" stroke=\"transparent\" points=\"14,-761 14,-801 435,-801 435,-761 14,-761\"/>\n",
       "<polygon fill=\"none\" stroke=\"black\" points=\"14,-761 14,-801 435,-801 435,-761 14,-761\"/>\n",
       "<text text-anchor=\"start\" x=\"130\" y=\"-778.2\" font-family=\"Helvetica,sans-Serif\" font-weight=\"bold\" font-size=\"16.00\" fill=\"white\">conv_dropout3</text>\n",
       "<text text-anchor=\"start\" x=\"246\" y=\"-778.2\" font-family=\"Helvetica,sans-Serif\" font-size=\"16.00\" fill=\"white\"> (Dropout)</text>\n",
       "<polygon fill=\"white\" stroke=\"transparent\" points=\"14,-722 14,-759 218,-759 218,-722 14,-722\"/>\n",
       "<polygon fill=\"none\" stroke=\"black\" points=\"14,-722 14,-759 218,-759 218,-722 14,-722\"/>\n",
       "<text text-anchor=\"start\" x=\"25\" y=\"-737.8\" font-family=\"Helvetica,sans-Serif\" font-size=\"14.00\">Input shape: </text>\n",
       "<text text-anchor=\"start\" x=\"104\" y=\"-737.8\" font-family=\"Helvetica,sans-Serif\" font-weight=\"bold\" font-size=\"14.00\">(None, 3, 3, 256)</text>\n",
       "<polygon fill=\"white\" stroke=\"transparent\" points=\"220,-722 220,-759 435,-759 435,-722 220,-722\"/>\n",
       "<polygon fill=\"none\" stroke=\"black\" points=\"220,-722 220,-759 435,-759 435,-722 220,-722\"/>\n",
       "<text text-anchor=\"start\" x=\"231\" y=\"-737.8\" font-family=\"Helvetica,sans-Serif\" font-size=\"14.00\">Output shape: </text>\n",
       "<text text-anchor=\"start\" x=\"321\" y=\"-737.8\" font-family=\"Helvetica,sans-Serif\" font-weight=\"bold\" font-size=\"14.00\">(None, 3, 3, 256)</text>\n",
       "</g>\n",
       "<!-- 134770593141024&#45;&gt;134770593147744 -->\n",
       "<g id=\"edge9\" class=\"edge\">\n",
       "<title>134770593141024-&gt;134770593147744</title>\n",
       "<path fill=\"none\" stroke=\"black\" stroke-width=\"2\" d=\"M224,-840.37C224,-840.37 224,-813.56 224,-813.56\"/>\n",
       "<polygon fill=\"black\" stroke=\"black\" stroke-width=\"2\" points=\"227.5,-813.56 224,-803.56 220.5,-813.56 227.5,-813.56\"/>\n",
       "</g>\n",
       "<!-- 134770593143376 -->\n",
       "<g id=\"node11\" class=\"node\">\n",
       "<title>134770593143376</title>\n",
       "<polygon fill=\"none\" stroke=\"black\" points=\"22.5,-600.5 22.5,-683.5 425.5,-683.5 425.5,-600.5 22.5,-600.5\"/>\n",
       "<polygon fill=\"black\" stroke=\"transparent\" points=\"22.5,-600.5 22.5,-683.5 425.5,-683.5 425.5,-600.5 22.5,-600.5\"/>\n",
       "<polygon fill=\"black\" stroke=\"transparent\" points=\"25,-641 25,-681 424,-681 424,-641 25,-641\"/>\n",
       "<polygon fill=\"none\" stroke=\"black\" points=\"25,-641 25,-681 424,-681 424,-641 25,-641\"/>\n",
       "<text text-anchor=\"start\" x=\"167.5\" y=\"-658.2\" font-family=\"Helvetica,sans-Serif\" font-weight=\"bold\" font-size=\"16.00\" fill=\"white\">flatten</text>\n",
       "<text text-anchor=\"start\" x=\"216.5\" y=\"-658.2\" font-family=\"Helvetica,sans-Serif\" font-size=\"16.00\" fill=\"white\"> (Flatten)</text>\n",
       "<polygon fill=\"white\" stroke=\"transparent\" points=\"25,-602 25,-639 229,-639 229,-602 25,-602\"/>\n",
       "<polygon fill=\"none\" stroke=\"black\" points=\"25,-602 25,-639 229,-639 229,-602 25,-602\"/>\n",
       "<text text-anchor=\"start\" x=\"36\" y=\"-617.8\" font-family=\"Helvetica,sans-Serif\" font-size=\"14.00\">Input shape: </text>\n",
       "<text text-anchor=\"start\" x=\"115\" y=\"-617.8\" font-family=\"Helvetica,sans-Serif\" font-weight=\"bold\" font-size=\"14.00\">(None, 3, 3, 256)</text>\n",
       "<polygon fill=\"white\" stroke=\"transparent\" points=\"231,-602 231,-639 424,-639 424,-602 231,-602\"/>\n",
       "<polygon fill=\"none\" stroke=\"black\" points=\"231,-602 231,-639 424,-639 424,-602 231,-602\"/>\n",
       "<text text-anchor=\"start\" x=\"242\" y=\"-617.8\" font-family=\"Helvetica,sans-Serif\" font-size=\"14.00\">Output shape: </text>\n",
       "<text text-anchor=\"start\" x=\"332\" y=\"-617.8\" font-family=\"Helvetica,sans-Serif\" font-weight=\"bold\" font-size=\"14.00\">(None, 2304)</text>\n",
       "</g>\n",
       "<!-- 134770593147744&#45;&gt;134770593143376 -->\n",
       "<g id=\"edge10\" class=\"edge\">\n",
       "<title>134770593147744-&gt;134770593143376</title>\n",
       "<path fill=\"none\" stroke=\"black\" stroke-width=\"2\" d=\"M224,-720.37C224,-720.37 224,-693.56 224,-693.56\"/>\n",
       "<polygon fill=\"black\" stroke=\"black\" stroke-width=\"2\" points=\"227.5,-693.56 224,-683.56 220.5,-693.56 227.5,-693.56\"/>\n",
       "</g>\n",
       "<!-- 134770593144720 -->\n",
       "<g id=\"node12\" class=\"node\">\n",
       "<title>134770593144720</title>\n",
       "<polygon fill=\"none\" stroke=\"black\" points=\"37.5,-480.5 37.5,-563.5 410.5,-563.5 410.5,-480.5 37.5,-480.5\"/>\n",
       "<polygon fill=\"black\" stroke=\"transparent\" points=\"37.5,-480.5 37.5,-563.5 410.5,-563.5 410.5,-480.5 37.5,-480.5\"/>\n",
       "<polygon fill=\"black\" stroke=\"transparent\" points=\"40,-521 40,-561 409,-561 409,-521 40,-521\"/>\n",
       "<polygon fill=\"none\" stroke=\"black\" points=\"40,-521 40,-561 409,-561 409,-521 40,-521\"/>\n",
       "<text text-anchor=\"start\" x=\"181.5\" y=\"-538.2\" font-family=\"Helvetica,sans-Serif\" font-weight=\"bold\" font-size=\"16.00\" fill=\"white\">fc1</text>\n",
       "<text text-anchor=\"start\" x=\"205.5\" y=\"-538.2\" font-family=\"Helvetica,sans-Serif\" font-size=\"16.00\" fill=\"white\"> (Dense)</text>\n",
       "<polygon fill=\"white\" stroke=\"transparent\" points=\"40,-482 40,-519 222,-519 222,-482 40,-482\"/>\n",
       "<polygon fill=\"none\" stroke=\"black\" points=\"40,-482 40,-519 222,-519 222,-482 40,-482\"/>\n",
       "<text text-anchor=\"start\" x=\"51\" y=\"-497.8\" font-family=\"Helvetica,sans-Serif\" font-size=\"14.00\">Input shape: </text>\n",
       "<text text-anchor=\"start\" x=\"130\" y=\"-497.8\" font-family=\"Helvetica,sans-Serif\" font-weight=\"bold\" font-size=\"14.00\">(None, 2304)</text>\n",
       "<polygon fill=\"white\" stroke=\"transparent\" points=\"224,-482 224,-519 409,-519 409,-482 224,-482\"/>\n",
       "<polygon fill=\"none\" stroke=\"black\" points=\"224,-482 224,-519 409,-519 409,-482 224,-482\"/>\n",
       "<text text-anchor=\"start\" x=\"235\" y=\"-497.8\" font-family=\"Helvetica,sans-Serif\" font-size=\"14.00\">Output shape: </text>\n",
       "<text text-anchor=\"start\" x=\"325\" y=\"-497.8\" font-family=\"Helvetica,sans-Serif\" font-weight=\"bold\" font-size=\"14.00\">(None, 512)</text>\n",
       "</g>\n",
       "<!-- 134770593143376&#45;&gt;134770593144720 -->\n",
       "<g id=\"edge11\" class=\"edge\">\n",
       "<title>134770593143376-&gt;134770593144720</title>\n",
       "<path fill=\"none\" stroke=\"black\" stroke-width=\"2\" d=\"M224,-600.37C224,-600.37 224,-573.56 224,-573.56\"/>\n",
       "<polygon fill=\"black\" stroke=\"black\" stroke-width=\"2\" points=\"227.5,-573.56 224,-563.56 220.5,-573.56 227.5,-573.56\"/>\n",
       "</g>\n",
       "<!-- 134770593146448 -->\n",
       "<g id=\"node13\" class=\"node\">\n",
       "<title>134770593146448</title>\n",
       "<polygon fill=\"none\" stroke=\"black\" points=\"41.5,-360.5 41.5,-443.5 406.5,-443.5 406.5,-360.5 41.5,-360.5\"/>\n",
       "<polygon fill=\"black\" stroke=\"transparent\" points=\"41.5,-360.5 41.5,-443.5 406.5,-443.5 406.5,-360.5 41.5,-360.5\"/>\n",
       "<polygon fill=\"black\" stroke=\"transparent\" points=\"44,-401 44,-441 405,-441 405,-401 44,-401\"/>\n",
       "<polygon fill=\"none\" stroke=\"black\" points=\"44,-401 44,-441 405,-441 405,-401 44,-401\"/>\n",
       "<text text-anchor=\"start\" x=\"141.5\" y=\"-418.2\" font-family=\"Helvetica,sans-Serif\" font-weight=\"bold\" font-size=\"16.00\" fill=\"white\">fc_dropout1</text>\n",
       "<text text-anchor=\"start\" x=\"234.5\" y=\"-418.2\" font-family=\"Helvetica,sans-Serif\" font-size=\"16.00\" fill=\"white\"> (Dropout)</text>\n",
       "<polygon fill=\"white\" stroke=\"transparent\" points=\"44,-362 44,-399 218,-399 218,-362 44,-362\"/>\n",
       "<polygon fill=\"none\" stroke=\"black\" points=\"44,-362 44,-399 218,-399 218,-362 44,-362\"/>\n",
       "<text text-anchor=\"start\" x=\"55\" y=\"-377.8\" font-family=\"Helvetica,sans-Serif\" font-size=\"14.00\">Input shape: </text>\n",
       "<text text-anchor=\"start\" x=\"134\" y=\"-377.8\" font-family=\"Helvetica,sans-Serif\" font-weight=\"bold\" font-size=\"14.00\">(None, 512)</text>\n",
       "<polygon fill=\"white\" stroke=\"transparent\" points=\"220,-362 220,-399 405,-399 405,-362 220,-362\"/>\n",
       "<polygon fill=\"none\" stroke=\"black\" points=\"220,-362 220,-399 405,-399 405,-362 220,-362\"/>\n",
       "<text text-anchor=\"start\" x=\"231\" y=\"-377.8\" font-family=\"Helvetica,sans-Serif\" font-size=\"14.00\">Output shape: </text>\n",
       "<text text-anchor=\"start\" x=\"321\" y=\"-377.8\" font-family=\"Helvetica,sans-Serif\" font-weight=\"bold\" font-size=\"14.00\">(None, 512)</text>\n",
       "</g>\n",
       "<!-- 134770593144720&#45;&gt;134770593146448 -->\n",
       "<g id=\"edge12\" class=\"edge\">\n",
       "<title>134770593144720-&gt;134770593146448</title>\n",
       "<path fill=\"none\" stroke=\"black\" stroke-width=\"2\" d=\"M224,-480.37C224,-480.37 224,-453.56 224,-453.56\"/>\n",
       "<polygon fill=\"black\" stroke=\"black\" stroke-width=\"2\" points=\"227.5,-453.56 224,-443.56 220.5,-453.56 227.5,-453.56\"/>\n",
       "</g>\n",
       "<!-- 134770593149424 -->\n",
       "<g id=\"node14\" class=\"node\">\n",
       "<title>134770593149424</title>\n",
       "<polygon fill=\"none\" stroke=\"black\" points=\"41.5,-240.5 41.5,-323.5 406.5,-323.5 406.5,-240.5 41.5,-240.5\"/>\n",
       "<polygon fill=\"black\" stroke=\"transparent\" points=\"41.5,-240.5 41.5,-323.5 406.5,-323.5 406.5,-240.5 41.5,-240.5\"/>\n",
       "<polygon fill=\"black\" stroke=\"transparent\" points=\"44,-281 44,-321 405,-321 405,-281 44,-281\"/>\n",
       "<polygon fill=\"none\" stroke=\"black\" points=\"44,-281 44,-321 405,-321 405,-281 44,-281\"/>\n",
       "<text text-anchor=\"start\" x=\"181.5\" y=\"-298.2\" font-family=\"Helvetica,sans-Serif\" font-weight=\"bold\" font-size=\"16.00\" fill=\"white\">fc2</text>\n",
       "<text text-anchor=\"start\" x=\"205.5\" y=\"-298.2\" font-family=\"Helvetica,sans-Serif\" font-size=\"16.00\" fill=\"white\"> (Dense)</text>\n",
       "<polygon fill=\"white\" stroke=\"transparent\" points=\"44,-242 44,-279 218,-279 218,-242 44,-242\"/>\n",
       "<polygon fill=\"none\" stroke=\"black\" points=\"44,-242 44,-279 218,-279 218,-242 44,-242\"/>\n",
       "<text text-anchor=\"start\" x=\"55\" y=\"-257.8\" font-family=\"Helvetica,sans-Serif\" font-size=\"14.00\">Input shape: </text>\n",
       "<text text-anchor=\"start\" x=\"134\" y=\"-257.8\" font-family=\"Helvetica,sans-Serif\" font-weight=\"bold\" font-size=\"14.00\">(None, 512)</text>\n",
       "<polygon fill=\"white\" stroke=\"transparent\" points=\"220,-242 220,-279 405,-279 405,-242 220,-242\"/>\n",
       "<polygon fill=\"none\" stroke=\"black\" points=\"220,-242 220,-279 405,-279 405,-242 220,-242\"/>\n",
       "<text text-anchor=\"start\" x=\"231\" y=\"-257.8\" font-family=\"Helvetica,sans-Serif\" font-size=\"14.00\">Output shape: </text>\n",
       "<text text-anchor=\"start\" x=\"321\" y=\"-257.8\" font-family=\"Helvetica,sans-Serif\" font-weight=\"bold\" font-size=\"14.00\">(None, 512)</text>\n",
       "</g>\n",
       "<!-- 134770593146448&#45;&gt;134770593149424 -->\n",
       "<g id=\"edge13\" class=\"edge\">\n",
       "<title>134770593146448-&gt;134770593149424</title>\n",
       "<path fill=\"none\" stroke=\"black\" stroke-width=\"2\" d=\"M224,-360.37C224,-360.37 224,-333.56 224,-333.56\"/>\n",
       "<polygon fill=\"black\" stroke=\"black\" stroke-width=\"2\" points=\"227.5,-333.56 224,-323.56 220.5,-333.56 227.5,-333.56\"/>\n",
       "</g>\n",
       "<!-- 134770593143232 -->\n",
       "<g id=\"node15\" class=\"node\">\n",
       "<title>134770593143232</title>\n",
       "<polygon fill=\"none\" stroke=\"black\" points=\"41.5,-120.5 41.5,-203.5 406.5,-203.5 406.5,-120.5 41.5,-120.5\"/>\n",
       "<polygon fill=\"black\" stroke=\"transparent\" points=\"41.5,-120.5 41.5,-203.5 406.5,-203.5 406.5,-120.5 41.5,-120.5\"/>\n",
       "<polygon fill=\"black\" stroke=\"transparent\" points=\"44,-161 44,-201 405,-201 405,-161 44,-161\"/>\n",
       "<polygon fill=\"none\" stroke=\"black\" points=\"44,-161 44,-201 405,-201 405,-161 44,-161\"/>\n",
       "<text text-anchor=\"start\" x=\"141.5\" y=\"-178.2\" font-family=\"Helvetica,sans-Serif\" font-weight=\"bold\" font-size=\"16.00\" fill=\"white\">fc_dropout2</text>\n",
       "<text text-anchor=\"start\" x=\"234.5\" y=\"-178.2\" font-family=\"Helvetica,sans-Serif\" font-size=\"16.00\" fill=\"white\"> (Dropout)</text>\n",
       "<polygon fill=\"white\" stroke=\"transparent\" points=\"44,-122 44,-159 218,-159 218,-122 44,-122\"/>\n",
       "<polygon fill=\"none\" stroke=\"black\" points=\"44,-122 44,-159 218,-159 218,-122 44,-122\"/>\n",
       "<text text-anchor=\"start\" x=\"55\" y=\"-137.8\" font-family=\"Helvetica,sans-Serif\" font-size=\"14.00\">Input shape: </text>\n",
       "<text text-anchor=\"start\" x=\"134\" y=\"-137.8\" font-family=\"Helvetica,sans-Serif\" font-weight=\"bold\" font-size=\"14.00\">(None, 512)</text>\n",
       "<polygon fill=\"white\" stroke=\"transparent\" points=\"220,-122 220,-159 405,-159 405,-122 220,-122\"/>\n",
       "<polygon fill=\"none\" stroke=\"black\" points=\"220,-122 220,-159 405,-159 405,-122 220,-122\"/>\n",
       "<text text-anchor=\"start\" x=\"231\" y=\"-137.8\" font-family=\"Helvetica,sans-Serif\" font-size=\"14.00\">Output shape: </text>\n",
       "<text text-anchor=\"start\" x=\"321\" y=\"-137.8\" font-family=\"Helvetica,sans-Serif\" font-weight=\"bold\" font-size=\"14.00\">(None, 512)</text>\n",
       "</g>\n",
       "<!-- 134770593149424&#45;&gt;134770593143232 -->\n",
       "<g id=\"edge14\" class=\"edge\">\n",
       "<title>134770593149424-&gt;134770593143232</title>\n",
       "<path fill=\"none\" stroke=\"black\" stroke-width=\"2\" d=\"M224,-240.37C224,-240.37 224,-213.56 224,-213.56\"/>\n",
       "<polygon fill=\"black\" stroke=\"black\" stroke-width=\"2\" points=\"227.5,-213.56 224,-203.56 220.5,-213.56 227.5,-213.56\"/>\n",
       "</g>\n",
       "<!-- 134770593137760 -->\n",
       "<g id=\"node16\" class=\"node\">\n",
       "<title>134770593137760</title>\n",
       "<polygon fill=\"none\" stroke=\"black\" points=\"45,-0.5 45,-83.5 403,-83.5 403,-0.5 45,-0.5\"/>\n",
       "<polygon fill=\"black\" stroke=\"transparent\" points=\"45,-0.5 45,-83.5 403,-83.5 403,-0.5 45,-0.5\"/>\n",
       "<polygon fill=\"black\" stroke=\"transparent\" points=\"47,-41 47,-81 401,-81 401,-41 47,-41\"/>\n",
       "<polygon fill=\"none\" stroke=\"black\" points=\"47,-41 47,-81 401,-81 401,-41 47,-41\"/>\n",
       "<text text-anchor=\"start\" x=\"112.5\" y=\"-58.2\" font-family=\"Helvetica,sans-Serif\" font-weight=\"bold\" font-size=\"16.00\" fill=\"white\">fc3_10ways_softmax</text>\n",
       "<text text-anchor=\"start\" x=\"273.5\" y=\"-58.2\" font-family=\"Helvetica,sans-Serif\" font-size=\"16.00\" fill=\"white\"> (Dense)</text>\n",
       "<polygon fill=\"white\" stroke=\"transparent\" points=\"47,-2 47,-39 221,-39 221,-2 47,-2\"/>\n",
       "<polygon fill=\"none\" stroke=\"black\" points=\"47,-2 47,-39 221,-39 221,-2 47,-2\"/>\n",
       "<text text-anchor=\"start\" x=\"58\" y=\"-17.8\" font-family=\"Helvetica,sans-Serif\" font-size=\"14.00\">Input shape: </text>\n",
       "<text text-anchor=\"start\" x=\"137\" y=\"-17.8\" font-family=\"Helvetica,sans-Serif\" font-weight=\"bold\" font-size=\"14.00\">(None, 512)</text>\n",
       "<polygon fill=\"white\" stroke=\"transparent\" points=\"223,-2 223,-39 401,-39 401,-2 223,-2\"/>\n",
       "<polygon fill=\"none\" stroke=\"black\" points=\"223,-2 223,-39 401,-39 401,-2 223,-2\"/>\n",
       "<text text-anchor=\"start\" x=\"234\" y=\"-17.8\" font-family=\"Helvetica,sans-Serif\" font-size=\"14.00\">Output shape: </text>\n",
       "<text text-anchor=\"start\" x=\"324\" y=\"-17.8\" font-family=\"Helvetica,sans-Serif\" font-weight=\"bold\" font-size=\"14.00\">(None, 10)</text>\n",
       "</g>\n",
       "<!-- 134770593143232&#45;&gt;134770593137760 -->\n",
       "<g id=\"edge15\" class=\"edge\">\n",
       "<title>134770593143232-&gt;134770593137760</title>\n",
       "<path fill=\"none\" stroke=\"black\" stroke-width=\"2\" d=\"M224,-120.37C224,-120.37 224,-93.56 224,-93.56\"/>\n",
       "<polygon fill=\"black\" stroke=\"black\" stroke-width=\"2\" points=\"227.5,-93.56 224,-83.56 220.5,-93.56 227.5,-93.56\"/>\n",
       "</g>\n",
       "</g>\n",
       "</svg>"
      ],
      "text/plain": [
       "<IPython.core.display.SVG object>"
      ]
     },
     "execution_count": 5,
     "metadata": {},
     "output_type": "execute_result"
    }
   ],
   "source": [
    "SVG(model_to_dot(model, show_shapes=True).create(prog='dot', format='svg'))"
   ]
  },
  {
   "cell_type": "markdown",
   "id": "c3b204c3",
   "metadata": {
    "papermill": {
     "duration": 0.003762,
     "end_time": "2025-03-31T01:17:03.250080",
     "exception": false,
     "start_time": "2025-03-31T01:17:03.246318",
     "status": "completed"
    },
    "tags": []
   },
   "source": [
    "# (3) Train defined model\n",
    "- Note that the training history including loss and accuracy will be save in 'history' variable\n",
    "- In case your system runs out of memory (OOM), try to decrease batch size"
   ]
  },
  {
   "cell_type": "code",
   "execution_count": 6,
   "id": "4764ad6e",
   "metadata": {
    "execution": {
     "iopub.execute_input": "2025-03-31T01:17:03.258848Z",
     "iopub.status.busy": "2025-03-31T01:17:03.258610Z",
     "iopub.status.idle": "2025-03-31T01:19:27.899216Z",
     "shell.execute_reply": "2025-03-31T01:19:27.898313Z"
    },
    "papermill": {
     "duration": 144.646757,
     "end_time": "2025-03-31T01:19:27.900806",
     "exception": false,
     "start_time": "2025-03-31T01:17:03.254049",
     "status": "completed"
    },
    "tags": []
   },
   "outputs": [
    {
     "name": "stdout",
     "output_type": "stream",
     "text": [
      "Epoch 1/30\n",
      "\u001b[1m469/469\u001b[0m \u001b[32m━━━━━━━━━━━━━━━━━━━━\u001b[0m\u001b[37m\u001b[0m \u001b[1m15s\u001b[0m 20ms/step - accuracy: 0.1893 - loss: 2.2709 - val_accuracy: 0.6651 - val_loss: 1.2974\n",
      "Epoch 2/30\n",
      "\u001b[1m469/469\u001b[0m \u001b[32m━━━━━━━━━━━━━━━━━━━━\u001b[0m\u001b[37m\u001b[0m \u001b[1m4s\u001b[0m 9ms/step - accuracy: 0.6265 - loss: 1.1047 - val_accuracy: 0.8953 - val_loss: 0.3562\n",
      "Epoch 3/30\n",
      "\u001b[1m469/469\u001b[0m \u001b[32m━━━━━━━━━━━━━━━━━━━━\u001b[0m\u001b[37m\u001b[0m \u001b[1m4s\u001b[0m 9ms/step - accuracy: 0.8424 - loss: 0.4859 - val_accuracy: 0.9376 - val_loss: 0.2084\n",
      "Epoch 4/30\n",
      "\u001b[1m469/469\u001b[0m \u001b[32m━━━━━━━━━━━━━━━━━━━━\u001b[0m\u001b[37m\u001b[0m \u001b[1m4s\u001b[0m 9ms/step - accuracy: 0.8991 - loss: 0.3192 - val_accuracy: 0.9546 - val_loss: 0.1447\n",
      "Epoch 5/30\n",
      "\u001b[1m469/469\u001b[0m \u001b[32m━━━━━━━━━━━━━━━━━━━━\u001b[0m\u001b[37m\u001b[0m \u001b[1m4s\u001b[0m 9ms/step - accuracy: 0.9216 - loss: 0.2456 - val_accuracy: 0.9605 - val_loss: 0.1193\n",
      "Epoch 6/30\n",
      "\u001b[1m469/469\u001b[0m \u001b[32m━━━━━━━━━━━━━━━━━━━━\u001b[0m\u001b[37m\u001b[0m \u001b[1m4s\u001b[0m 9ms/step - accuracy: 0.9363 - loss: 0.2051 - val_accuracy: 0.9648 - val_loss: 0.1055\n",
      "Epoch 7/30\n",
      "\u001b[1m469/469\u001b[0m \u001b[32m━━━━━━━━━━━━━━━━━━━━\u001b[0m\u001b[37m\u001b[0m \u001b[1m4s\u001b[0m 9ms/step - accuracy: 0.9415 - loss: 0.1815 - val_accuracy: 0.9696 - val_loss: 0.0917\n",
      "Epoch 8/30\n",
      "\u001b[1m469/469\u001b[0m \u001b[32m━━━━━━━━━━━━━━━━━━━━\u001b[0m\u001b[37m\u001b[0m \u001b[1m4s\u001b[0m 9ms/step - accuracy: 0.9484 - loss: 0.1629 - val_accuracy: 0.9734 - val_loss: 0.0822\n",
      "Epoch 9/30\n",
      "\u001b[1m469/469\u001b[0m \u001b[32m━━━━━━━━━━━━━━━━━━━━\u001b[0m\u001b[37m\u001b[0m \u001b[1m4s\u001b[0m 9ms/step - accuracy: 0.9538 - loss: 0.1467 - val_accuracy: 0.9746 - val_loss: 0.0756\n",
      "Epoch 10/30\n",
      "\u001b[1m469/469\u001b[0m \u001b[32m━━━━━━━━━━━━━━━━━━━━\u001b[0m\u001b[37m\u001b[0m \u001b[1m4s\u001b[0m 9ms/step - accuracy: 0.9560 - loss: 0.1402 - val_accuracy: 0.9740 - val_loss: 0.0749\n",
      "Epoch 11/30\n",
      "\u001b[1m469/469\u001b[0m \u001b[32m━━━━━━━━━━━━━━━━━━━━\u001b[0m\u001b[37m\u001b[0m \u001b[1m4s\u001b[0m 9ms/step - accuracy: 0.9578 - loss: 0.1302 - val_accuracy: 0.9779 - val_loss: 0.0664\n",
      "Epoch 12/30\n",
      "\u001b[1m469/469\u001b[0m \u001b[32m━━━━━━━━━━━━━━━━━━━━\u001b[0m\u001b[37m\u001b[0m \u001b[1m4s\u001b[0m 9ms/step - accuracy: 0.9620 - loss: 0.1198 - val_accuracy: 0.9795 - val_loss: 0.0620\n",
      "Epoch 13/30\n",
      "\u001b[1m469/469\u001b[0m \u001b[32m━━━━━━━━━━━━━━━━━━━━\u001b[0m\u001b[37m\u001b[0m \u001b[1m4s\u001b[0m 9ms/step - accuracy: 0.9648 - loss: 0.1100 - val_accuracy: 0.9804 - val_loss: 0.0588\n",
      "Epoch 14/30\n",
      "\u001b[1m469/469\u001b[0m \u001b[32m━━━━━━━━━━━━━━━━━━━━\u001b[0m\u001b[37m\u001b[0m \u001b[1m4s\u001b[0m 9ms/step - accuracy: 0.9662 - loss: 0.1065 - val_accuracy: 0.9809 - val_loss: 0.0555\n",
      "Epoch 15/30\n",
      "\u001b[1m469/469\u001b[0m \u001b[32m━━━━━━━━━━━━━━━━━━━━\u001b[0m\u001b[37m\u001b[0m \u001b[1m4s\u001b[0m 10ms/step - accuracy: 0.9664 - loss: 0.1057 - val_accuracy: 0.9822 - val_loss: 0.0529\n",
      "Epoch 16/30\n",
      "\u001b[1m469/469\u001b[0m \u001b[32m━━━━━━━━━━━━━━━━━━━━\u001b[0m\u001b[37m\u001b[0m \u001b[1m5s\u001b[0m 10ms/step - accuracy: 0.9686 - loss: 0.0988 - val_accuracy: 0.9839 - val_loss: 0.0489\n",
      "Epoch 17/30\n",
      "\u001b[1m469/469\u001b[0m \u001b[32m━━━━━━━━━━━━━━━━━━━━\u001b[0m\u001b[37m\u001b[0m \u001b[1m5s\u001b[0m 10ms/step - accuracy: 0.9694 - loss: 0.0939 - val_accuracy: 0.9838 - val_loss: 0.0477\n",
      "Epoch 18/30\n",
      "\u001b[1m469/469\u001b[0m \u001b[32m━━━━━━━━━━━━━━━━━━━━\u001b[0m\u001b[37m\u001b[0m \u001b[1m5s\u001b[0m 10ms/step - accuracy: 0.9705 - loss: 0.0923 - val_accuracy: 0.9835 - val_loss: 0.0476\n",
      "Epoch 19/30\n",
      "\u001b[1m469/469\u001b[0m \u001b[32m━━━━━━━━━━━━━━━━━━━━\u001b[0m\u001b[37m\u001b[0m \u001b[1m5s\u001b[0m 10ms/step - accuracy: 0.9726 - loss: 0.0878 - val_accuracy: 0.9845 - val_loss: 0.0441\n",
      "Epoch 20/30\n",
      "\u001b[1m469/469\u001b[0m \u001b[32m━━━━━━━━━━━━━━━━━━━━\u001b[0m\u001b[37m\u001b[0m \u001b[1m5s\u001b[0m 10ms/step - accuracy: 0.9744 - loss: 0.0806 - val_accuracy: 0.9859 - val_loss: 0.0435\n",
      "Epoch 21/30\n",
      "\u001b[1m469/469\u001b[0m \u001b[32m━━━━━━━━━━━━━━━━━━━━\u001b[0m\u001b[37m\u001b[0m \u001b[1m5s\u001b[0m 10ms/step - accuracy: 0.9746 - loss: 0.0806 - val_accuracy: 0.9852 - val_loss: 0.0410\n",
      "Epoch 22/30\n",
      "\u001b[1m469/469\u001b[0m \u001b[32m━━━━━━━━━━━━━━━━━━━━\u001b[0m\u001b[37m\u001b[0m \u001b[1m5s\u001b[0m 10ms/step - accuracy: 0.9746 - loss: 0.0823 - val_accuracy: 0.9857 - val_loss: 0.0399\n",
      "Epoch 23/30\n",
      "\u001b[1m469/469\u001b[0m \u001b[32m━━━━━━━━━━━━━━━━━━━━\u001b[0m\u001b[37m\u001b[0m \u001b[1m5s\u001b[0m 10ms/step - accuracy: 0.9768 - loss: 0.0757 - val_accuracy: 0.9865 - val_loss: 0.0393\n",
      "Epoch 24/30\n",
      "\u001b[1m469/469\u001b[0m \u001b[32m━━━━━━━━━━━━━━━━━━━━\u001b[0m\u001b[37m\u001b[0m \u001b[1m5s\u001b[0m 10ms/step - accuracy: 0.9764 - loss: 0.0784 - val_accuracy: 0.9868 - val_loss: 0.0374\n",
      "Epoch 25/30\n",
      "\u001b[1m469/469\u001b[0m \u001b[32m━━━━━━━━━━━━━━━━━━━━\u001b[0m\u001b[37m\u001b[0m \u001b[1m5s\u001b[0m 10ms/step - accuracy: 0.9766 - loss: 0.0732 - val_accuracy: 0.9875 - val_loss: 0.0362\n",
      "Epoch 26/30\n",
      "\u001b[1m469/469\u001b[0m \u001b[32m━━━━━━━━━━━━━━━━━━━━\u001b[0m\u001b[37m\u001b[0m \u001b[1m4s\u001b[0m 10ms/step - accuracy: 0.9775 - loss: 0.0715 - val_accuracy: 0.9881 - val_loss: 0.0359\n",
      "Epoch 27/30\n",
      "\u001b[1m469/469\u001b[0m \u001b[32m━━━━━━━━━━━━━━━━━━━━\u001b[0m\u001b[37m\u001b[0m \u001b[1m4s\u001b[0m 9ms/step - accuracy: 0.9792 - loss: 0.0673 - val_accuracy: 0.9881 - val_loss: 0.0344\n",
      "Epoch 28/30\n",
      "\u001b[1m469/469\u001b[0m \u001b[32m━━━━━━━━━━━━━━━━━━━━\u001b[0m\u001b[37m\u001b[0m \u001b[1m4s\u001b[0m 10ms/step - accuracy: 0.9785 - loss: 0.0652 - val_accuracy: 0.9882 - val_loss: 0.0343\n",
      "Epoch 29/30\n",
      "\u001b[1m469/469\u001b[0m \u001b[32m━━━━━━━━━━━━━━━━━━━━\u001b[0m\u001b[37m\u001b[0m \u001b[1m4s\u001b[0m 9ms/step - accuracy: 0.9796 - loss: 0.0638 - val_accuracy: 0.9883 - val_loss: 0.0352\n",
      "Epoch 30/30\n",
      "\u001b[1m469/469\u001b[0m \u001b[32m━━━━━━━━━━━━━━━━━━━━\u001b[0m\u001b[37m\u001b[0m \u001b[1m4s\u001b[0m 9ms/step - accuracy: 0.9805 - loss: 0.0628 - val_accuracy: 0.9885 - val_loss: 0.0346\n",
      "> training time is 2.4105 minutes\n"
     ]
    }
   ],
   "source": [
    "# declare learning rate, loss function, and model metric\n",
    "loss = 'categorical_crossentropy'\n",
    "learning_rate = 0.01\n",
    "model.compile(loss=loss, optimizer=SGD(learning_rate=learning_rate), metrics=['accuracy'])\n",
    "\n",
    "# train the model\n",
    "batch_size = 128\n",
    "epochs = 30\n",
    "\n",
    "starting_time = time.time()\n",
    "history = model.fit(x_train, y_train,\n",
    "                    validation_data=(x_test, y_test),\n",
    "                    batch_size=batch_size,\n",
    "                    epochs=epochs)\n",
    "print('> training time is %.4f minutes' % ((time.time() - starting_time)/60))"
   ]
  },
  {
   "cell_type": "markdown",
   "id": "c1426776",
   "metadata": {
    "papermill": {
     "duration": 0.113493,
     "end_time": "2025-03-31T01:19:28.130665",
     "exception": false,
     "start_time": "2025-03-31T01:19:28.017172",
     "status": "completed"
    },
    "tags": []
   },
   "source": [
    "### Training time\n",
    "- Training time with GTX 1080 is about 4.2231 minutes for 30 epochs\n",
    "- Training time with Core i7 is around 105.5 minutes for 30 epochs"
   ]
  },
  {
   "cell_type": "markdown",
   "id": "4d7002a7",
   "metadata": {
    "papermill": {
     "duration": 0.113842,
     "end_time": "2025-03-31T01:19:28.402241",
     "exception": false,
     "start_time": "2025-03-31T01:19:28.288399",
     "status": "completed"
    },
    "tags": []
   },
   "source": [
    "# (4) Evaluate trained model"
   ]
  },
  {
   "cell_type": "code",
   "execution_count": 7,
   "id": "212a0720",
   "metadata": {
    "execution": {
     "iopub.execute_input": "2025-03-31T01:19:28.640066Z",
     "iopub.status.busy": "2025-03-31T01:19:28.639532Z",
     "iopub.status.idle": "2025-03-31T01:19:29.876429Z",
     "shell.execute_reply": "2025-03-31T01:19:29.875520Z"
    },
    "papermill": {
     "duration": 1.359017,
     "end_time": "2025-03-31T01:19:29.877873",
     "exception": false,
     "start_time": "2025-03-31T01:19:28.518856",
     "status": "completed"
    },
    "tags": []
   },
   "outputs": [
    {
     "name": "stdout",
     "output_type": "stream",
     "text": [
      "\u001b[1m313/313\u001b[0m \u001b[32m━━━━━━━━━━━━━━━━━━━━\u001b[0m\u001b[37m\u001b[0m \u001b[1m1s\u001b[0m 2ms/step - accuracy: 0.9866 - loss: 0.0425\n",
      "Test loss: 0.03464802727103233\n",
      "Test accuracy: 0.9884999990463257\n"
     ]
    }
   ],
   "source": [
    "score = model.evaluate(x_test, y_test)\n",
    "print('Test loss:', score[0])\n",
    "print('Test accuracy:', score[1])"
   ]
  },
  {
   "cell_type": "code",
   "execution_count": 8,
   "id": "5351e6a0",
   "metadata": {
    "execution": {
     "iopub.execute_input": "2025-03-31T01:19:30.108318Z",
     "iopub.status.busy": "2025-03-31T01:19:30.108004Z",
     "iopub.status.idle": "2025-03-31T01:19:30.847718Z",
     "shell.execute_reply": "2025-03-31T01:19:30.846881Z"
    },
    "papermill": {
     "duration": 0.857249,
     "end_time": "2025-03-31T01:19:30.849093",
     "exception": false,
     "start_time": "2025-03-31T01:19:29.991844",
     "status": "completed"
    },
    "tags": []
   },
   "outputs": [
    {
     "name": "stdout",
     "output_type": "stream",
     "text": [
      "\u001b[1m1/1\u001b[0m \u001b[32m━━━━━━━━━━━━━━━━━━━━\u001b[0m\u001b[37m\u001b[0m \u001b[1m0s\u001b[0m 450ms/step\n"
     ]
    },
    {
     "data": {
      "image/png": "[encoded data removed]",
      "text/plain": [
       "<Figure size 640x480 with 1 Axes>"
      ]
     },
     "metadata": {},
     "output_type": "display_data"
    }
   ],
   "source": [
    "# select a test image randomly\n",
    "random_test_index = np.random.choice(x_test.shape[0], size=1)[0]\n",
    "test_img = x_test[random_test_index]\n",
    "test_label = np.argmax(y_test[random_test_index])\n",
    "\n",
    "# predict test image with trained model\n",
    "pred_label = model.predict(np.expand_dims(test_img, axis=0))\n",
    "pred_label = np.argmax(pred_label)\n",
    "\n",
    "plt.imshow(test_img[:, :, 0], cmap='gray')\n",
    "plt.title('true label = %d, predicted label = %d' % (test_label, pred_label))\n",
    "plt.show()"
   ]
  }
 ],
 "metadata": {
  "anaconda-cloud": {},
  "kaggle": {
   "accelerator": "nvidiaTeslaT4",
   "dataSources": [],
   "dockerImageVersionId": 30919,
   "isGpuEnabled": true,
   "isInternetEnabled": true,
   "language": "python",
   "sourceType": "notebook"
  },
  "kernelspec": {
   "display_name": "Python 3",
   "language": "python",
   "name": "python3"
  },
  "language_info": {
   "codemirror_mode": {
    "name": "ipython",
    "version": 3
   },
   "file_extension": ".py",
   "mimetype": "text/x-python",
   "name": "python",
   "nbconvert_exporter": "python",
   "pygments_lexer": "ipython3",
   "version": "3.10.12"
  },
  "papermill": {
   "default_parameters": {},
   "duration": 169.948675,
   "end_time": "2025-03-31T01:19:33.279862",
   "environment_variables": {},
   "exception": null,
   "input_path": "__notebook__.ipynb",
   "output_path": "__notebook__.ipynb",
   "parameters": {},
   "start_time": "2025-03-31T01:16:43.331187",
   "version": "2.6.0"
  }
 },
 "nbformat": 4,
 "nbformat_minor": 5
}
