{
 "cells": [
  {
   "cell_type": "markdown",
   "id": "0a9ec960",
   "metadata": {
    "papermill": {
     "duration": 0.003797,
     "end_time": "2025-03-31T10:08:33.171004",
     "exception": false,
     "start_time": "2025-03-31T10:08:33.167207",
     "status": "completed"
    },
    "tags": []
   },
   "source": [
    "# Overview\n",
    "### Data augmentation + EarlyStopping to avoid overfitting\n",
    "- FER2013 dataset (face images + facial expression)\n",
    "  + Goal: classifying facial exprression\n",
    "  + Input: a 48x48 image\n",
    "  + Output: facial expression (angry, disgust, fear, happy, neutral, sad, and surprise)\n",
    "- Defining an CNN+MLP\n",
    "- Training and evaluating an CNN+MLP"
   ]
  },
  {
   "cell_type": "markdown",
   "id": "2daceef9",
   "metadata": {
    "papermill": {
     "duration": 0.002914,
     "end_time": "2025-03-31T10:08:33.177268",
     "exception": false,
     "start_time": "2025-03-31T10:08:33.174354",
     "status": "completed"
    },
    "tags": []
   },
   "source": [
    "# Import libraries"
   ]
  },
  {
   "cell_type": "code",
   "execution_count": 1,
   "id": "ecc142a6",
   "metadata": {
    "execution": {
     "iopub.execute_input": "2025-03-31T10:08:33.184259Z",
     "iopub.status.busy": "2025-03-31T10:08:33.184021Z",
     "iopub.status.idle": "2025-03-31T10:08:47.078538Z",
     "shell.execute_reply": "2025-03-31T10:08:47.077826Z"
    },
    "papermill": {
     "duration": 13.899655,
     "end_time": "2025-03-31T10:08:47.080031",
     "exception": false,
     "start_time": "2025-03-31T10:08:33.180376",
     "status": "completed"
    },
    "tags": []
   },
   "outputs": [],
   "source": [
    "import keras\n",
    "from keras.models import Model\n",
    "from keras.layers import Input, Conv2D, MaxPooling2D, Flatten, Dense, Dropout\n",
    "from keras.optimizers import Adam\n",
    "from tensorflow.keras.preprocessing.image import ImageDataGenerator\n",
    "from keras.callbacks import EarlyStopping\n",
    "\n",
    "from IPython.display import SVG\n",
    "from tensorflow.keras.utils import model_to_dot, plot_model\n",
    "\n",
    "import time\n",
    "import numpy as np\n",
    "import matplotlib.pyplot as plt"
   ]
  },
  {
   "cell_type": "code",
   "execution_count": 2,
   "id": "760b3271",
   "metadata": {
    "execution": {
     "iopub.execute_input": "2025-03-31T10:08:47.087809Z",
     "iopub.status.busy": "2025-03-31T10:08:47.087405Z",
     "iopub.status.idle": "2025-03-31T10:08:47.090481Z",
     "shell.execute_reply": "2025-03-31T10:08:47.089885Z"
    },
    "papermill": {
     "duration": 0.00808,
     "end_time": "2025-03-31T10:08:47.091656",
     "exception": false,
     "start_time": "2025-03-31T10:08:47.083576",
     "status": "completed"
    },
    "tags": []
   },
   "outputs": [],
   "source": [
    "num_classes = 7   # angry, disgust, fear, happy, neutral, sad, and surprise"
   ]
  },
  {
   "cell_type": "markdown",
   "id": "b2c36054",
   "metadata": {
    "papermill": {
     "duration": 0.003085,
     "end_time": "2025-03-31T10:08:47.097960",
     "exception": false,
     "start_time": "2025-03-31T10:08:47.094875",
     "status": "completed"
    },
    "tags": []
   },
   "source": [
    "# (1) Data"
   ]
  },
  {
   "cell_type": "markdown",
   "id": "2fe5c738",
   "metadata": {
    "papermill": {
     "duration": 0.002933,
     "end_time": "2025-03-31T10:08:47.104063",
     "exception": false,
     "start_time": "2025-03-31T10:08:47.101130",
     "status": "completed"
    },
    "tags": []
   },
   "source": [
    "### Download data at https://drive.google.com/drive/folders/15EozdYlGeO3d-ny8nbqFM3ojTGsj2hdE?usp=sharing\n",
    "This source code and npy files MUST be in the same location"
   ]
  },
  {
   "cell_type": "code",
   "execution_count": 3,
   "id": "b3c6d400",
   "metadata": {
    "execution": {
     "iopub.execute_input": "2025-03-31T10:08:47.110852Z",
     "iopub.status.busy": "2025-03-31T10:08:47.110653Z",
     "iopub.status.idle": "2025-03-31T10:08:53.625864Z",
     "shell.execute_reply": "2025-03-31T10:08:53.624982Z"
    },
    "papermill": {
     "duration": 6.520137,
     "end_time": "2025-03-31T10:08:53.627242",
     "exception": false,
     "start_time": "2025-03-31T10:08:47.107105",
     "status": "completed"
    },
    "tags": []
   },
   "outputs": [
    {
     "data": {
      "text/plain": [
       "array([[ 70.,  80.,  82., ...,   0.,   0.,   0.],\n",
       "       [151., 150., 147., ...,   0.,   0.,   0.],\n",
       "       [231., 212., 156., ...,   0.,   0.,   0.],\n",
       "       ...,\n",
       "       [ 74.,  81.,  87., ...,   1.,   0.,   0.],\n",
       "       [222., 227., 203., ...,   0.,   0.,   0.],\n",
       "       [195., 199., 205., ...,   1.,   0.,   0.]])"
      ]
     },
     "execution_count": 3,
     "metadata": {},
     "output_type": "execute_result"
    }
   ],
   "source": [
    "trainingset = np.loadtxt('/kaggle/input/fer2013/fer2013_training_onehot.csv', delimiter=',')\n",
    "testingset = np.loadtxt('/kaggle/input/fer2013/fer2013_publictest_onehot.csv', delimiter=',')\n",
    "\n",
    "trainingset"
   ]
  },
  {
   "cell_type": "code",
   "execution_count": 4,
   "id": "729ec605",
   "metadata": {
    "execution": {
     "iopub.execute_input": "2025-03-31T10:08:53.635076Z",
     "iopub.status.busy": "2025-03-31T10:08:53.634798Z",
     "iopub.status.idle": "2025-03-31T10:08:53.639397Z",
     "shell.execute_reply": "2025-03-31T10:08:53.638595Z"
    },
    "papermill": {
     "duration": 0.009587,
     "end_time": "2025-03-31T10:08:53.640546",
     "exception": false,
     "start_time": "2025-03-31T10:08:53.630959",
     "status": "completed"
    },
    "tags": []
   },
   "outputs": [],
   "source": [
    "n_inputs = 2304\n",
    "n_classes = 7\n",
    "img_dim = 48\n",
    "\n",
    "x_training = trainingset[:, 0:n_inputs]\n",
    "y_training = trainingset[:, n_inputs:n_inputs + n_classes]\n",
    "\n",
    "x_testing = testingset[:, 0:n_inputs]\n",
    "y_testing = testingset[:, n_inputs:n_inputs + n_classes]\n",
    "\n",
    "x_training = x_training.reshape(x_training.shape[0], 48, 48)\n",
    "x_training = np.expand_dims(x_training, axis=-1)  # shape: (batch_size, 48, 48, 1)\n",
    "\n",
    "x_testing = x_testing.reshape(x_testing.shape[0], 48, 48)\n",
    "x_testing = np.expand_dims(x_testing, axis=-1)  # shape: (batch_size, 48, 48, 1)\n"
   ]
  },
  {
   "cell_type": "markdown",
   "id": "a82c1c5d",
   "metadata": {
    "papermill": {
     "duration": 0.003016,
     "end_time": "2025-03-31T10:08:53.646747",
     "exception": false,
     "start_time": "2025-03-31T10:08:53.643731",
     "status": "completed"
    },
    "tags": []
   },
   "source": [
    "# (2) Declare model"
   ]
  },
  {
   "cell_type": "code",
   "execution_count": 5,
   "id": "385dd33f",
   "metadata": {
    "execution": {
     "iopub.execute_input": "2025-03-31T10:08:53.653779Z",
     "iopub.status.busy": "2025-03-31T10:08:53.653557Z",
     "iopub.status.idle": "2025-03-31T10:08:56.304633Z",
     "shell.execute_reply": "2025-03-31T10:08:56.303794Z"
    },
    "papermill": {
     "duration": 2.655868,
     "end_time": "2025-03-31T10:08:56.305812",
     "exception": false,
     "start_time": "2025-03-31T10:08:53.649944",
     "status": "completed"
    },
    "tags": []
   },
   "outputs": [
    {
     "data": {
      "text/html": [
       "<pre style=\"white-space:pre;overflow-x:auto;line-height:normal;font-family:Menlo,'DejaVu Sans Mono',consolas,'Courier New',monospace\"><span style=\"font-weight: bold\">Model: \"emo_cnn\"</span>\n",
       "</pre>\n"
      ],
      "text/plain": [
       "\u001b[1mModel: \"emo_cnn\"\u001b[0m\n"
      ]
     },
     "metadata": {},
     "output_type": "display_data"
    },
    {
     "data": {
      "text/html": [
       "<pre style=\"white-space:pre;overflow-x:auto;line-height:normal;font-family:Menlo,'DejaVu Sans Mono',consolas,'Courier New',monospace\">┏━━━━━━━━━━━━━━━━━━━━━━━━━━━━━━━━━━━━━━┳━━━━━━━━━━━━━━━━━━━━━━━━━━━━━┳━━━━━━━━━━━━━━━━━┓\n",
       "┃<span style=\"font-weight: bold\"> Layer (type)                         </span>┃<span style=\"font-weight: bold\"> Output Shape                </span>┃<span style=\"font-weight: bold\">         Param # </span>┃\n",
       "┡━━━━━━━━━━━━━━━━━━━━━━━━━━━━━━━━━━━━━━╇━━━━━━━━━━━━━━━━━━━━━━━━━━━━━╇━━━━━━━━━━━━━━━━━┩\n",
       "│ Input (<span style=\"color: #0087ff; text-decoration-color: #0087ff\">InputLayer</span>)                   │ (<span style=\"color: #00d7ff; text-decoration-color: #00d7ff\">None</span>, <span style=\"color: #00af00; text-decoration-color: #00af00\">48</span>, <span style=\"color: #00af00; text-decoration-color: #00af00\">48</span>, <span style=\"color: #00af00; text-decoration-color: #00af00\">1</span>)           │               <span style=\"color: #00af00; text-decoration-color: #00af00\">0</span> │\n",
       "├──────────────────────────────────────┼─────────────────────────────┼─────────────────┤\n",
       "│ conv1_1 (<span style=\"color: #0087ff; text-decoration-color: #0087ff\">Conv2D</span>)                     │ (<span style=\"color: #00d7ff; text-decoration-color: #00d7ff\">None</span>, <span style=\"color: #00af00; text-decoration-color: #00af00\">48</span>, <span style=\"color: #00af00; text-decoration-color: #00af00\">48</span>, <span style=\"color: #00af00; text-decoration-color: #00af00\">64</span>)          │             <span style=\"color: #00af00; text-decoration-color: #00af00\">640</span> │\n",
       "├──────────────────────────────────────┼─────────────────────────────┼─────────────────┤\n",
       "│ conv1_2 (<span style=\"color: #0087ff; text-decoration-color: #0087ff\">Conv2D</span>)                     │ (<span style=\"color: #00d7ff; text-decoration-color: #00d7ff\">None</span>, <span style=\"color: #00af00; text-decoration-color: #00af00\">46</span>, <span style=\"color: #00af00; text-decoration-color: #00af00\">46</span>, <span style=\"color: #00af00; text-decoration-color: #00af00\">64</span>)          │          <span style=\"color: #00af00; text-decoration-color: #00af00\">36,928</span> │\n",
       "├──────────────────────────────────────┼─────────────────────────────┼─────────────────┤\n",
       "│ pool1 (<span style=\"color: #0087ff; text-decoration-color: #0087ff\">MaxPooling2D</span>)                 │ (<span style=\"color: #00d7ff; text-decoration-color: #00d7ff\">None</span>, <span style=\"color: #00af00; text-decoration-color: #00af00\">23</span>, <span style=\"color: #00af00; text-decoration-color: #00af00\">23</span>, <span style=\"color: #00af00; text-decoration-color: #00af00\">64</span>)          │               <span style=\"color: #00af00; text-decoration-color: #00af00\">0</span> │\n",
       "├──────────────────────────────────────┼─────────────────────────────┼─────────────────┤\n",
       "│ conv_dropout1 (<span style=\"color: #0087ff; text-decoration-color: #0087ff\">Dropout</span>)              │ (<span style=\"color: #00d7ff; text-decoration-color: #00d7ff\">None</span>, <span style=\"color: #00af00; text-decoration-color: #00af00\">23</span>, <span style=\"color: #00af00; text-decoration-color: #00af00\">23</span>, <span style=\"color: #00af00; text-decoration-color: #00af00\">64</span>)          │               <span style=\"color: #00af00; text-decoration-color: #00af00\">0</span> │\n",
       "├──────────────────────────────────────┼─────────────────────────────┼─────────────────┤\n",
       "│ conv2_1 (<span style=\"color: #0087ff; text-decoration-color: #0087ff\">Conv2D</span>)                     │ (<span style=\"color: #00d7ff; text-decoration-color: #00d7ff\">None</span>, <span style=\"color: #00af00; text-decoration-color: #00af00\">23</span>, <span style=\"color: #00af00; text-decoration-color: #00af00\">23</span>, <span style=\"color: #00af00; text-decoration-color: #00af00\">128</span>)         │          <span style=\"color: #00af00; text-decoration-color: #00af00\">73,856</span> │\n",
       "├──────────────────────────────────────┼─────────────────────────────┼─────────────────┤\n",
       "│ conv2_2 (<span style=\"color: #0087ff; text-decoration-color: #0087ff\">Conv2D</span>)                     │ (<span style=\"color: #00d7ff; text-decoration-color: #00d7ff\">None</span>, <span style=\"color: #00af00; text-decoration-color: #00af00\">21</span>, <span style=\"color: #00af00; text-decoration-color: #00af00\">21</span>, <span style=\"color: #00af00; text-decoration-color: #00af00\">128</span>)         │         <span style=\"color: #00af00; text-decoration-color: #00af00\">147,584</span> │\n",
       "├──────────────────────────────────────┼─────────────────────────────┼─────────────────┤\n",
       "│ conv2_3 (<span style=\"color: #0087ff; text-decoration-color: #0087ff\">Conv2D</span>)                     │ (<span style=\"color: #00d7ff; text-decoration-color: #00d7ff\">None</span>, <span style=\"color: #00af00; text-decoration-color: #00af00\">21</span>, <span style=\"color: #00af00; text-decoration-color: #00af00\">21</span>, <span style=\"color: #00af00; text-decoration-color: #00af00\">218</span>)         │         <span style=\"color: #00af00; text-decoration-color: #00af00\">251,354</span> │\n",
       "├──────────────────────────────────────┼─────────────────────────────┼─────────────────┤\n",
       "│ conv2_4 (<span style=\"color: #0087ff; text-decoration-color: #0087ff\">Conv2D</span>)                     │ (<span style=\"color: #00d7ff; text-decoration-color: #00d7ff\">None</span>, <span style=\"color: #00af00; text-decoration-color: #00af00\">19</span>, <span style=\"color: #00af00; text-decoration-color: #00af00\">19</span>, <span style=\"color: #00af00; text-decoration-color: #00af00\">218</span>)         │         <span style=\"color: #00af00; text-decoration-color: #00af00\">427,934</span> │\n",
       "├──────────────────────────────────────┼─────────────────────────────┼─────────────────┤\n",
       "│ pool2 (<span style=\"color: #0087ff; text-decoration-color: #0087ff\">MaxPooling2D</span>)                 │ (<span style=\"color: #00d7ff; text-decoration-color: #00d7ff\">None</span>, <span style=\"color: #00af00; text-decoration-color: #00af00\">9</span>, <span style=\"color: #00af00; text-decoration-color: #00af00\">9</span>, <span style=\"color: #00af00; text-decoration-color: #00af00\">218</span>)           │               <span style=\"color: #00af00; text-decoration-color: #00af00\">0</span> │\n",
       "├──────────────────────────────────────┼─────────────────────────────┼─────────────────┤\n",
       "│ conv_dropout2 (<span style=\"color: #0087ff; text-decoration-color: #0087ff\">Dropout</span>)              │ (<span style=\"color: #00d7ff; text-decoration-color: #00d7ff\">None</span>, <span style=\"color: #00af00; text-decoration-color: #00af00\">9</span>, <span style=\"color: #00af00; text-decoration-color: #00af00\">9</span>, <span style=\"color: #00af00; text-decoration-color: #00af00\">218</span>)           │               <span style=\"color: #00af00; text-decoration-color: #00af00\">0</span> │\n",
       "├──────────────────────────────────────┼─────────────────────────────┼─────────────────┤\n",
       "│ flatten (<span style=\"color: #0087ff; text-decoration-color: #0087ff\">Flatten</span>)                    │ (<span style=\"color: #00d7ff; text-decoration-color: #00d7ff\">None</span>, <span style=\"color: #00af00; text-decoration-color: #00af00\">17658</span>)               │               <span style=\"color: #00af00; text-decoration-color: #00af00\">0</span> │\n",
       "├──────────────────────────────────────┼─────────────────────────────┼─────────────────┤\n",
       "│ fc1 (<span style=\"color: #0087ff; text-decoration-color: #0087ff\">Dense</span>)                          │ (<span style=\"color: #00d7ff; text-decoration-color: #00d7ff\">None</span>, <span style=\"color: #00af00; text-decoration-color: #00af00\">1024</span>)                │      <span style=\"color: #00af00; text-decoration-color: #00af00\">18,082,816</span> │\n",
       "├──────────────────────────────────────┼─────────────────────────────┼─────────────────┤\n",
       "│ fc_dropout1 (<span style=\"color: #0087ff; text-decoration-color: #0087ff\">Dropout</span>)                │ (<span style=\"color: #00d7ff; text-decoration-color: #00d7ff\">None</span>, <span style=\"color: #00af00; text-decoration-color: #00af00\">1024</span>)                │               <span style=\"color: #00af00; text-decoration-color: #00af00\">0</span> │\n",
       "├──────────────────────────────────────┼─────────────────────────────┼─────────────────┤\n",
       "│ fc3_7ways_softmax (<span style=\"color: #0087ff; text-decoration-color: #0087ff\">Dense</span>)            │ (<span style=\"color: #00d7ff; text-decoration-color: #00d7ff\">None</span>, <span style=\"color: #00af00; text-decoration-color: #00af00\">7</span>)                   │           <span style=\"color: #00af00; text-decoration-color: #00af00\">7,175</span> │\n",
       "└──────────────────────────────────────┴─────────────────────────────┴─────────────────┘\n",
       "</pre>\n"
      ],
      "text/plain": [
       "┏━━━━━━━━━━━━━━━━━━━━━━━━━━━━━━━━━━━━━━┳━━━━━━━━━━━━━━━━━━━━━━━━━━━━━┳━━━━━━━━━━━━━━━━━┓\n",
       "┃\u001b[1m \u001b[0m\u001b[1mLayer (type)                        \u001b[0m\u001b[1m \u001b[0m┃\u001b[1m \u001b[0m\u001b[1mOutput Shape               \u001b[0m\u001b[1m \u001b[0m┃\u001b[1m \u001b[0m\u001b[1m        Param #\u001b[0m\u001b[1m \u001b[0m┃\n",
       "┡━━━━━━━━━━━━━━━━━━━━━━━━━━━━━━━━━━━━━━╇━━━━━━━━━━━━━━━━━━━━━━━━━━━━━╇━━━━━━━━━━━━━━━━━┩\n",
       "│ Input (\u001b[38;5;33mInputLayer\u001b[0m)                   │ (\u001b[38;5;45mNone\u001b[0m, \u001b[38;5;34m48\u001b[0m, \u001b[38;5;34m48\u001b[0m, \u001b[38;5;34m1\u001b[0m)           │               \u001b[38;5;34m0\u001b[0m │\n",
       "├──────────────────────────────────────┼─────────────────────────────┼─────────────────┤\n",
       "│ conv1_1 (\u001b[38;5;33mConv2D\u001b[0m)                     │ (\u001b[38;5;45mNone\u001b[0m, \u001b[38;5;34m48\u001b[0m, \u001b[38;5;34m48\u001b[0m, \u001b[38;5;34m64\u001b[0m)          │             \u001b[38;5;34m640\u001b[0m │\n",
       "├──────────────────────────────────────┼─────────────────────────────┼─────────────────┤\n",
       "│ conv1_2 (\u001b[38;5;33mConv2D\u001b[0m)                     │ (\u001b[38;5;45mNone\u001b[0m, \u001b[38;5;34m46\u001b[0m, \u001b[38;5;34m46\u001b[0m, \u001b[38;5;34m64\u001b[0m)          │          \u001b[38;5;34m36,928\u001b[0m │\n",
       "├──────────────────────────────────────┼─────────────────────────────┼─────────────────┤\n",
       "│ pool1 (\u001b[38;5;33mMaxPooling2D\u001b[0m)                 │ (\u001b[38;5;45mNone\u001b[0m, \u001b[38;5;34m23\u001b[0m, \u001b[38;5;34m23\u001b[0m, \u001b[38;5;34m64\u001b[0m)          │               \u001b[38;5;34m0\u001b[0m │\n",
       "├──────────────────────────────────────┼─────────────────────────────┼─────────────────┤\n",
       "│ conv_dropout1 (\u001b[38;5;33mDropout\u001b[0m)              │ (\u001b[38;5;45mNone\u001b[0m, \u001b[38;5;34m23\u001b[0m, \u001b[38;5;34m23\u001b[0m, \u001b[38;5;34m64\u001b[0m)          │               \u001b[38;5;34m0\u001b[0m │\n",
       "├──────────────────────────────────────┼─────────────────────────────┼─────────────────┤\n",
       "│ conv2_1 (\u001b[38;5;33mConv2D\u001b[0m)                     │ (\u001b[38;5;45mNone\u001b[0m, \u001b[38;5;34m23\u001b[0m, \u001b[38;5;34m23\u001b[0m, \u001b[38;5;34m128\u001b[0m)         │          \u001b[38;5;34m73,856\u001b[0m │\n",
       "├──────────────────────────────────────┼─────────────────────────────┼─────────────────┤\n",
       "│ conv2_2 (\u001b[38;5;33mConv2D\u001b[0m)                     │ (\u001b[38;5;45mNone\u001b[0m, \u001b[38;5;34m21\u001b[0m, \u001b[38;5;34m21\u001b[0m, \u001b[38;5;34m128\u001b[0m)         │         \u001b[38;5;34m147,584\u001b[0m │\n",
       "├──────────────────────────────────────┼─────────────────────────────┼─────────────────┤\n",
       "│ conv2_3 (\u001b[38;5;33mConv2D\u001b[0m)                     │ (\u001b[38;5;45mNone\u001b[0m, \u001b[38;5;34m21\u001b[0m, \u001b[38;5;34m21\u001b[0m, \u001b[38;5;34m218\u001b[0m)         │         \u001b[38;5;34m251,354\u001b[0m │\n",
       "├──────────────────────────────────────┼─────────────────────────────┼─────────────────┤\n",
       "│ conv2_4 (\u001b[38;5;33mConv2D\u001b[0m)                     │ (\u001b[38;5;45mNone\u001b[0m, \u001b[38;5;34m19\u001b[0m, \u001b[38;5;34m19\u001b[0m, \u001b[38;5;34m218\u001b[0m)         │         \u001b[38;5;34m427,934\u001b[0m │\n",
       "├──────────────────────────────────────┼─────────────────────────────┼─────────────────┤\n",
       "│ pool2 (\u001b[38;5;33mMaxPooling2D\u001b[0m)                 │ (\u001b[38;5;45mNone\u001b[0m, \u001b[38;5;34m9\u001b[0m, \u001b[38;5;34m9\u001b[0m, \u001b[38;5;34m218\u001b[0m)           │               \u001b[38;5;34m0\u001b[0m │\n",
       "├──────────────────────────────────────┼─────────────────────────────┼─────────────────┤\n",
       "│ conv_dropout2 (\u001b[38;5;33mDropout\u001b[0m)              │ (\u001b[38;5;45mNone\u001b[0m, \u001b[38;5;34m9\u001b[0m, \u001b[38;5;34m9\u001b[0m, \u001b[38;5;34m218\u001b[0m)           │               \u001b[38;5;34m0\u001b[0m │\n",
       "├──────────────────────────────────────┼─────────────────────────────┼─────────────────┤\n",
       "│ flatten (\u001b[38;5;33mFlatten\u001b[0m)                    │ (\u001b[38;5;45mNone\u001b[0m, \u001b[38;5;34m17658\u001b[0m)               │               \u001b[38;5;34m0\u001b[0m │\n",
       "├──────────────────────────────────────┼─────────────────────────────┼─────────────────┤\n",
       "│ fc1 (\u001b[38;5;33mDense\u001b[0m)                          │ (\u001b[38;5;45mNone\u001b[0m, \u001b[38;5;34m1024\u001b[0m)                │      \u001b[38;5;34m18,082,816\u001b[0m │\n",
       "├──────────────────────────────────────┼─────────────────────────────┼─────────────────┤\n",
       "│ fc_dropout1 (\u001b[38;5;33mDropout\u001b[0m)                │ (\u001b[38;5;45mNone\u001b[0m, \u001b[38;5;34m1024\u001b[0m)                │               \u001b[38;5;34m0\u001b[0m │\n",
       "├──────────────────────────────────────┼─────────────────────────────┼─────────────────┤\n",
       "│ fc3_7ways_softmax (\u001b[38;5;33mDense\u001b[0m)            │ (\u001b[38;5;45mNone\u001b[0m, \u001b[38;5;34m7\u001b[0m)                   │           \u001b[38;5;34m7,175\u001b[0m │\n",
       "└──────────────────────────────────────┴─────────────────────────────┴─────────────────┘\n"
      ]
     },
     "metadata": {},
     "output_type": "display_data"
    },
    {
     "data": {
      "text/html": [
       "<pre style=\"white-space:pre;overflow-x:auto;line-height:normal;font-family:Menlo,'DejaVu Sans Mono',consolas,'Courier New',monospace\"><span style=\"font-weight: bold\"> Total params: </span><span style=\"color: #00af00; text-decoration-color: #00af00\">19,028,287</span> (72.59 MB)\n",
       "</pre>\n"
      ],
      "text/plain": [
       "\u001b[1m Total params: \u001b[0m\u001b[38;5;34m19,028,287\u001b[0m (72.59 MB)\n"
      ]
     },
     "metadata": {},
     "output_type": "display_data"
    },
    {
     "data": {
      "text/html": [
       "<pre style=\"white-space:pre;overflow-x:auto;line-height:normal;font-family:Menlo,'DejaVu Sans Mono',consolas,'Courier New',monospace\"><span style=\"font-weight: bold\"> Trainable params: </span><span style=\"color: #00af00; text-decoration-color: #00af00\">19,028,287</span> (72.59 MB)\n",
       "</pre>\n"
      ],
      "text/plain": [
       "\u001b[1m Trainable params: \u001b[0m\u001b[38;5;34m19,028,287\u001b[0m (72.59 MB)\n"
      ]
     },
     "metadata": {},
     "output_type": "display_data"
    },
    {
     "data": {
      "text/html": [
       "<pre style=\"white-space:pre;overflow-x:auto;line-height:normal;font-family:Menlo,'DejaVu Sans Mono',consolas,'Courier New',monospace\"><span style=\"font-weight: bold\"> Non-trainable params: </span><span style=\"color: #00af00; text-decoration-color: #00af00\">0</span> (0.00 B)\n",
       "</pre>\n"
      ],
      "text/plain": [
       "\u001b[1m Non-trainable params: \u001b[0m\u001b[38;5;34m0\u001b[0m (0.00 B)\n"
      ]
     },
     "metadata": {},
     "output_type": "display_data"
    }
   ],
   "source": [
    "# 64x64 portray image\n",
    "input_image = Input(shape=(48, 48, 1), name='Input')\n",
    "\n",
    "# conv, pooling layers + dropout\n",
    "x = Conv2D(filters=64, kernel_size=(3, 3), padding='same', activation='relu', name='conv1_1')(input_image)\n",
    "x = Conv2D(filters=64, kernel_size=(3, 3), padding='valid', activation='relu', name='conv1_2')(x)\n",
    "x = MaxPooling2D(pool_size=(2, 2), name='pool1')(x)\n",
    "x = Dropout(rate=0.25, name='conv_dropout1')(x)\n",
    "\n",
    "x = Conv2D(filters=128, kernel_size=(3, 3), padding='same', activation='relu', name='conv2_1')(x)\n",
    "x = Conv2D(filters=128, kernel_size=(3, 3), padding='valid', activation='relu', name='conv2_2')(x)\n",
    "x = Conv2D(filters=218, kernel_size=(3, 3), padding='same', activation='relu', name='conv2_3')(x)\n",
    "x = Conv2D(filters=218, kernel_size=(3, 3), padding='valid', activation='relu', name='conv2_4')(x)\n",
    "x = MaxPooling2D(pool_size=(2, 2), name='pool2')(x)\n",
    "x = Dropout(rate=0.25, name='conv_dropout2')(x)\n",
    "\n",
    "# similar to the MLP example!\n",
    "# matrix ---> vector\n",
    "x = Flatten(name='flatten')(x)\n",
    "\n",
    "# FC layers + dropout\n",
    "x = Dense(units=1024, activation='relu', name='fc1')(x)\n",
    "x = Dropout(rate=0.5, name='fc_dropout1')(x)\n",
    "\n",
    "output_label = Dense(units=num_classes, activation='softmax', name='fc3_7ways_softmax')(x)\n",
    "\n",
    "# define model\n",
    "model = Model(inputs=input_image, outputs=output_label, name='emo_cnn')\n",
    "\n",
    "# print model summary\n",
    "model.summary()"
   ]
  },
  {
   "cell_type": "code",
   "execution_count": 6,
   "id": "1fd45a96",
   "metadata": {
    "execution": {
     "iopub.execute_input": "2025-03-31T10:08:56.314584Z",
     "iopub.status.busy": "2025-03-31T10:08:56.314362Z",
     "iopub.status.idle": "2025-03-31T10:08:56.676511Z",
     "shell.execute_reply": "2025-03-31T10:08:56.675483Z"
    },
    "papermill": {
     "duration": 0.368207,
     "end_time": "2025-03-31T10:08:56.678104",
     "exception": false,
     "start_time": "2025-03-31T10:08:56.309897",
     "status": "completed"
    },
    "tags": []
   },
   "outputs": [
    {
     "data": {
      "image/svg+xml": [
       "<svg xmlns=\"http://www.w3.org/2000/svg\" xmlns:xlink=\"http://www.w3.org/1999/xlink\" width=\"1286pt\" height=\"4922pt\" viewBox=\"0.00 0.00 463.00 1772.00\">\n",
       "<g id=\"graph0\" class=\"graph\" transform=\"scale(2.78 2.78) rotate(0) translate(4 1768)\">\n",
       "<title>G</title>\n",
       "<polygon fill=\"white\" stroke=\"transparent\" points=\"-4,4 -4,-1768 459,-1768 459,4 -4,4\"/>\n",
       "<!-- 140220456215040 -->\n",
       "<g id=\"node1\" class=\"node\">\n",
       "<title>140220456215040</title>\n",
       "<polygon fill=\"none\" stroke=\"black\" points=\"117,-1680.5 117,-1763.5 338,-1763.5 338,-1680.5 117,-1680.5\"/>\n",
       "<polygon fill=\"black\" stroke=\"transparent\" points=\"117,-1680.5 117,-1763.5 338,-1763.5 338,-1680.5 117,-1680.5\"/>\n",
       "<polygon fill=\"black\" stroke=\"transparent\" points=\"119.5,-1721 119.5,-1761 336.5,-1761 336.5,-1721 119.5,-1721\"/>\n",
       "<polygon fill=\"none\" stroke=\"black\" points=\"119.5,-1721 119.5,-1761 336.5,-1761 336.5,-1721 119.5,-1721\"/>\n",
       "<text text-anchor=\"start\" x=\"162\" y=\"-1738.2\" font-family=\"Helvetica,sans-Serif\" font-weight=\"bold\" font-size=\"16.00\" fill=\"white\">Input</text>\n",
       "<text text-anchor=\"start\" x=\"202\" y=\"-1738.2\" font-family=\"Helvetica,sans-Serif\" font-size=\"16.00\" fill=\"white\"> (InputLayer)</text>\n",
       "<polygon fill=\"white\" stroke=\"transparent\" points=\"119.5,-1682 119.5,-1719 334.5,-1719 334.5,-1682 119.5,-1682\"/>\n",
       "<polygon fill=\"none\" stroke=\"black\" points=\"119.5,-1682 119.5,-1719 334.5,-1719 334.5,-1682 119.5,-1682\"/>\n",
       "<text text-anchor=\"start\" x=\"130.5\" y=\"-1697.8\" font-family=\"Helvetica,sans-Serif\" font-size=\"14.00\">Output shape: </text>\n",
       "<text text-anchor=\"start\" x=\"220.5\" y=\"-1697.8\" font-family=\"Helvetica,sans-Serif\" font-weight=\"bold\" font-size=\"14.00\">(None, 48, 48, 1)</text>\n",
       "</g>\n",
       "<!-- 140220453940304 -->\n",
       "<g id=\"node2\" class=\"node\">\n",
       "<title>140220453940304</title>\n",
       "<polygon fill=\"none\" stroke=\"black\" points=\"11,-1560.5 11,-1643.5 444,-1643.5 444,-1560.5 11,-1560.5\"/>\n",
       "<polygon fill=\"black\" stroke=\"transparent\" points=\"11,-1560.5 11,-1643.5 444,-1643.5 444,-1560.5 11,-1560.5\"/>\n",
       "<polygon fill=\"black\" stroke=\"transparent\" points=\"13.5,-1601 13.5,-1641 442.5,-1641 442.5,-1601 13.5,-1601\"/>\n",
       "<polygon fill=\"none\" stroke=\"black\" points=\"13.5,-1601 13.5,-1641 442.5,-1641 442.5,-1601 13.5,-1601\"/>\n",
       "<text text-anchor=\"start\" x=\"159\" y=\"-1618.2\" font-family=\"Helvetica,sans-Serif\" font-weight=\"bold\" font-size=\"16.00\" fill=\"white\">conv1_1</text>\n",
       "<text text-anchor=\"start\" x=\"224\" y=\"-1618.2\" font-family=\"Helvetica,sans-Serif\" font-size=\"16.00\" fill=\"white\"> (Conv2D)</text>\n",
       "<polygon fill=\"white\" stroke=\"transparent\" points=\"13.5,-1562 13.5,-1599 217.5,-1599 217.5,-1562 13.5,-1562\"/>\n",
       "<polygon fill=\"none\" stroke=\"black\" points=\"13.5,-1562 13.5,-1599 217.5,-1599 217.5,-1562 13.5,-1562\"/>\n",
       "<text text-anchor=\"start\" x=\"24.5\" y=\"-1577.8\" font-family=\"Helvetica,sans-Serif\" font-size=\"14.00\">Input shape: </text>\n",
       "<text text-anchor=\"start\" x=\"103.5\" y=\"-1577.8\" font-family=\"Helvetica,sans-Serif\" font-weight=\"bold\" font-size=\"14.00\">(None, 48, 48, 1)</text>\n",
       "<polygon fill=\"white\" stroke=\"transparent\" points=\"219.5,-1562 219.5,-1599 442.5,-1599 442.5,-1562 219.5,-1562\"/>\n",
       "<polygon fill=\"none\" stroke=\"black\" points=\"219.5,-1562 219.5,-1599 442.5,-1599 442.5,-1562 219.5,-1562\"/>\n",
       "<text text-anchor=\"start\" x=\"230.5\" y=\"-1577.8\" font-family=\"Helvetica,sans-Serif\" font-size=\"14.00\">Output shape: </text>\n",
       "<text text-anchor=\"start\" x=\"320.5\" y=\"-1577.8\" font-family=\"Helvetica,sans-Serif\" font-weight=\"bold\" font-size=\"14.00\">(None, 48, 48, 64)</text>\n",
       "</g>\n",
       "<!-- 140220456215040&#45;&gt;140220453940304 -->\n",
       "<g id=\"edge1\" class=\"edge\">\n",
       "<title>140220456215040-&gt;140220453940304</title>\n",
       "<path fill=\"none\" stroke=\"black\" stroke-width=\"2\" d=\"M227.5,-1680.37C227.5,-1680.37 227.5,-1653.56 227.5,-1653.56\"/>\n",
       "<polygon fill=\"black\" stroke=\"black\" stroke-width=\"2\" points=\"231,-1653.56 227.5,-1643.56 224,-1653.56 231,-1653.56\"/>\n",
       "</g>\n",
       "<!-- 140220453934112 -->\n",
       "<g id=\"node3\" class=\"node\">\n",
       "<title>140220453934112</title>\n",
       "<polygon fill=\"none\" stroke=\"black\" points=\"7,-1440.5 7,-1523.5 448,-1523.5 448,-1440.5 7,-1440.5\"/>\n",
       "<polygon fill=\"black\" stroke=\"transparent\" points=\"7,-1440.5 7,-1523.5 448,-1523.5 448,-1440.5 7,-1440.5\"/>\n",
       "<polygon fill=\"black\" stroke=\"transparent\" points=\"9.5,-1481 9.5,-1521 446.5,-1521 446.5,-1481 9.5,-1481\"/>\n",
       "<polygon fill=\"none\" stroke=\"black\" points=\"9.5,-1481 9.5,-1521 446.5,-1521 446.5,-1481 9.5,-1481\"/>\n",
       "<text text-anchor=\"start\" x=\"159\" y=\"-1498.2\" font-family=\"Helvetica,sans-Serif\" font-weight=\"bold\" font-size=\"16.00\" fill=\"white\">conv1_2</text>\n",
       "<text text-anchor=\"start\" x=\"224\" y=\"-1498.2\" font-family=\"Helvetica,sans-Serif\" font-size=\"16.00\" fill=\"white\"> (Conv2D)</text>\n",
       "<polygon fill=\"white\" stroke=\"transparent\" points=\"9.5,-1442 9.5,-1479 221.5,-1479 221.5,-1442 9.5,-1442\"/>\n",
       "<polygon fill=\"none\" stroke=\"black\" points=\"9.5,-1442 9.5,-1479 221.5,-1479 221.5,-1442 9.5,-1442\"/>\n",
       "<text text-anchor=\"start\" x=\"20.5\" y=\"-1457.8\" font-family=\"Helvetica,sans-Serif\" font-size=\"14.00\">Input shape: </text>\n",
       "<text text-anchor=\"start\" x=\"99.5\" y=\"-1457.8\" font-family=\"Helvetica,sans-Serif\" font-weight=\"bold\" font-size=\"14.00\">(None, 48, 48, 64)</text>\n",
       "<polygon fill=\"white\" stroke=\"transparent\" points=\"223.5,-1442 223.5,-1479 446.5,-1479 446.5,-1442 223.5,-1442\"/>\n",
       "<polygon fill=\"none\" stroke=\"black\" points=\"223.5,-1442 223.5,-1479 446.5,-1479 446.5,-1442 223.5,-1442\"/>\n",
       "<text text-anchor=\"start\" x=\"234.5\" y=\"-1457.8\" font-family=\"Helvetica,sans-Serif\" font-size=\"14.00\">Output shape: </text>\n",
       "<text text-anchor=\"start\" x=\"324.5\" y=\"-1457.8\" font-family=\"Helvetica,sans-Serif\" font-weight=\"bold\" font-size=\"14.00\">(None, 46, 46, 64)</text>\n",
       "</g>\n",
       "<!-- 140220453940304&#45;&gt;140220453934112 -->\n",
       "<g id=\"edge2\" class=\"edge\">\n",
       "<title>140220453940304-&gt;140220453934112</title>\n",
       "<path fill=\"none\" stroke=\"black\" stroke-width=\"2\" d=\"M227.5,-1560.37C227.5,-1560.37 227.5,-1533.56 227.5,-1533.56\"/>\n",
       "<polygon fill=\"black\" stroke=\"black\" stroke-width=\"2\" points=\"231,-1533.56 227.5,-1523.56 224,-1533.56 231,-1533.56\"/>\n",
       "</g>\n",
       "<!-- 140220453941792 -->\n",
       "<g id=\"node4\" class=\"node\">\n",
       "<title>140220453941792</title>\n",
       "<polygon fill=\"none\" stroke=\"black\" points=\"7,-1320.5 7,-1403.5 448,-1403.5 448,-1320.5 7,-1320.5\"/>\n",
       "<polygon fill=\"black\" stroke=\"transparent\" points=\"7,-1320.5 7,-1403.5 448,-1403.5 448,-1320.5 7,-1320.5\"/>\n",
       "<polygon fill=\"black\" stroke=\"transparent\" points=\"9.5,-1361 9.5,-1401 446.5,-1401 446.5,-1361 9.5,-1361\"/>\n",
       "<polygon fill=\"none\" stroke=\"black\" points=\"9.5,-1361 9.5,-1401 446.5,-1401 446.5,-1361 9.5,-1361\"/>\n",
       "<text text-anchor=\"start\" x=\"146\" y=\"-1378.2\" font-family=\"Helvetica,sans-Serif\" font-weight=\"bold\" font-size=\"16.00\" fill=\"white\">pool1</text>\n",
       "<text text-anchor=\"start\" x=\"189\" y=\"-1378.2\" font-family=\"Helvetica,sans-Serif\" font-size=\"16.00\" fill=\"white\"> (MaxPooling2D)</text>\n",
       "<polygon fill=\"white\" stroke=\"transparent\" points=\"9.5,-1322 9.5,-1359 221.5,-1359 221.5,-1322 9.5,-1322\"/>\n",
       "<polygon fill=\"none\" stroke=\"black\" points=\"9.5,-1322 9.5,-1359 221.5,-1359 221.5,-1322 9.5,-1322\"/>\n",
       "<text text-anchor=\"start\" x=\"20.5\" y=\"-1337.8\" font-family=\"Helvetica,sans-Serif\" font-size=\"14.00\">Input shape: </text>\n",
       "<text text-anchor=\"start\" x=\"99.5\" y=\"-1337.8\" font-family=\"Helvetica,sans-Serif\" font-weight=\"bold\" font-size=\"14.00\">(None, 46, 46, 64)</text>\n",
       "<polygon fill=\"white\" stroke=\"transparent\" points=\"223.5,-1322 223.5,-1359 446.5,-1359 446.5,-1322 223.5,-1322\"/>\n",
       "<polygon fill=\"none\" stroke=\"black\" points=\"223.5,-1322 223.5,-1359 446.5,-1359 446.5,-1322 223.5,-1322\"/>\n",
       "<text text-anchor=\"start\" x=\"234.5\" y=\"-1337.8\" font-family=\"Helvetica,sans-Serif\" font-size=\"14.00\">Output shape: </text>\n",
       "<text text-anchor=\"start\" x=\"324.5\" y=\"-1337.8\" font-family=\"Helvetica,sans-Serif\" font-weight=\"bold\" font-size=\"14.00\">(None, 23, 23, 64)</text>\n",
       "</g>\n",
       "<!-- 140220453934112&#45;&gt;140220453941792 -->\n",
       "<g id=\"edge3\" class=\"edge\">\n",
       "<title>140220453934112-&gt;140220453941792</title>\n",
       "<path fill=\"none\" stroke=\"black\" stroke-width=\"2\" d=\"M227.5,-1440.37C227.5,-1440.37 227.5,-1413.56 227.5,-1413.56\"/>\n",
       "<polygon fill=\"black\" stroke=\"black\" stroke-width=\"2\" points=\"231,-1413.56 227.5,-1403.56 224,-1413.56 231,-1413.56\"/>\n",
       "</g>\n",
       "<!-- 140220453934016 -->\n",
       "<g id=\"node5\" class=\"node\">\n",
       "<title>140220453934016</title>\n",
       "<polygon fill=\"none\" stroke=\"black\" points=\"7,-1200.5 7,-1283.5 448,-1283.5 448,-1200.5 7,-1200.5\"/>\n",
       "<polygon fill=\"black\" stroke=\"transparent\" points=\"7,-1200.5 7,-1283.5 448,-1283.5 448,-1200.5 7,-1200.5\"/>\n",
       "<polygon fill=\"black\" stroke=\"transparent\" points=\"9.5,-1241 9.5,-1281 446.5,-1281 446.5,-1241 9.5,-1241\"/>\n",
       "<polygon fill=\"none\" stroke=\"black\" points=\"9.5,-1241 9.5,-1281 446.5,-1281 446.5,-1241 9.5,-1241\"/>\n",
       "<text text-anchor=\"start\" x=\"133.5\" y=\"-1258.2\" font-family=\"Helvetica,sans-Serif\" font-weight=\"bold\" font-size=\"16.00\" fill=\"white\">conv_dropout1</text>\n",
       "<text text-anchor=\"start\" x=\"249.5\" y=\"-1258.2\" font-family=\"Helvetica,sans-Serif\" font-size=\"16.00\" fill=\"white\"> (Dropout)</text>\n",
       "<polygon fill=\"white\" stroke=\"transparent\" points=\"9.5,-1202 9.5,-1239 221.5,-1239 221.5,-1202 9.5,-1202\"/>\n",
       "<polygon fill=\"none\" stroke=\"black\" points=\"9.5,-1202 9.5,-1239 221.5,-1239 221.5,-1202 9.5,-1202\"/>\n",
       "<text text-anchor=\"start\" x=\"20.5\" y=\"-1217.8\" font-family=\"Helvetica,sans-Serif\" font-size=\"14.00\">Input shape: </text>\n",
       "<text text-anchor=\"start\" x=\"99.5\" y=\"-1217.8\" font-family=\"Helvetica,sans-Serif\" font-weight=\"bold\" font-size=\"14.00\">(None, 23, 23, 64)</text>\n",
       "<polygon fill=\"white\" stroke=\"transparent\" points=\"223.5,-1202 223.5,-1239 446.5,-1239 446.5,-1202 223.5,-1202\"/>\n",
       "<polygon fill=\"none\" stroke=\"black\" points=\"223.5,-1202 223.5,-1239 446.5,-1239 446.5,-1202 223.5,-1202\"/>\n",
       "<text text-anchor=\"start\" x=\"234.5\" y=\"-1217.8\" font-family=\"Helvetica,sans-Serif\" font-size=\"14.00\">Output shape: </text>\n",
       "<text text-anchor=\"start\" x=\"324.5\" y=\"-1217.8\" font-family=\"Helvetica,sans-Serif\" font-weight=\"bold\" font-size=\"14.00\">(None, 23, 23, 64)</text>\n",
       "</g>\n",
       "<!-- 140220453941792&#45;&gt;140220453934016 -->\n",
       "<g id=\"edge4\" class=\"edge\">\n",
       "<title>140220453941792-&gt;140220453934016</title>\n",
       "<path fill=\"none\" stroke=\"black\" stroke-width=\"2\" d=\"M227.5,-1320.37C227.5,-1320.37 227.5,-1293.56 227.5,-1293.56\"/>\n",
       "<polygon fill=\"black\" stroke=\"black\" stroke-width=\"2\" points=\"231,-1293.56 227.5,-1283.56 224,-1293.56 231,-1293.56\"/>\n",
       "</g>\n",
       "<!-- 140220453935648 -->\n",
       "<g id=\"node6\" class=\"node\">\n",
       "<title>140220453935648</title>\n",
       "<polygon fill=\"none\" stroke=\"black\" points=\"3.5,-1080.5 3.5,-1163.5 451.5,-1163.5 451.5,-1080.5 3.5,-1080.5\"/>\n",
       "<polygon fill=\"black\" stroke=\"transparent\" points=\"3.5,-1080.5 3.5,-1163.5 451.5,-1163.5 451.5,-1080.5 3.5,-1080.5\"/>\n",
       "<polygon fill=\"black\" stroke=\"transparent\" points=\"5.5,-1121 5.5,-1161 449.5,-1161 449.5,-1121 5.5,-1121\"/>\n",
       "<polygon fill=\"none\" stroke=\"black\" points=\"5.5,-1121 5.5,-1161 449.5,-1161 449.5,-1121 5.5,-1121\"/>\n",
       "<text text-anchor=\"start\" x=\"158.5\" y=\"-1138.2\" font-family=\"Helvetica,sans-Serif\" font-weight=\"bold\" font-size=\"16.00\" fill=\"white\">conv2_1</text>\n",
       "<text text-anchor=\"start\" x=\"223.5\" y=\"-1138.2\" font-family=\"Helvetica,sans-Serif\" font-size=\"16.00\" fill=\"white\"> (Conv2D)</text>\n",
       "<polygon fill=\"white\" stroke=\"transparent\" points=\"5.5,-1082 5.5,-1119 217.5,-1119 217.5,-1082 5.5,-1082\"/>\n",
       "<polygon fill=\"none\" stroke=\"black\" points=\"5.5,-1082 5.5,-1119 217.5,-1119 217.5,-1082 5.5,-1082\"/>\n",
       "<text text-anchor=\"start\" x=\"16.5\" y=\"-1097.8\" font-family=\"Helvetica,sans-Serif\" font-size=\"14.00\">Input shape: </text>\n",
       "<text text-anchor=\"start\" x=\"95.5\" y=\"-1097.8\" font-family=\"Helvetica,sans-Serif\" font-weight=\"bold\" font-size=\"14.00\">(None, 23, 23, 64)</text>\n",
       "<polygon fill=\"white\" stroke=\"transparent\" points=\"219.5,-1082 219.5,-1119 449.5,-1119 449.5,-1082 219.5,-1082\"/>\n",
       "<polygon fill=\"none\" stroke=\"black\" points=\"219.5,-1082 219.5,-1119 449.5,-1119 449.5,-1082 219.5,-1082\"/>\n",
       "<text text-anchor=\"start\" x=\"230.5\" y=\"-1097.8\" font-family=\"Helvetica,sans-Serif\" font-size=\"14.00\">Output shape: </text>\n",
       "<text text-anchor=\"start\" x=\"320.5\" y=\"-1097.8\" font-family=\"Helvetica,sans-Serif\" font-weight=\"bold\" font-size=\"14.00\">(None, 23, 23, 128)</text>\n",
       "</g>\n",
       "<!-- 140220453934016&#45;&gt;140220453935648 -->\n",
       "<g id=\"edge5\" class=\"edge\">\n",
       "<title>140220453934016-&gt;140220453935648</title>\n",
       "<path fill=\"none\" stroke=\"black\" stroke-width=\"2\" d=\"M227.5,-1200.37C227.5,-1200.37 227.5,-1173.56 227.5,-1173.56\"/>\n",
       "<polygon fill=\"black\" stroke=\"black\" stroke-width=\"2\" points=\"231,-1173.56 227.5,-1163.56 224,-1173.56 231,-1173.56\"/>\n",
       "</g>\n",
       "<!-- 140220453943568 -->\n",
       "<g id=\"node7\" class=\"node\">\n",
       "<title>140220453943568</title>\n",
       "<polygon fill=\"none\" stroke=\"black\" points=\"0,-960.5 0,-1043.5 455,-1043.5 455,-960.5 0,-960.5\"/>\n",
       "<polygon fill=\"black\" stroke=\"transparent\" points=\"0,-960.5 0,-1043.5 455,-1043.5 455,-960.5 0,-960.5\"/>\n",
       "<polygon fill=\"black\" stroke=\"transparent\" points=\"2.5,-1001 2.5,-1041 453.5,-1041 453.5,-1001 2.5,-1001\"/>\n",
       "<polygon fill=\"none\" stroke=\"black\" points=\"2.5,-1001 2.5,-1041 453.5,-1041 453.5,-1001 2.5,-1001\"/>\n",
       "<text text-anchor=\"start\" x=\"159\" y=\"-1018.2\" font-family=\"Helvetica,sans-Serif\" font-weight=\"bold\" font-size=\"16.00\" fill=\"white\">conv2_2</text>\n",
       "<text text-anchor=\"start\" x=\"224\" y=\"-1018.2\" font-family=\"Helvetica,sans-Serif\" font-size=\"16.00\" fill=\"white\"> (Conv2D)</text>\n",
       "<polygon fill=\"white\" stroke=\"transparent\" points=\"2.5,-962 2.5,-999 221.5,-999 221.5,-962 2.5,-962\"/>\n",
       "<polygon fill=\"none\" stroke=\"black\" points=\"2.5,-962 2.5,-999 221.5,-999 221.5,-962 2.5,-962\"/>\n",
       "<text text-anchor=\"start\" x=\"13.5\" y=\"-977.8\" font-family=\"Helvetica,sans-Serif\" font-size=\"14.00\">Input shape: </text>\n",
       "<text text-anchor=\"start\" x=\"92.5\" y=\"-977.8\" font-family=\"Helvetica,sans-Serif\" font-weight=\"bold\" font-size=\"14.00\">(None, 23, 23, 128)</text>\n",
       "<polygon fill=\"white\" stroke=\"transparent\" points=\"223.5,-962 223.5,-999 453.5,-999 453.5,-962 223.5,-962\"/>\n",
       "<polygon fill=\"none\" stroke=\"black\" points=\"223.5,-962 223.5,-999 453.5,-999 453.5,-962 223.5,-962\"/>\n",
       "<text text-anchor=\"start\" x=\"234.5\" y=\"-977.8\" font-family=\"Helvetica,sans-Serif\" font-size=\"14.00\">Output shape: </text>\n",
       "<text text-anchor=\"start\" x=\"324.5\" y=\"-977.8\" font-family=\"Helvetica,sans-Serif\" font-weight=\"bold\" font-size=\"14.00\">(None, 21, 21, 128)</text>\n",
       "</g>\n",
       "<!-- 140220453935648&#45;&gt;140220453943568 -->\n",
       "<g id=\"edge6\" class=\"edge\">\n",
       "<title>140220453935648-&gt;140220453943568</title>\n",
       "<path fill=\"none\" stroke=\"black\" stroke-width=\"2\" d=\"M227.5,-1080.37C227.5,-1080.37 227.5,-1053.56 227.5,-1053.56\"/>\n",
       "<polygon fill=\"black\" stroke=\"black\" stroke-width=\"2\" points=\"231,-1053.56 227.5,-1043.56 224,-1053.56 231,-1053.56\"/>\n",
       "</g>\n",
       "<!-- 140220453935792 -->\n",
       "<g id=\"node8\" class=\"node\">\n",
       "<title>140220453935792</title>\n",
       "<polygon fill=\"none\" stroke=\"black\" points=\"0,-840.5 0,-923.5 455,-923.5 455,-840.5 0,-840.5\"/>\n",
       "<polygon fill=\"black\" stroke=\"transparent\" points=\"0,-840.5 0,-923.5 455,-923.5 455,-840.5 0,-840.5\"/>\n",
       "<polygon fill=\"black\" stroke=\"transparent\" points=\"2.5,-881 2.5,-921 453.5,-921 453.5,-881 2.5,-881\"/>\n",
       "<polygon fill=\"none\" stroke=\"black\" points=\"2.5,-881 2.5,-921 453.5,-921 453.5,-881 2.5,-881\"/>\n",
       "<text text-anchor=\"start\" x=\"159\" y=\"-898.2\" font-family=\"Helvetica,sans-Serif\" font-weight=\"bold\" font-size=\"16.00\" fill=\"white\">conv2_3</text>\n",
       "<text text-anchor=\"start\" x=\"224\" y=\"-898.2\" font-family=\"Helvetica,sans-Serif\" font-size=\"16.00\" fill=\"white\"> (Conv2D)</text>\n",
       "<polygon fill=\"white\" stroke=\"transparent\" points=\"2.5,-842 2.5,-879 221.5,-879 221.5,-842 2.5,-842\"/>\n",
       "<polygon fill=\"none\" stroke=\"black\" points=\"2.5,-842 2.5,-879 221.5,-879 221.5,-842 2.5,-842\"/>\n",
       "<text text-anchor=\"start\" x=\"13.5\" y=\"-857.8\" font-family=\"Helvetica,sans-Serif\" font-size=\"14.00\">Input shape: </text>\n",
       "<text text-anchor=\"start\" x=\"92.5\" y=\"-857.8\" font-family=\"Helvetica,sans-Serif\" font-weight=\"bold\" font-size=\"14.00\">(None, 21, 21, 128)</text>\n",
       "<polygon fill=\"white\" stroke=\"transparent\" points=\"223.5,-842 223.5,-879 453.5,-879 453.5,-842 223.5,-842\"/>\n",
       "<polygon fill=\"none\" stroke=\"black\" points=\"223.5,-842 223.5,-879 453.5,-879 453.5,-842 223.5,-842\"/>\n",
       "<text text-anchor=\"start\" x=\"234.5\" y=\"-857.8\" font-family=\"Helvetica,sans-Serif\" font-size=\"14.00\">Output shape: </text>\n",
       "<text text-anchor=\"start\" x=\"324.5\" y=\"-857.8\" font-family=\"Helvetica,sans-Serif\" font-weight=\"bold\" font-size=\"14.00\">(None, 21, 21, 218)</text>\n",
       "</g>\n",
       "<!-- 140220453943568&#45;&gt;140220453935792 -->\n",
       "<g id=\"edge7\" class=\"edge\">\n",
       "<title>140220453943568-&gt;140220453935792</title>\n",
       "<path fill=\"none\" stroke=\"black\" stroke-width=\"2\" d=\"M227.5,-960.37C227.5,-960.37 227.5,-933.56 227.5,-933.56\"/>\n",
       "<polygon fill=\"black\" stroke=\"black\" stroke-width=\"2\" points=\"231,-933.56 227.5,-923.56 224,-933.56 231,-933.56\"/>\n",
       "</g>\n",
       "<!-- 140220453449120 -->\n",
       "<g id=\"node9\" class=\"node\">\n",
       "<title>140220453449120</title>\n",
       "<polygon fill=\"none\" stroke=\"black\" points=\"0,-720.5 0,-803.5 455,-803.5 455,-720.5 0,-720.5\"/>\n",
       "<polygon fill=\"black\" stroke=\"transparent\" points=\"0,-720.5 0,-803.5 455,-803.5 455,-720.5 0,-720.5\"/>\n",
       "<polygon fill=\"black\" stroke=\"transparent\" points=\"2.5,-761 2.5,-801 453.5,-801 453.5,-761 2.5,-761\"/>\n",
       "<polygon fill=\"none\" stroke=\"black\" points=\"2.5,-761 2.5,-801 453.5,-801 453.5,-761 2.5,-761\"/>\n",
       "<text text-anchor=\"start\" x=\"159\" y=\"-778.2\" font-family=\"Helvetica,sans-Serif\" font-weight=\"bold\" font-size=\"16.00\" fill=\"white\">conv2_4</text>\n",
       "<text text-anchor=\"start\" x=\"224\" y=\"-778.2\" font-family=\"Helvetica,sans-Serif\" font-size=\"16.00\" fill=\"white\"> (Conv2D)</text>\n",
       "<polygon fill=\"white\" stroke=\"transparent\" points=\"2.5,-722 2.5,-759 221.5,-759 221.5,-722 2.5,-722\"/>\n",
       "<polygon fill=\"none\" stroke=\"black\" points=\"2.5,-722 2.5,-759 221.5,-759 221.5,-722 2.5,-722\"/>\n",
       "<text text-anchor=\"start\" x=\"13.5\" y=\"-737.8\" font-family=\"Helvetica,sans-Serif\" font-size=\"14.00\">Input shape: </text>\n",
       "<text text-anchor=\"start\" x=\"92.5\" y=\"-737.8\" font-family=\"Helvetica,sans-Serif\" font-weight=\"bold\" font-size=\"14.00\">(None, 21, 21, 218)</text>\n",
       "<polygon fill=\"white\" stroke=\"transparent\" points=\"223.5,-722 223.5,-759 453.5,-759 453.5,-722 223.5,-722\"/>\n",
       "<polygon fill=\"none\" stroke=\"black\" points=\"223.5,-722 223.5,-759 453.5,-759 453.5,-722 223.5,-722\"/>\n",
       "<text text-anchor=\"start\" x=\"234.5\" y=\"-737.8\" font-family=\"Helvetica,sans-Serif\" font-size=\"14.00\">Output shape: </text>\n",
       "<text text-anchor=\"start\" x=\"324.5\" y=\"-737.8\" font-family=\"Helvetica,sans-Serif\" font-weight=\"bold\" font-size=\"14.00\">(None, 19, 19, 218)</text>\n",
       "</g>\n",
       "<!-- 140220453935792&#45;&gt;140220453449120 -->\n",
       "<g id=\"edge8\" class=\"edge\">\n",
       "<title>140220453935792-&gt;140220453449120</title>\n",
       "<path fill=\"none\" stroke=\"black\" stroke-width=\"2\" d=\"M227.5,-840.37C227.5,-840.37 227.5,-813.56 227.5,-813.56\"/>\n",
       "<polygon fill=\"black\" stroke=\"black\" stroke-width=\"2\" points=\"231,-813.56 227.5,-803.56 224,-813.56 231,-813.56\"/>\n",
       "</g>\n",
       "<!-- 140220453443072 -->\n",
       "<g id=\"node10\" class=\"node\">\n",
       "<title>140220453443072</title>\n",
       "<polygon fill=\"none\" stroke=\"black\" points=\"7.5,-600.5 7.5,-683.5 447.5,-683.5 447.5,-600.5 7.5,-600.5\"/>\n",
       "<polygon fill=\"black\" stroke=\"transparent\" points=\"7.5,-600.5 7.5,-683.5 447.5,-683.5 447.5,-600.5 7.5,-600.5\"/>\n",
       "<polygon fill=\"black\" stroke=\"transparent\" points=\"9.5,-641 9.5,-681 445.5,-681 445.5,-641 9.5,-641\"/>\n",
       "<polygon fill=\"none\" stroke=\"black\" points=\"9.5,-641 9.5,-681 445.5,-681 445.5,-641 9.5,-641\"/>\n",
       "<text text-anchor=\"start\" x=\"145.5\" y=\"-658.2\" font-family=\"Helvetica,sans-Serif\" font-weight=\"bold\" font-size=\"16.00\" fill=\"white\">pool2</text>\n",
       "<text text-anchor=\"start\" x=\"188.5\" y=\"-658.2\" font-family=\"Helvetica,sans-Serif\" font-size=\"16.00\" fill=\"white\"> (MaxPooling2D)</text>\n",
       "<polygon fill=\"white\" stroke=\"transparent\" points=\"9.5,-602 9.5,-639 228.5,-639 228.5,-602 9.5,-602\"/>\n",
       "<polygon fill=\"none\" stroke=\"black\" points=\"9.5,-602 9.5,-639 228.5,-639 228.5,-602 9.5,-602\"/>\n",
       "<text text-anchor=\"start\" x=\"20.5\" y=\"-617.8\" font-family=\"Helvetica,sans-Serif\" font-size=\"14.00\">Input shape: </text>\n",
       "<text text-anchor=\"start\" x=\"99.5\" y=\"-617.8\" font-family=\"Helvetica,sans-Serif\" font-weight=\"bold\" font-size=\"14.00\">(None, 19, 19, 218)</text>\n",
       "<polygon fill=\"white\" stroke=\"transparent\" points=\"230.5,-602 230.5,-639 445.5,-639 445.5,-602 230.5,-602\"/>\n",
       "<polygon fill=\"none\" stroke=\"black\" points=\"230.5,-602 230.5,-639 445.5,-639 445.5,-602 230.5,-602\"/>\n",
       "<text text-anchor=\"start\" x=\"241.5\" y=\"-617.8\" font-family=\"Helvetica,sans-Serif\" font-size=\"14.00\">Output shape: </text>\n",
       "<text text-anchor=\"start\" x=\"331.5\" y=\"-617.8\" font-family=\"Helvetica,sans-Serif\" font-weight=\"bold\" font-size=\"14.00\">(None, 9, 9, 218)</text>\n",
       "</g>\n",
       "<!-- 140220453449120&#45;&gt;140220453443072 -->\n",
       "<g id=\"edge9\" class=\"edge\">\n",
       "<title>140220453449120-&gt;140220453443072</title>\n",
       "<path fill=\"none\" stroke=\"black\" stroke-width=\"2\" d=\"M227.5,-720.37C227.5,-720.37 227.5,-693.56 227.5,-693.56\"/>\n",
       "<polygon fill=\"black\" stroke=\"black\" stroke-width=\"2\" points=\"231,-693.56 227.5,-683.56 224,-693.56 231,-693.56\"/>\n",
       "</g>\n",
       "<!-- 140220453444944 -->\n",
       "<g id=\"node11\" class=\"node\">\n",
       "<title>140220453444944</title>\n",
       "<polygon fill=\"none\" stroke=\"black\" points=\"15,-480.5 15,-563.5 440,-563.5 440,-480.5 15,-480.5\"/>\n",
       "<polygon fill=\"black\" stroke=\"transparent\" points=\"15,-480.5 15,-563.5 440,-563.5 440,-480.5 15,-480.5\"/>\n",
       "<polygon fill=\"black\" stroke=\"transparent\" points=\"17.5,-521 17.5,-561 438.5,-561 438.5,-521 17.5,-521\"/>\n",
       "<polygon fill=\"none\" stroke=\"black\" points=\"17.5,-521 17.5,-561 438.5,-561 438.5,-521 17.5,-521\"/>\n",
       "<text text-anchor=\"start\" x=\"133.5\" y=\"-538.2\" font-family=\"Helvetica,sans-Serif\" font-weight=\"bold\" font-size=\"16.00\" fill=\"white\">conv_dropout2</text>\n",
       "<text text-anchor=\"start\" x=\"249.5\" y=\"-538.2\" font-family=\"Helvetica,sans-Serif\" font-size=\"16.00\" fill=\"white\"> (Dropout)</text>\n",
       "<polygon fill=\"white\" stroke=\"transparent\" points=\"17.5,-482 17.5,-519 221.5,-519 221.5,-482 17.5,-482\"/>\n",
       "<polygon fill=\"none\" stroke=\"black\" points=\"17.5,-482 17.5,-519 221.5,-519 221.5,-482 17.5,-482\"/>\n",
       "<text text-anchor=\"start\" x=\"28.5\" y=\"-497.8\" font-family=\"Helvetica,sans-Serif\" font-size=\"14.00\">Input shape: </text>\n",
       "<text text-anchor=\"start\" x=\"107.5\" y=\"-497.8\" font-family=\"Helvetica,sans-Serif\" font-weight=\"bold\" font-size=\"14.00\">(None, 9, 9, 218)</text>\n",
       "<polygon fill=\"white\" stroke=\"transparent\" points=\"223.5,-482 223.5,-519 438.5,-519 438.5,-482 223.5,-482\"/>\n",
       "<polygon fill=\"none\" stroke=\"black\" points=\"223.5,-482 223.5,-519 438.5,-519 438.5,-482 223.5,-482\"/>\n",
       "<text text-anchor=\"start\" x=\"234.5\" y=\"-497.8\" font-family=\"Helvetica,sans-Serif\" font-size=\"14.00\">Output shape: </text>\n",
       "<text text-anchor=\"start\" x=\"324.5\" y=\"-497.8\" font-family=\"Helvetica,sans-Serif\" font-weight=\"bold\" font-size=\"14.00\">(None, 9, 9, 218)</text>\n",
       "</g>\n",
       "<!-- 140220453443072&#45;&gt;140220453444944 -->\n",
       "<g id=\"edge10\" class=\"edge\">\n",
       "<title>140220453443072-&gt;140220453444944</title>\n",
       "<path fill=\"none\" stroke=\"black\" stroke-width=\"2\" d=\"M227.5,-600.37C227.5,-600.37 227.5,-573.56 227.5,-573.56\"/>\n",
       "<polygon fill=\"black\" stroke=\"black\" stroke-width=\"2\" points=\"231,-573.56 227.5,-563.56 224,-573.56 231,-573.56\"/>\n",
       "</g>\n",
       "<!-- 140220453449936 -->\n",
       "<g id=\"node12\" class=\"node\">\n",
       "<title>140220453449936</title>\n",
       "<polygon fill=\"none\" stroke=\"black\" points=\"22.5,-360.5 22.5,-443.5 432.5,-443.5 432.5,-360.5 22.5,-360.5\"/>\n",
       "<polygon fill=\"black\" stroke=\"transparent\" points=\"22.5,-360.5 22.5,-443.5 432.5,-443.5 432.5,-360.5 22.5,-360.5\"/>\n",
       "<polygon fill=\"black\" stroke=\"transparent\" points=\"24.5,-401 24.5,-441 430.5,-441 430.5,-401 24.5,-401\"/>\n",
       "<polygon fill=\"none\" stroke=\"black\" points=\"24.5,-401 24.5,-441 430.5,-441 430.5,-401 24.5,-401\"/>\n",
       "<text text-anchor=\"start\" x=\"170.5\" y=\"-418.2\" font-family=\"Helvetica,sans-Serif\" font-weight=\"bold\" font-size=\"16.00\" fill=\"white\">flatten</text>\n",
       "<text text-anchor=\"start\" x=\"219.5\" y=\"-418.2\" font-family=\"Helvetica,sans-Serif\" font-size=\"16.00\" fill=\"white\"> (Flatten)</text>\n",
       "<polygon fill=\"white\" stroke=\"transparent\" points=\"24.5,-362 24.5,-399 228.5,-399 228.5,-362 24.5,-362\"/>\n",
       "<polygon fill=\"none\" stroke=\"black\" points=\"24.5,-362 24.5,-399 228.5,-399 228.5,-362 24.5,-362\"/>\n",
       "<text text-anchor=\"start\" x=\"35.5\" y=\"-377.8\" font-family=\"Helvetica,sans-Serif\" font-size=\"14.00\">Input shape: </text>\n",
       "<text text-anchor=\"start\" x=\"114.5\" y=\"-377.8\" font-family=\"Helvetica,sans-Serif\" font-weight=\"bold\" font-size=\"14.00\">(None, 9, 9, 218)</text>\n",
       "<polygon fill=\"white\" stroke=\"transparent\" points=\"230.5,-362 230.5,-399 430.5,-399 430.5,-362 230.5,-362\"/>\n",
       "<polygon fill=\"none\" stroke=\"black\" points=\"230.5,-362 230.5,-399 430.5,-399 430.5,-362 230.5,-362\"/>\n",
       "<text text-anchor=\"start\" x=\"241.5\" y=\"-377.8\" font-family=\"Helvetica,sans-Serif\" font-size=\"14.00\">Output shape: </text>\n",
       "<text text-anchor=\"start\" x=\"331.5\" y=\"-377.8\" font-family=\"Helvetica,sans-Serif\" font-weight=\"bold\" font-size=\"14.00\">(None, 17658)</text>\n",
       "</g>\n",
       "<!-- 140220453444944&#45;&gt;140220453449936 -->\n",
       "<g id=\"edge11\" class=\"edge\">\n",
       "<title>140220453444944-&gt;140220453449936</title>\n",
       "<path fill=\"none\" stroke=\"black\" stroke-width=\"2\" d=\"M227.5,-480.37C227.5,-480.37 227.5,-453.56 227.5,-453.56\"/>\n",
       "<polygon fill=\"black\" stroke=\"black\" stroke-width=\"2\" points=\"231,-453.56 227.5,-443.56 224,-453.56 231,-453.56\"/>\n",
       "</g>\n",
       "<!-- 140220453447728 -->\n",
       "<g id=\"node13\" class=\"node\">\n",
       "<title>140220453447728</title>\n",
       "<polygon fill=\"none\" stroke=\"black\" points=\"33.5,-240.5 33.5,-323.5 421.5,-323.5 421.5,-240.5 33.5,-240.5\"/>\n",
       "<polygon fill=\"black\" stroke=\"transparent\" points=\"33.5,-240.5 33.5,-323.5 421.5,-323.5 421.5,-240.5 33.5,-240.5\"/>\n",
       "<polygon fill=\"black\" stroke=\"transparent\" points=\"35.5,-281 35.5,-321 419.5,-321 419.5,-281 35.5,-281\"/>\n",
       "<polygon fill=\"none\" stroke=\"black\" points=\"35.5,-281 35.5,-321 419.5,-321 419.5,-281 35.5,-281\"/>\n",
       "<text text-anchor=\"start\" x=\"184.5\" y=\"-298.2\" font-family=\"Helvetica,sans-Serif\" font-weight=\"bold\" font-size=\"16.00\" fill=\"white\">fc1</text>\n",
       "<text text-anchor=\"start\" x=\"208.5\" y=\"-298.2\" font-family=\"Helvetica,sans-Serif\" font-size=\"16.00\" fill=\"white\"> (Dense)</text>\n",
       "<polygon fill=\"white\" stroke=\"transparent\" points=\"35.5,-242 35.5,-279 224.5,-279 224.5,-242 35.5,-242\"/>\n",
       "<polygon fill=\"none\" stroke=\"black\" points=\"35.5,-242 35.5,-279 224.5,-279 224.5,-242 35.5,-242\"/>\n",
       "<text text-anchor=\"start\" x=\"46.5\" y=\"-257.8\" font-family=\"Helvetica,sans-Serif\" font-size=\"14.00\">Input shape: </text>\n",
       "<text text-anchor=\"start\" x=\"125.5\" y=\"-257.8\" font-family=\"Helvetica,sans-Serif\" font-weight=\"bold\" font-size=\"14.00\">(None, 17658)</text>\n",
       "<polygon fill=\"white\" stroke=\"transparent\" points=\"226.5,-242 226.5,-279 419.5,-279 419.5,-242 226.5,-242\"/>\n",
       "<polygon fill=\"none\" stroke=\"black\" points=\"226.5,-242 226.5,-279 419.5,-279 419.5,-242 226.5,-242\"/>\n",
       "<text text-anchor=\"start\" x=\"237.5\" y=\"-257.8\" font-family=\"Helvetica,sans-Serif\" font-size=\"14.00\">Output shape: </text>\n",
       "<text text-anchor=\"start\" x=\"327.5\" y=\"-257.8\" font-family=\"Helvetica,sans-Serif\" font-weight=\"bold\" font-size=\"14.00\">(None, 1024)</text>\n",
       "</g>\n",
       "<!-- 140220453449936&#45;&gt;140220453447728 -->\n",
       "<g id=\"edge12\" class=\"edge\">\n",
       "<title>140220453449936-&gt;140220453447728</title>\n",
       "<path fill=\"none\" stroke=\"black\" stroke-width=\"2\" d=\"M227.5,-360.37C227.5,-360.37 227.5,-333.56 227.5,-333.56\"/>\n",
       "<polygon fill=\"black\" stroke=\"black\" stroke-width=\"2\" points=\"231,-333.56 227.5,-323.56 224,-333.56 231,-333.56\"/>\n",
       "</g>\n",
       "<!-- 140220453438176 -->\n",
       "<g id=\"node14\" class=\"node\">\n",
       "<title>140220453438176</title>\n",
       "<polygon fill=\"none\" stroke=\"black\" points=\"37,-120.5 37,-203.5 418,-203.5 418,-120.5 37,-120.5\"/>\n",
       "<polygon fill=\"black\" stroke=\"transparent\" points=\"37,-120.5 37,-203.5 418,-203.5 418,-120.5 37,-120.5\"/>\n",
       "<polygon fill=\"black\" stroke=\"transparent\" points=\"39.5,-161 39.5,-201 416.5,-201 416.5,-161 39.5,-161\"/>\n",
       "<polygon fill=\"none\" stroke=\"black\" points=\"39.5,-161 39.5,-201 416.5,-201 416.5,-161 39.5,-161\"/>\n",
       "<text text-anchor=\"start\" x=\"145\" y=\"-178.2\" font-family=\"Helvetica,sans-Serif\" font-weight=\"bold\" font-size=\"16.00\" fill=\"white\">fc_dropout1</text>\n",
       "<text text-anchor=\"start\" x=\"238\" y=\"-178.2\" font-family=\"Helvetica,sans-Serif\" font-size=\"16.00\" fill=\"white\"> (Dropout)</text>\n",
       "<polygon fill=\"white\" stroke=\"transparent\" points=\"39.5,-122 39.5,-159 221.5,-159 221.5,-122 39.5,-122\"/>\n",
       "<polygon fill=\"none\" stroke=\"black\" points=\"39.5,-122 39.5,-159 221.5,-159 221.5,-122 39.5,-122\"/>\n",
       "<text text-anchor=\"start\" x=\"50.5\" y=\"-137.8\" font-family=\"Helvetica,sans-Serif\" font-size=\"14.00\">Input shape: </text>\n",
       "<text text-anchor=\"start\" x=\"129.5\" y=\"-137.8\" font-family=\"Helvetica,sans-Serif\" font-weight=\"bold\" font-size=\"14.00\">(None, 1024)</text>\n",
       "<polygon fill=\"white\" stroke=\"transparent\" points=\"223.5,-122 223.5,-159 416.5,-159 416.5,-122 223.5,-122\"/>\n",
       "<polygon fill=\"none\" stroke=\"black\" points=\"223.5,-122 223.5,-159 416.5,-159 416.5,-122 223.5,-122\"/>\n",
       "<text text-anchor=\"start\" x=\"234.5\" y=\"-137.8\" font-family=\"Helvetica,sans-Serif\" font-size=\"14.00\">Output shape: </text>\n",
       "<text text-anchor=\"start\" x=\"324.5\" y=\"-137.8\" font-family=\"Helvetica,sans-Serif\" font-weight=\"bold\" font-size=\"14.00\">(None, 1024)</text>\n",
       "</g>\n",
       "<!-- 140220453447728&#45;&gt;140220453438176 -->\n",
       "<g id=\"edge13\" class=\"edge\">\n",
       "<title>140220453447728-&gt;140220453438176</title>\n",
       "<path fill=\"none\" stroke=\"black\" stroke-width=\"2\" d=\"M227.5,-240.37C227.5,-240.37 227.5,-213.56 227.5,-213.56\"/>\n",
       "<polygon fill=\"black\" stroke=\"black\" stroke-width=\"2\" points=\"231,-213.56 227.5,-203.56 224,-213.56 231,-213.56\"/>\n",
       "</g>\n",
       "<!-- 140220453446528 -->\n",
       "<g id=\"node15\" class=\"node\">\n",
       "<title>140220453446528</title>\n",
       "<polygon fill=\"none\" stroke=\"black\" points=\"48.5,-0.5 48.5,-83.5 406.5,-83.5 406.5,-0.5 48.5,-0.5\"/>\n",
       "<polygon fill=\"black\" stroke=\"transparent\" points=\"48.5,-0.5 48.5,-83.5 406.5,-83.5 406.5,-0.5 48.5,-0.5\"/>\n",
       "<polygon fill=\"black\" stroke=\"transparent\" points=\"50.5,-41 50.5,-81 404.5,-81 404.5,-41 50.5,-41\"/>\n",
       "<polygon fill=\"none\" stroke=\"black\" points=\"50.5,-41 50.5,-81 404.5,-81 404.5,-41 50.5,-41\"/>\n",
       "<text text-anchor=\"start\" x=\"120.5\" y=\"-58.2\" font-family=\"Helvetica,sans-Serif\" font-weight=\"bold\" font-size=\"16.00\" fill=\"white\">fc3_7ways_softmax</text>\n",
       "<text text-anchor=\"start\" x=\"272.5\" y=\"-58.2\" font-family=\"Helvetica,sans-Serif\" font-size=\"16.00\" fill=\"white\"> (Dense)</text>\n",
       "<polygon fill=\"white\" stroke=\"transparent\" points=\"50.5,-2 50.5,-39 232.5,-39 232.5,-2 50.5,-2\"/>\n",
       "<polygon fill=\"none\" stroke=\"black\" points=\"50.5,-2 50.5,-39 232.5,-39 232.5,-2 50.5,-2\"/>\n",
       "<text text-anchor=\"start\" x=\"61.5\" y=\"-17.8\" font-family=\"Helvetica,sans-Serif\" font-size=\"14.00\">Input shape: </text>\n",
       "<text text-anchor=\"start\" x=\"140.5\" y=\"-17.8\" font-family=\"Helvetica,sans-Serif\" font-weight=\"bold\" font-size=\"14.00\">(None, 1024)</text>\n",
       "<polygon fill=\"white\" stroke=\"transparent\" points=\"234.5,-2 234.5,-39 404.5,-39 404.5,-2 234.5,-2\"/>\n",
       "<polygon fill=\"none\" stroke=\"black\" points=\"234.5,-2 234.5,-39 404.5,-39 404.5,-2 234.5,-2\"/>\n",
       "<text text-anchor=\"start\" x=\"245.5\" y=\"-17.8\" font-family=\"Helvetica,sans-Serif\" font-size=\"14.00\">Output shape: </text>\n",
       "<text text-anchor=\"start\" x=\"335.5\" y=\"-17.8\" font-family=\"Helvetica,sans-Serif\" font-weight=\"bold\" font-size=\"14.00\">(None, 7)</text>\n",
       "</g>\n",
       "<!-- 140220453438176&#45;&gt;140220453446528 -->\n",
       "<g id=\"edge14\" class=\"edge\">\n",
       "<title>140220453438176-&gt;140220453446528</title>\n",
       "<path fill=\"none\" stroke=\"black\" stroke-width=\"2\" d=\"M227.5,-120.37C227.5,-120.37 227.5,-93.56 227.5,-93.56\"/>\n",
       "<polygon fill=\"black\" stroke=\"black\" stroke-width=\"2\" points=\"231,-93.56 227.5,-83.56 224,-93.56 231,-93.56\"/>\n",
       "</g>\n",
       "</g>\n",
       "</svg>"
      ],
      "text/plain": [
       "<IPython.core.display.SVG object>"
      ]
     },
     "execution_count": 6,
     "metadata": {},
     "output_type": "execute_result"
    }
   ],
   "source": [
    "SVG(model_to_dot(model, show_shapes=True).create(prog='dot', format='svg'))"
   ]
  },
  {
   "cell_type": "markdown",
   "id": "4b47f2a5",
   "metadata": {
    "papermill": {
     "duration": 0.004613,
     "end_time": "2025-03-31T10:08:56.687848",
     "exception": false,
     "start_time": "2025-03-31T10:08:56.683235",
     "status": "completed"
    },
    "tags": []
   },
   "source": [
    "# (3) Train defined model\n",
    "- Note that the training history including loss and accuracy will be save in 'history' variable\n",
    "- In case your system runs out of memory (OOM), try to decrease batch size"
   ]
  },
  {
   "cell_type": "code",
   "execution_count": 7,
   "id": "cf4652d8",
   "metadata": {
    "execution": {
     "iopub.execute_input": "2025-03-31T10:08:56.698322Z",
     "iopub.status.busy": "2025-03-31T10:08:56.697943Z",
     "iopub.status.idle": "2025-03-31T10:08:56.702168Z",
     "shell.execute_reply": "2025-03-31T10:08:56.701307Z"
    },
    "papermill": {
     "duration": 0.010984,
     "end_time": "2025-03-31T10:08:56.703529",
     "exception": false,
     "start_time": "2025-03-31T10:08:56.692545",
     "status": "completed"
    },
    "tags": []
   },
   "outputs": [],
   "source": [
    "# Data augmentation\n",
    "# based on https://keras.io/preprocessing/image/\n",
    "datagen = ImageDataGenerator(\n",
    "    rotation_range=45,\n",
    "    width_shift_range=0.2,\n",
    "    height_shift_range=0.2,\n",
    "    horizontal_flip=True)"
   ]
  },
  {
   "cell_type": "code",
   "execution_count": 8,
   "id": "3496f121",
   "metadata": {
    "execution": {
     "iopub.execute_input": "2025-03-31T10:08:56.717088Z",
     "iopub.status.busy": "2025-03-31T10:08:56.716762Z",
     "iopub.status.idle": "2025-03-31T10:18:56.536307Z",
     "shell.execute_reply": "2025-03-31T10:18:56.535497Z"
    },
    "papermill": {
     "duration": 599.829366,
     "end_time": "2025-03-31T10:18:56.537505",
     "exception": false,
     "start_time": "2025-03-31T10:08:56.708139",
     "status": "completed"
    },
    "tags": []
   },
   "outputs": [
    {
     "name": "stdout",
     "output_type": "stream",
     "text": [
      "Epoch 1/100\n"
     ]
    },
    {
     "name": "stderr",
     "output_type": "stream",
     "text": [
      "/usr/local/lib/python3.10/dist-packages/keras/src/trainers/data_adapters/py_dataset_adapter.py:122: UserWarning: Your `PyDataset` class should call `super().__init__(**kwargs)` in its constructor. `**kwargs` can include `workers`, `use_multiprocessing`, `max_queue_size`. Do not pass these arguments to `fit()`, as they will be ignored.\n",
      "  self._warn_if_super_not_called()\n"
     ]
    },
    {
     "name": "stdout",
     "output_type": "stream",
     "text": [
      "\u001b[1m224/224\u001b[0m \u001b[32m━━━━━━━━━━━━━━━━━━━━\u001b[0m\u001b[37m\u001b[0m \u001b[1m39s\u001b[0m 118ms/step - accuracy: 0.2151 - loss: 3.9398 - val_accuracy: 0.2474 - val_loss: 1.8564\n",
      "Epoch 2/100\n",
      "\u001b[1m  1/224\u001b[0m \u001b[37m━━━━━━━━━━━━━━━━━━━━\u001b[0m \u001b[1m16s\u001b[0m 75ms/step - accuracy: 0.1953 - loss: 1.8561"
     ]
    },
    {
     "name": "stderr",
     "output_type": "stream",
     "text": [
      "/usr/lib/python3.10/contextlib.py:153: UserWarning: Your input ran out of data; interrupting training. Make sure that your dataset or generator can generate at least `steps_per_epoch * epochs` batches. You may need to use the `.repeat()` function when building your dataset.\n",
      "  self.gen.throw(typ, value, traceback)\n"
     ]
    },
    {
     "name": "stdout",
     "output_type": "stream",
     "text": [
      "\u001b[1m224/224\u001b[0m \u001b[32m━━━━━━━━━━━━━━━━━━━━\u001b[0m\u001b[37m\u001b[0m \u001b[1m1s\u001b[0m 3ms/step - accuracy: 0.1953 - loss: 1.8561 - val_accuracy: 0.2458 - val_loss: 1.8599\n",
      "Epoch 3/100\n",
      "\u001b[1m224/224\u001b[0m \u001b[32m━━━━━━━━━━━━━━━━━━━━\u001b[0m\u001b[37m\u001b[0m \u001b[1m20s\u001b[0m 86ms/step - accuracy: 0.2375 - loss: 1.8259 - val_accuracy: 0.2549 - val_loss: 1.8163\n",
      "Epoch 4/100\n",
      "\u001b[1m224/224\u001b[0m \u001b[32m━━━━━━━━━━━━━━━━━━━━\u001b[0m\u001b[37m\u001b[0m \u001b[1m1s\u001b[0m 3ms/step - accuracy: 0.2422 - loss: 1.8448 - val_accuracy: 0.2530 - val_loss: 1.8177\n",
      "Epoch 5/100\n",
      "\u001b[1m224/224\u001b[0m \u001b[32m━━━━━━━━━━━━━━━━━━━━\u001b[0m\u001b[37m\u001b[0m \u001b[1m20s\u001b[0m 88ms/step - accuracy: 0.2564 - loss: 1.8101 - val_accuracy: 0.2608 - val_loss: 1.8007\n",
      "Epoch 6/100\n",
      "\u001b[1m224/224\u001b[0m \u001b[32m━━━━━━━━━━━━━━━━━━━━\u001b[0m\u001b[37m\u001b[0m \u001b[1m1s\u001b[0m 3ms/step - accuracy: 0.2109 - loss: 1.8167 - val_accuracy: 0.2605 - val_loss: 1.7998\n",
      "Epoch 7/100\n",
      "\u001b[1m224/224\u001b[0m \u001b[32m━━━━━━━━━━━━━━━━━━━━\u001b[0m\u001b[37m\u001b[0m \u001b[1m21s\u001b[0m 90ms/step - accuracy: 0.2522 - loss: 1.8060 - val_accuracy: 0.2778 - val_loss: 1.7895\n",
      "Epoch 8/100\n",
      "\u001b[1m224/224\u001b[0m \u001b[32m━━━━━━━━━━━━━━━━━━━━\u001b[0m\u001b[37m\u001b[0m \u001b[1m1s\u001b[0m 3ms/step - accuracy: 0.1953 - loss: 1.7914 - val_accuracy: 0.2756 - val_loss: 1.7866\n",
      "Epoch 9/100\n",
      "\u001b[1m224/224\u001b[0m \u001b[32m━━━━━━━━━━━━━━━━━━━━\u001b[0m\u001b[37m\u001b[0m \u001b[1m21s\u001b[0m 92ms/step - accuracy: 0.2580 - loss: 1.7969 - val_accuracy: 0.2903 - val_loss: 1.7610\n",
      "Epoch 10/100\n",
      "\u001b[1m224/224\u001b[0m \u001b[32m━━━━━━━━━━━━━━━━━━━━\u001b[0m\u001b[37m\u001b[0m \u001b[1m1s\u001b[0m 3ms/step - accuracy: 0.2656 - loss: 1.7844 - val_accuracy: 0.2942 - val_loss: 1.7567\n",
      "Epoch 11/100\n",
      "\u001b[1m224/224\u001b[0m \u001b[32m━━━━━━━━━━━━━━━━━━━━\u001b[0m\u001b[37m\u001b[0m \u001b[1m22s\u001b[0m 95ms/step - accuracy: 0.2645 - loss: 1.7828 - val_accuracy: 0.3043 - val_loss: 1.7312\n",
      "Epoch 12/100\n",
      "\u001b[1m224/224\u001b[0m \u001b[32m━━━━━━━━━━━━━━━━━━━━\u001b[0m\u001b[37m\u001b[0m \u001b[1m1s\u001b[0m 3ms/step - accuracy: 0.3047 - loss: 1.6920 - val_accuracy: 0.3020 - val_loss: 1.7264\n",
      "Epoch 13/100\n",
      "\u001b[1m224/224\u001b[0m \u001b[32m━━━━━━━━━━━━━━━━━━━━\u001b[0m\u001b[37m\u001b[0m \u001b[1m22s\u001b[0m 98ms/step - accuracy: 0.2707 - loss: 1.7763 - val_accuracy: 0.3282 - val_loss: 1.6945\n",
      "Epoch 14/100\n",
      "\u001b[1m224/224\u001b[0m \u001b[32m━━━━━━━━━━━━━━━━━━━━\u001b[0m\u001b[37m\u001b[0m \u001b[1m1s\u001b[0m 3ms/step - accuracy: 0.2578 - loss: 1.7448 - val_accuracy: 0.3277 - val_loss: 1.6925\n",
      "Epoch 15/100\n",
      "\u001b[1m224/224\u001b[0m \u001b[32m━━━━━━━━━━━━━━━━━━━━\u001b[0m\u001b[37m\u001b[0m \u001b[1m22s\u001b[0m 95ms/step - accuracy: 0.2844 - loss: 1.7510 - val_accuracy: 0.3472 - val_loss: 1.6574\n",
      "Epoch 16/100\n",
      "\u001b[1m224/224\u001b[0m \u001b[32m━━━━━━━━━━━━━━━━━━━━\u001b[0m\u001b[37m\u001b[0m \u001b[1m1s\u001b[0m 3ms/step - accuracy: 0.2969 - loss: 1.7396 - val_accuracy: 0.3466 - val_loss: 1.6555\n",
      "Epoch 17/100\n",
      "\u001b[1m224/224\u001b[0m \u001b[32m━━━━━━━━━━━━━━━━━━━━\u001b[0m\u001b[37m\u001b[0m \u001b[1m21s\u001b[0m 94ms/step - accuracy: 0.2899 - loss: 1.7300 - val_accuracy: 0.3834 - val_loss: 1.6099\n",
      "Epoch 18/100\n",
      "\u001b[1m224/224\u001b[0m \u001b[32m━━━━━━━━━━━━━━━━━━━━\u001b[0m\u001b[37m\u001b[0m \u001b[1m1s\u001b[0m 3ms/step - accuracy: 0.2734 - loss: 1.7205 - val_accuracy: 0.3787 - val_loss: 1.6047\n",
      "Epoch 19/100\n",
      "\u001b[1m224/224\u001b[0m \u001b[32m━━━━━━━━━━━━━━━━━━━━\u001b[0m\u001b[37m\u001b[0m \u001b[1m22s\u001b[0m 96ms/step - accuracy: 0.3027 - loss: 1.7191 - val_accuracy: 0.3898 - val_loss: 1.5507\n",
      "Epoch 20/100\n",
      "\u001b[1m224/224\u001b[0m \u001b[32m━━━━━━━━━━━━━━━━━━━━\u001b[0m\u001b[37m\u001b[0m \u001b[1m1s\u001b[0m 3ms/step - accuracy: 0.3828 - loss: 1.6319 - val_accuracy: 0.3926 - val_loss: 1.5488\n",
      "Epoch 21/100\n",
      "\u001b[1m224/224\u001b[0m \u001b[32m━━━━━━━━━━━━━━━━━━━━\u001b[0m\u001b[37m\u001b[0m \u001b[1m22s\u001b[0m 96ms/step - accuracy: 0.3215 - loss: 1.6876 - val_accuracy: 0.4207 - val_loss: 1.5028\n",
      "Epoch 22/100\n",
      "\u001b[1m224/224\u001b[0m \u001b[32m━━━━━━━━━━━━━━━━━━━━\u001b[0m\u001b[37m\u001b[0m \u001b[1m1s\u001b[0m 3ms/step - accuracy: 0.2969 - loss: 1.6663 - val_accuracy: 0.4202 - val_loss: 1.4960\n",
      "Epoch 23/100\n",
      "\u001b[1m224/224\u001b[0m \u001b[32m━━━━━━━━━━━━━━━━━━━━\u001b[0m\u001b[37m\u001b[0m \u001b[1m22s\u001b[0m 95ms/step - accuracy: 0.3479 - loss: 1.6483 - val_accuracy: 0.4397 - val_loss: 1.4409\n",
      "Epoch 24/100\n",
      "\u001b[1m224/224\u001b[0m \u001b[32m━━━━━━━━━━━━━━━━━━━━\u001b[0m\u001b[37m\u001b[0m \u001b[1m1s\u001b[0m 3ms/step - accuracy: 0.3828 - loss: 1.5932 - val_accuracy: 0.4160 - val_loss: 1.4931\n",
      "Epoch 25/100\n",
      "\u001b[1m224/224\u001b[0m \u001b[32m━━━━━━━━━━━━━━━━━━━━\u001b[0m\u001b[37m\u001b[0m \u001b[1m22s\u001b[0m 95ms/step - accuracy: 0.3720 - loss: 1.5942 - val_accuracy: 0.4533 - val_loss: 1.4355\n",
      "Epoch 26/100\n",
      "\u001b[1m224/224\u001b[0m \u001b[32m━━━━━━━━━━━━━━━━━━━━\u001b[0m\u001b[37m\u001b[0m \u001b[1m1s\u001b[0m 3ms/step - accuracy: 0.3359 - loss: 1.5764 - val_accuracy: 0.4536 - val_loss: 1.4357\n",
      "Epoch 27/100\n",
      "\u001b[1m224/224\u001b[0m \u001b[32m━━━━━━━━━━━━━━━━━━━━\u001b[0m\u001b[37m\u001b[0m \u001b[1m22s\u001b[0m 95ms/step - accuracy: 0.4063 - loss: 1.5328 - val_accuracy: 0.4703 - val_loss: 1.3952\n",
      "Epoch 28/100\n",
      "\u001b[1m224/224\u001b[0m \u001b[32m━━━━━━━━━━━━━━━━━━━━\u001b[0m\u001b[37m\u001b[0m \u001b[1m1s\u001b[0m 3ms/step - accuracy: 0.4531 - loss: 1.5642 - val_accuracy: 0.4700 - val_loss: 1.3999\n",
      "Epoch 29/100\n",
      "\u001b[1m224/224\u001b[0m \u001b[32m━━━━━━━━━━━━━━━━━━━━\u001b[0m\u001b[37m\u001b[0m \u001b[1m22s\u001b[0m 95ms/step - accuracy: 0.4244 - loss: 1.4797 - val_accuracy: 0.4962 - val_loss: 1.3208\n",
      "Epoch 30/100\n",
      "\u001b[1m224/224\u001b[0m \u001b[32m━━━━━━━━━━━━━━━━━━━━\u001b[0m\u001b[37m\u001b[0m \u001b[1m1s\u001b[0m 3ms/step - accuracy: 0.4062 - loss: 1.4201 - val_accuracy: 0.5018 - val_loss: 1.3189\n",
      "Epoch 31/100\n",
      "\u001b[1m224/224\u001b[0m \u001b[32m━━━━━━━━━━━━━━━━━━━━\u001b[0m\u001b[37m\u001b[0m \u001b[1m22s\u001b[0m 96ms/step - accuracy: 0.4403 - loss: 1.4520 - val_accuracy: 0.5082 - val_loss: 1.2764\n",
      "Epoch 32/100\n",
      "\u001b[1m224/224\u001b[0m \u001b[32m━━━━━━━━━━━━━━━━━━━━\u001b[0m\u001b[37m\u001b[0m \u001b[1m1s\u001b[0m 3ms/step - accuracy: 0.5000 - loss: 1.3568 - val_accuracy: 0.5074 - val_loss: 1.2809\n",
      "Epoch 33/100\n",
      "\u001b[1m224/224\u001b[0m \u001b[32m━━━━━━━━━━━━━━━━━━━━\u001b[0m\u001b[37m\u001b[0m \u001b[1m22s\u001b[0m 96ms/step - accuracy: 0.4575 - loss: 1.4212 - val_accuracy: 0.5138 - val_loss: 1.2666\n",
      "Epoch 34/100\n",
      "\u001b[1m224/224\u001b[0m \u001b[32m━━━━━━━━━━━━━━━━━━━━\u001b[0m\u001b[37m\u001b[0m \u001b[1m1s\u001b[0m 3ms/step - accuracy: 0.4219 - loss: 1.4652 - val_accuracy: 0.5135 - val_loss: 1.2605\n",
      "Epoch 35/100\n",
      "\u001b[1m224/224\u001b[0m \u001b[32m━━━━━━━━━━━━━━━━━━━━\u001b[0m\u001b[37m\u001b[0m \u001b[1m22s\u001b[0m 96ms/step - accuracy: 0.4549 - loss: 1.4123 - val_accuracy: 0.5224 - val_loss: 1.2294\n",
      "Epoch 36/100\n",
      "\u001b[1m224/224\u001b[0m \u001b[32m━━━━━━━━━━━━━━━━━━━━\u001b[0m\u001b[37m\u001b[0m \u001b[1m1s\u001b[0m 3ms/step - accuracy: 0.5000 - loss: 1.4279 - val_accuracy: 0.5227 - val_loss: 1.2374\n",
      "Epoch 37/100\n",
      "\u001b[1m224/224\u001b[0m \u001b[32m━━━━━━━━━━━━━━━━━━━━\u001b[0m\u001b[37m\u001b[0m \u001b[1m22s\u001b[0m 96ms/step - accuracy: 0.4685 - loss: 1.3878 - val_accuracy: 0.5252 - val_loss: 1.2386\n",
      "Epoch 38/100\n",
      "\u001b[1m224/224\u001b[0m \u001b[32m━━━━━━━━━━━━━━━━━━━━\u001b[0m\u001b[37m\u001b[0m \u001b[1m1s\u001b[0m 3ms/step - accuracy: 0.4453 - loss: 1.4544 - val_accuracy: 0.5277 - val_loss: 1.2327\n",
      "Epoch 39/100\n",
      "\u001b[1m224/224\u001b[0m \u001b[32m━━━━━━━━━━━━━━━━━━━━\u001b[0m\u001b[37m\u001b[0m \u001b[1m22s\u001b[0m 96ms/step - accuracy: 0.4875 - loss: 1.3499 - val_accuracy: 0.5330 - val_loss: 1.2151\n",
      "Epoch 40/100\n",
      "\u001b[1m224/224\u001b[0m \u001b[32m━━━━━━━━━━━━━━━━━━━━\u001b[0m\u001b[37m\u001b[0m \u001b[1m1s\u001b[0m 3ms/step - accuracy: 0.4688 - loss: 1.3485 - val_accuracy: 0.5364 - val_loss: 1.2115\n",
      "Epoch 41/100\n",
      "\u001b[1m224/224\u001b[0m \u001b[32m━━━━━━━━━━━━━━━━━━━━\u001b[0m\u001b[37m\u001b[0m \u001b[1m22s\u001b[0m 96ms/step - accuracy: 0.4951 - loss: 1.3324 - val_accuracy: 0.5294 - val_loss: 1.2189\n",
      "Epoch 42/100\n",
      "\u001b[1m224/224\u001b[0m \u001b[32m━━━━━━━━━━━━━━━━━━━━\u001b[0m\u001b[37m\u001b[0m \u001b[1m1s\u001b[0m 3ms/step - accuracy: 0.5625 - loss: 1.2431 - val_accuracy: 0.5313 - val_loss: 1.2213\n",
      "Epoch 43/100\n",
      "\u001b[1m224/224\u001b[0m \u001b[32m━━━━━━━━━━━━━━━━━━━━\u001b[0m\u001b[37m\u001b[0m \u001b[1m22s\u001b[0m 96ms/step - accuracy: 0.4976 - loss: 1.3210 - val_accuracy: 0.5344 - val_loss: 1.2129\n",
      "Epoch 44/100\n",
      "\u001b[1m224/224\u001b[0m \u001b[32m━━━━━━━━━━━━━━━━━━━━\u001b[0m\u001b[37m\u001b[0m \u001b[1m1s\u001b[0m 3ms/step - accuracy: 0.5469 - loss: 1.2899 - val_accuracy: 0.5341 - val_loss: 1.2140\n",
      "Epoch 45/100\n",
      "\u001b[1m224/224\u001b[0m \u001b[32m━━━━━━━━━━━━━━━━━━━━\u001b[0m\u001b[37m\u001b[0m \u001b[1m22s\u001b[0m 96ms/step - accuracy: 0.5119 - loss: 1.2931 - val_accuracy: 0.5478 - val_loss: 1.1785\n",
      "Epoch 46/100\n",
      "\u001b[1m224/224\u001b[0m \u001b[32m━━━━━━━━━━━━━━━━━━━━\u001b[0m\u001b[37m\u001b[0m \u001b[1m1s\u001b[0m 3ms/step - accuracy: 0.4609 - loss: 1.3445 - val_accuracy: 0.5536 - val_loss: 1.1718\n",
      "Epoch 47/100\n",
      "\u001b[1m224/224\u001b[0m \u001b[32m━━━━━━━━━━━━━━━━━━━━\u001b[0m\u001b[37m\u001b[0m \u001b[1m22s\u001b[0m 96ms/step - accuracy: 0.5141 - loss: 1.2886 - val_accuracy: 0.5520 - val_loss: 1.1578\n",
      "Epoch 48/100\n",
      "\u001b[1m224/224\u001b[0m \u001b[32m━━━━━━━━━━━━━━━━━━━━\u001b[0m\u001b[37m\u001b[0m \u001b[1m1s\u001b[0m 3ms/step - accuracy: 0.4844 - loss: 1.2421 - val_accuracy: 0.5522 - val_loss: 1.1633\n",
      "Epoch 49/100\n",
      "\u001b[1m224/224\u001b[0m \u001b[32m━━━━━━━━━━━━━━━━━━━━\u001b[0m\u001b[37m\u001b[0m \u001b[1m22s\u001b[0m 96ms/step - accuracy: 0.5184 - loss: 1.2703 - val_accuracy: 0.5587 - val_loss: 1.1595\n",
      "Epoch 50/100\n",
      "\u001b[1m224/224\u001b[0m \u001b[32m━━━━━━━━━━━━━━━━━━━━\u001b[0m\u001b[37m\u001b[0m \u001b[1m1s\u001b[0m 3ms/step - accuracy: 0.5859 - loss: 1.1899 - val_accuracy: 0.5575 - val_loss: 1.1612\n",
      "Epoch 51/100\n",
      "\u001b[1m224/224\u001b[0m \u001b[32m━━━━━━━━━━━━━━━━━━━━\u001b[0m\u001b[37m\u001b[0m \u001b[1m22s\u001b[0m 96ms/step - accuracy: 0.5203 - loss: 1.2554 - val_accuracy: 0.5567 - val_loss: 1.1803\n",
      "Epoch 52/100\n",
      "\u001b[1m224/224\u001b[0m \u001b[32m━━━━━━━━━━━━━━━━━━━━\u001b[0m\u001b[37m\u001b[0m \u001b[1m1s\u001b[0m 3ms/step - accuracy: 0.5156 - loss: 1.2698 - val_accuracy: 0.5564 - val_loss: 1.1859\n",
      "> training time is 9.9967 minutes\n"
     ]
    }
   ],
   "source": [
    "# Khai báo loss function và optimizer\n",
    "loss = 'categorical_crossentropy'\n",
    "learning_rate = 0.0001\n",
    "model.compile(loss=loss, optimizer=Adam(learning_rate=learning_rate), metrics=['accuracy'])\n",
    "\n",
    "# EarlyStopping để tránh overfitting\n",
    "early_stopping_after_epochs = 5\n",
    "early_stopping = EarlyStopping(monitor='val_loss', patience=early_stopping_after_epochs)\n",
    "\n",
    "# Thông số huấn luyện\n",
    "batch_size = 128\n",
    "epochs = 100\n",
    "\n",
    "# Bắt đầu huấn luyện\n",
    "starting_time = time.time()\n",
    "history = model.fit(datagen.flow(x_training, y_training, batch_size=batch_size),\n",
    "                    steps_per_epoch=int(len(x_training) / batch_size),  # Ép kiểu về int\n",
    "                    validation_data=(x_testing, y_testing),\n",
    "                    epochs=epochs,\n",
    "                    callbacks=[early_stopping])\n",
    "print('> training time is %.4f minutes' % ((time.time() - starting_time)/60))"
   ]
  },
  {
   "cell_type": "markdown",
   "id": "4ae7d174",
   "metadata": {
    "papermill": {
     "duration": 0.275896,
     "end_time": "2025-03-31T10:18:57.130840",
     "exception": false,
     "start_time": "2025-03-31T10:18:56.854944",
     "status": "completed"
    },
    "tags": []
   },
   "source": [
    "### Training time\n",
    "- Training time with GTX 1080 is about 22.7489 minutes for 57 epochs. The accuracy +2% without overfitting!\n",
    "- Training time with Core i7 is around ??? minutes for ??? epochs"
   ]
  },
  {
   "cell_type": "markdown",
   "id": "4b2e284e",
   "metadata": {
    "papermill": {
     "duration": 0.290578,
     "end_time": "2025-03-31T10:18:57.714191",
     "exception": false,
     "start_time": "2025-03-31T10:18:57.423613",
     "status": "completed"
    },
    "tags": []
   },
   "source": [
    "# (4) Evaluate trained model"
   ]
  },
  {
   "cell_type": "code",
   "execution_count": 9,
   "id": "990040e9",
   "metadata": {
    "execution": {
     "iopub.execute_input": "2025-03-31T10:18:58.301782Z",
     "iopub.status.busy": "2025-03-31T10:18:58.301194Z",
     "iopub.status.idle": "2025-03-31T10:18:59.203733Z",
     "shell.execute_reply": "2025-03-31T10:18:59.202851Z"
    },
    "papermill": {
     "duration": 1.175633,
     "end_time": "2025-03-31T10:18:59.205106",
     "exception": false,
     "start_time": "2025-03-31T10:18:58.029473",
     "status": "completed"
    },
    "tags": []
   },
   "outputs": [
    {
     "name": "stdout",
     "output_type": "stream",
     "text": [
      "\u001b[1m113/113\u001b[0m \u001b[32m━━━━━━━━━━━━━━━━━━━━\u001b[0m\u001b[37m\u001b[0m \u001b[1m1s\u001b[0m 7ms/step - accuracy: 0.5587 - loss: 1.1935\n",
      "Test loss: 1.1859394311904907\n",
      "Test accuracy: 0.5564224123954773\n"
     ]
    }
   ],
   "source": [
    "score = model.evaluate(x_testing, y_testing)\n",
    "print('Test loss:', score[0])\n",
    "print('Test accuracy:', score[1])"
   ]
  },
  {
   "cell_type": "code",
   "execution_count": 10,
   "id": "7371e7ca",
   "metadata": {
    "execution": {
     "iopub.execute_input": "2025-03-31T10:18:59.751826Z",
     "iopub.status.busy": "2025-03-31T10:18:59.751497Z",
     "iopub.status.idle": "2025-03-31T10:18:59.755956Z",
     "shell.execute_reply": "2025-03-31T10:18:59.755269Z"
    },
    "papermill": {
     "duration": 0.277377,
     "end_time": "2025-03-31T10:18:59.757188",
     "exception": false,
     "start_time": "2025-03-31T10:18:59.479811",
     "status": "completed"
    },
    "tags": []
   },
   "outputs": [],
   "source": [
    "def get_emotion(ohv):\n",
    "    indx = np.argmax(ohv)\n",
    "        \n",
    "    if indx == 0:\n",
    "        return 'angry'\n",
    "    elif indx == 1:\n",
    "        return 'disgust'\n",
    "    elif indx == 2:\n",
    "        return 'fear'\n",
    "    elif indx == 3:\n",
    "        return 'happy'\n",
    "    elif indx == 4:\n",
    "        return 'sad'\n",
    "    elif indx == 5:\n",
    "        return 'surprise'\n",
    "    elif indx == 6:\n",
    "        return 'neutral'"
   ]
  },
  {
   "cell_type": "code",
   "execution_count": 11,
   "id": "c89dfbb5",
   "metadata": {
    "execution": {
     "iopub.execute_input": "2025-03-31T10:19:00.431132Z",
     "iopub.status.busy": "2025-03-31T10:19:00.430776Z",
     "iopub.status.idle": "2025-03-31T10:19:01.419161Z",
     "shell.execute_reply": "2025-03-31T10:19:01.418209Z"
    },
    "papermill": {
     "duration": 1.292087,
     "end_time": "2025-03-31T10:19:01.420591",
     "exception": false,
     "start_time": "2025-03-31T10:19:00.128504",
     "status": "completed"
    },
    "tags": []
   },
   "outputs": [
    {
     "name": "stdout",
     "output_type": "stream",
     "text": [
      "\u001b[1m1/1\u001b[0m \u001b[32m━━━━━━━━━━━━━━━━━━━━\u001b[0m\u001b[37m\u001b[0m \u001b[1m1s\u001b[0m 675ms/step\n"
     ]
    },
    {
     "data": {
      "image/png": "[encoded data removed]",
      "text/plain": [
       "<Figure size 640x480 with 1 Axes>"
      ]
     },
     "metadata": {},
     "output_type": "display_data"
    },
    {
     "name": "stdout",
     "output_type": "stream",
     "text": [
      "> testing image index: 1947\n",
      "> true emotion: sad\n",
      "> predicted emotion: sad\n"
     ]
    }
   ],
   "source": [
    "# 2163\n",
    "img_indx = np.uint32(np.random.rand()*(testingset.shape[0] - 1))\n",
    "sample = x_testing[img_indx, :]\n",
    "sample = sample.reshape(48, 48)\n",
    "\n",
    "pred_cls = model.predict(sample.reshape(1, 48, 48, 1))\n",
    "\n",
    "plt.imshow(sample, cmap='gray')\n",
    "plt.show()\n",
    "print('> testing image index: %d\\n> true emotion: %s\\n> predicted emotion: %s' % (img_indx, get_emotion(y_testing[img_indx, :]), get_emotion(pred_cls)))"
   ]
  },
  {
   "cell_type": "code",
   "execution_count": null,
   "id": "a5ad81f7",
   "metadata": {
    "papermill": {
     "duration": 0.278352,
     "end_time": "2025-03-31T10:19:01.979926",
     "exception": false,
     "start_time": "2025-03-31T10:19:01.701574",
     "status": "completed"
    },
    "tags": []
   },
   "outputs": [],
   "source": []
  }
 ],
 "metadata": {
  "anaconda-cloud": {},
  "kaggle": {
   "accelerator": "nvidiaTeslaT4",
   "dataSources": [
    {
     "datasetId": 6966213,
     "sourceId": 11163595,
     "sourceType": "datasetVersion"
    }
   ],
   "dockerImageVersionId": 30918,
   "isGpuEnabled": true,
   "isInternetEnabled": true,
   "language": "python",
   "sourceType": "notebook"
  },
  "kernelspec": {
   "display_name": "Python 3",
   "language": "python",
   "name": "python3"
  },
  "language_info": {
   "codemirror_mode": {
    "name": "ipython",
    "version": 3
   },
   "file_extension": ".py",
   "mimetype": "text/x-python",
   "name": "python",
   "nbconvert_exporter": "python",
   "pygments_lexer": "ipython3",
   "version": "3.10.12"
  },
  "papermill": {
   "default_parameters": {},
   "duration": 634.046768,
   "end_time": "2025-03-31T10:19:04.422675",
   "environment_variables": {},
   "exception": null,
   "input_path": "__notebook__.ipynb",
   "output_path": "__notebook__.ipynb",
   "parameters": {},
   "start_time": "2025-03-31T10:08:30.375907",
   "version": "2.6.0"
  }
 },
 "nbformat": 4,
 "nbformat_minor": 5
}
