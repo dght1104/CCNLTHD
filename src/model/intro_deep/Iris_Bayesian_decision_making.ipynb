{
 "cells": [
  {
   "cell_type": "markdown",
   "id": "27de7257",
   "metadata": {
    "papermill": {
     "duration": 0.002845,
     "end_time": "2025-03-29T21:21:49.001486",
     "exception": false,
     "start_time": "2025-03-29T21:21:48.998641",
     "status": "completed"
    },
    "tags": []
   },
   "source": [
    "# (1) import libraries"
   ]
  },
  {
   "cell_type": "code",
   "execution_count": 1,
   "id": "e7d70b8d",
   "metadata": {
    "execution": {
     "iopub.execute_input": "2025-03-29T21:21:49.007836Z",
     "iopub.status.busy": "2025-03-29T21:21:49.007472Z",
     "iopub.status.idle": "2025-03-29T21:21:50.357724Z",
     "shell.execute_reply": "2025-03-29T21:21:50.356903Z"
    },
    "papermill": {
     "duration": 1.355603,
     "end_time": "2025-03-29T21:21:50.359685",
     "exception": false,
     "start_time": "2025-03-29T21:21:49.004082",
     "status": "completed"
    },
    "tags": []
   },
   "outputs": [],
   "source": [
    "from sklearn import datasets\n",
    "from sklearn.naive_bayes import GaussianNB\n",
    "\n",
    "import numpy as np\n",
    "import time"
   ]
  },
  {
   "cell_type": "markdown",
   "id": "f4dae4d6",
   "metadata": {
    "papermill": {
     "duration": 0.001968,
     "end_time": "2025-03-29T21:21:50.364175",
     "exception": false,
     "start_time": "2025-03-29T21:21:50.362207",
     "status": "completed"
    },
    "tags": []
   },
   "source": [
    "# (2) preparing iris dataset"
   ]
  },
  {
   "cell_type": "code",
   "execution_count": 2,
   "id": "e543e8a8",
   "metadata": {
    "execution": {
     "iopub.execute_input": "2025-03-29T21:21:50.369868Z",
     "iopub.status.busy": "2025-03-29T21:21:50.369364Z",
     "iopub.status.idle": "2025-03-29T21:21:50.387327Z",
     "shell.execute_reply": "2025-03-29T21:21:50.386425Z"
    },
    "papermill": {
     "duration": 0.02273,
     "end_time": "2025-03-29T21:21:50.389022",
     "exception": false,
     "start_time": "2025-03-29T21:21:50.366292",
     "status": "completed"
    },
    "tags": []
   },
   "outputs": [
    {
     "name": "stdout",
     "output_type": "stream",
     "text": [
      "(90, 4)\n",
      "(90,)\n",
      "(60, 4)\n",
      "(60,)\n"
     ]
    }
   ],
   "source": [
    "iris = datasets.load_iris()\n",
    "\n",
    "# get training and testing indexes randomly\n",
    "train_indx = np.random.choice(range(0, 150), int(iris.target.shape[0]/100*60), replace=False)\n",
    "test_indx = np.array([indx for indx in np.arange(0, 150, 1) if indx not in train_indx])\n",
    "\n",
    "x_train = iris.data[train_indx, :]\n",
    "y_train = iris.target[train_indx]\n",
    "\n",
    "x_test = iris.data[test_indx, :]\n",
    "y_test = iris.target[test_indx]\n",
    "\n",
    "print(x_train.shape)\n",
    "print(y_train.shape)\n",
    "print(x_test.shape)\n",
    "print(y_test.shape)"
   ]
  },
  {
   "cell_type": "markdown",
   "id": "911a0495",
   "metadata": {
    "papermill": {
     "duration": 0.002019,
     "end_time": "2025-03-29T21:21:50.393684",
     "exception": false,
     "start_time": "2025-03-29T21:21:50.391665",
     "status": "completed"
    },
    "tags": []
   },
   "source": [
    "# (3) parameters estimation"
   ]
  },
  {
   "cell_type": "code",
   "execution_count": 3,
   "id": "8786fc69",
   "metadata": {
    "execution": {
     "iopub.execute_input": "2025-03-29T21:21:50.399481Z",
     "iopub.status.busy": "2025-03-29T21:21:50.399104Z",
     "iopub.status.idle": "2025-03-29T21:21:50.418253Z",
     "shell.execute_reply": "2025-03-29T21:21:50.417091Z"
    },
    "papermill": {
     "duration": 0.023921,
     "end_time": "2025-03-29T21:21:50.419775",
     "exception": false,
     "start_time": "2025-03-29T21:21:50.395854",
     "status": "completed"
    },
    "tags": []
   },
   "outputs": [
    {
     "name": "stdout",
     "output_type": "stream",
     "text": [
      "[5.03142857 3.5        1.46285714 0.23428571]\n",
      "[[0.11810084 0.08794118 0.02384874 0.01242017]\n",
      " [0.08794118 0.12647059 0.01411765 0.01441176]\n",
      " [0.02384874 0.01411765 0.02710924 0.00572269]\n",
      " [0.01242017 0.01441176 0.00572269 0.00878992]]\n",
      "[5.84285714 2.73571429 4.22142857 1.31071429]\n",
      "[[0.31661376 0.10952381 0.24275132 0.07100529]\n",
      " [0.10952381 0.11275132 0.11661376 0.04886243]\n",
      " [0.24275132 0.11661376 0.30100529 0.09679894]\n",
      " [0.07100529 0.04886243 0.09679894 0.04543651]]\n",
      "[6.46666667 2.93703704 5.42592593 2.05185185]\n",
      "[[0.39846154 0.11512821 0.28974359 0.06102564]\n",
      " [0.11512821 0.11011396 0.08746439 0.05185185]\n",
      " [0.28974359 0.08746439 0.28430199 0.05091168]\n",
      " [0.06102564 0.05185185 0.05091168 0.05797721]]\n"
     ]
    }
   ],
   "source": [
    "mu_0 = np.mean(x_train[y_train == 0], axis=0)\n",
    "sigma_0 = np.cov(x_train[y_train == 0], rowvar=0)\n",
    "print(mu_0)\n",
    "print(sigma_0)\n",
    "\n",
    "mu_1 = np.mean(x_train[y_train == 1], axis=0)\n",
    "sigma_1 = np.cov(x_train[y_train == 1], rowvar=0)\n",
    "print(mu_1)\n",
    "print(sigma_1)\n",
    "\n",
    "mu_2 = np.mean(x_train[y_train == 2], axis=0)\n",
    "sigma_2 = np.cov(x_train[y_train == 2], rowvar=0)\n",
    "print(mu_2)\n",
    "print(sigma_2)"
   ]
  },
  {
   "cell_type": "markdown",
   "id": "edf59313",
   "metadata": {
    "papermill": {
     "duration": 0.002116,
     "end_time": "2025-03-29T21:21:50.424461",
     "exception": false,
     "start_time": "2025-03-29T21:21:50.422345",
     "status": "completed"
    },
    "tags": []
   },
   "source": [
    "# (4) bayesian decision making"
   ]
  },
  {
   "cell_type": "code",
   "execution_count": 4,
   "id": "4bc14eb4",
   "metadata": {
    "execution": {
     "iopub.execute_input": "2025-03-29T21:21:50.429968Z",
     "iopub.status.busy": "2025-03-29T21:21:50.429659Z",
     "iopub.status.idle": "2025-03-29T21:21:50.439789Z",
     "shell.execute_reply": "2025-03-29T21:21:50.438681Z"
    },
    "papermill": {
     "duration": 0.014755,
     "end_time": "2025-03-29T21:21:50.441397",
     "exception": false,
     "start_time": "2025-03-29T21:21:50.426642",
     "status": "completed"
    },
    "tags": []
   },
   "outputs": [
    {
     "name": "stdout",
     "output_type": "stream",
     "text": [
      "Testing classification accuracy: 0.9333\n"
     ]
    }
   ],
   "source": [
    "gnb = GaussianNB()\n",
    "\n",
    "y_pred = gnb.fit(x_train, y_train).predict(x_test)\n",
    "print('Testing classification accuracy: %.4f' % ((y_test == y_pred).sum()/x_test.shape[0]))"
   ]
  }
 ],
 "metadata": {
  "anaconda-cloud": {},
  "kaggle": {
   "accelerator": "none",
   "dataSources": [],
   "dockerImageVersionId": 30918,
   "isGpuEnabled": false,
   "isInternetEnabled": true,
   "language": "python",
   "sourceType": "notebook"
  },
  "kernelspec": {
   "display_name": "Python 3",
   "language": "python",
   "name": "python3"
  },
  "language_info": {
   "codemirror_mode": {
    "name": "ipython",
    "version": 3
   },
   "file_extension": ".py",
   "mimetype": "text/x-python",
   "name": "python",
   "nbconvert_exporter": "python",
   "pygments_lexer": "ipython3",
   "version": "3.10.12"
  },
  "papermill": {
   "default_parameters": {},
   "duration": 4.81436,
   "end_time": "2025-03-29T21:21:51.063791",
   "environment_variables": {},
   "exception": null,
   "input_path": "__notebook__.ipynb",
   "output_path": "__notebook__.ipynb",
   "parameters": {},
   "start_time": "2025-03-29T21:21:46.249431",
   "version": "2.6.0"
  }
 },
 "nbformat": 4,
 "nbformat_minor": 5
}
